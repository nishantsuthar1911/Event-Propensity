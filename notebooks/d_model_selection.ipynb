{
 "cells": [
  {
   "cell_type": "markdown",
   "metadata": {},
   "source": [
    "# Event-shopping Likelihood Model\n",
    "\n",
    "## Feature selection\n",
    "\n",
    "#### In this notebook:\n",
    "* Optimize models with reduced feature sets\n",
    "* Compare model performances"
   ]
  },
  {
   "cell_type": "code",
   "execution_count": 1,
   "metadata": {
    "collapsed": true
   },
   "outputs": [],
   "source": [
    "import os \n",
    "import sys \n",
    "\n",
    "import numpy as np\n",
    "import pandas as pd"
   ]
  },
  {
   "cell_type": "code",
   "execution_count": 2,
   "metadata": {
    "collapsed": true
   },
   "outputs": [],
   "source": [
    "from sklearn.ensemble import RandomForestClassifier, GradientBoostingClassifier\n",
    "from sklearn.linear_model import SGDClassifier, LogisticRegression \n",
    "from sklearn.model_selection import GridSearchCV \n",
    "from sklearn.metrics import log_loss, roc_auc_score\n",
    "from sklearn.metrics import accuracy_score, precision_score, recall_score"
   ]
  },
  {
   "cell_type": "code",
   "execution_count": 3,
   "metadata": {
    "collapsed": true
   },
   "outputs": [],
   "source": [
    "import matplotlib.pyplot as plt\n",
    "plt.style.use('ggplot')\n",
    "\n",
    "import seaborn as sns"
   ]
  },
  {
   "cell_type": "code",
   "execution_count": 4,
   "metadata": {
    "collapsed": true
   },
   "outputs": [],
   "source": [
    "%matplotlib inline"
   ]
  },
  {
   "cell_type": "code",
   "execution_count": null,
   "metadata": {
    "collapsed": true
   },
   "outputs": [],
   "source": []
  },
  {
   "cell_type": "code",
   "execution_count": 5,
   "metadata": {
    "collapsed": true
   },
   "outputs": [],
   "source": [
    "def slow_apply(groupby, func): \n",
    "    grouper = groupby.grouper\n",
    "\n",
    "    mutated = grouper.mutated\n",
    "    splitter = grouper._get_splitter(groupby._selected_obj, groupby.axis)\n",
    "    group_keys = grouper._get_group_keys()\n",
    "\n",
    "    result_values = []\n",
    "    for key, (i, group) in zip(group_keys, splitter):\n",
    "        object.__setattr__(group, 'name', key)\n",
    "        \n",
    "        if isinstance(group, pd.Series): \n",
    "            group_axes = [group.index]\n",
    "        else: \n",
    "            group_axes = group.axes\n",
    "        \n",
    "        res = func(group)\n",
    "        \n",
    "        if not res.index.equals(group_axes[0]) or (isinstance(res, pd.Series) and len(group_axes) > 1):\n",
    "            mutated = True\n",
    "        result_values.append(res)\n",
    "        \n",
    "    return groupby._wrap_applied_output(group_keys, result_values, not_indexed_same=mutated or groupby.mutated)"
   ]
  },
  {
   "cell_type": "code",
   "execution_count": null,
   "metadata": {
    "collapsed": true
   },
   "outputs": [],
   "source": []
  },
  {
   "cell_type": "code",
   "execution_count": 6,
   "metadata": {
    "collapsed": true
   },
   "outputs": [],
   "source": [
    "key_event_slug = 'annpub17'"
   ]
  },
  {
   "cell_type": "code",
   "execution_count": 7,
   "metadata": {
    "collapsed": true
   },
   "outputs": [],
   "source": [
    "rf_train_df = pd.read_csv('../data/ep_{0}_rf_train_data.csv.gz'.format(key_event_slug), \n",
    "                          header=0, sep='|', compression='gzip')\n",
    "rf_test_df = pd.read_csv('../data/ep_{0}_rf_test_data.csv.gz'.format(key_event_slug), \n",
    "                          header=0, sep='|', compression='gzip')\n",
    "\n",
    "lr_train_df = pd.read_csv('../data/ep_{0}_lr_train_data.csv.gz'.format(key_event_slug), \n",
    "                          header=0, sep='|', compression='gzip')\n",
    "lr_test_df = pd.read_csv('../data/ep_{0}_lr_test_data.csv.gz'.format(key_event_slug), \n",
    "                          header=0, sep='|', compression='gzip')"
   ]
  },
  {
   "cell_type": "code",
   "execution_count": 8,
   "metadata": {
    "collapsed": true
   },
   "outputs": [],
   "source": [
    "rf_features = [col for col in rf_train_df.columns if col not in ['cust_key','persona','target_shopped_ind']]\n",
    "lr_features = [col for col in lr_train_df.columns if col not in ['cust_key','persona','target_shopped_ind']]"
   ]
  },
  {
   "cell_type": "code",
   "execution_count": null,
   "metadata": {
    "collapsed": true
   },
   "outputs": [],
   "source": []
  },
  {
   "cell_type": "code",
   "execution_count": 9,
   "metadata": {
    "collapsed": true
   },
   "outputs": [],
   "source": [
    "def part_grid_search(X, y, model, param_grid, label=None, scoring=None, cv=None, n_jobs=1, **model_kwargs):\n",
    "    mdl = model(**model_kwargs)\n",
    "    GSCV = GridSearchCV(estimator=mdl, param_grid=param_grid, \n",
    "                        scoring=scoring, cv=cv, n_jobs=n_jobs)\n",
    "    GSCV.fit(X, y)\n",
    "    if label is not None:\n",
    "        print label, GSCV.best_estimator_\n",
    "    else:\n",
    "        print GSCV.best_estimator_\n",
    "    return pd.DataFrame(GSCV.cv_results_)"
   ]
  },
  {
   "cell_type": "code",
   "execution_count": 10,
   "metadata": {
    "collapsed": true
   },
   "outputs": [],
   "source": [
    "def part_fit_model(X, y, model, **rf_kwargs):\n",
    "    mdl = model(**rf_kwargs)\n",
    "    mdl.fit(X, y)\n",
    "    return mdl"
   ]
  },
  {
   "cell_type": "code",
   "execution_count": 28,
   "metadata": {
    "collapsed": true
   },
   "outputs": [],
   "source": [
    "def balanced_accuracy_score(y_true, y_pred):\n",
    "    recall = (y_true*y_pred).sum()/float(y_true.sum())\n",
    "    specif = ((1-y_true)*(1-y_pred)).sum()/float((1-y_true).sum())\n",
    "    return 0.5*(recall + specif)"
   ]
  },
  {
   "cell_type": "code",
   "execution_count": 29,
   "metadata": {
    "collapsed": true
   },
   "outputs": [],
   "source": [
    "def part_score_model(X, y, fitted_model):\n",
    "    y_pred = fitted_model.predict(X)\n",
    "    y_prob = fitted_model.predict_proba(X)\n",
    "    ser = pd.Series([len(y), \n",
    "                     1-y.sum()/float(len(y)), \n",
    "                     accuracy_score(y, y_pred), \n",
    "                     precision_score(y, y_pred), \n",
    "                     recall_score(y, y_pred), \n",
    "                     balanced_accuracy_score(y, y_pred),\n",
    "                     log_loss(y, y_prob), \n",
    "                     roc_auc_score(y, y_prob[:,1])], \n",
    "                    index=['n','null_accuracy','accuracy','precision',\n",
    "                           'recall','bal_accuracy','log_loss','roc_auc'])\n",
    "    return ser"
   ]
  },
  {
   "cell_type": "code",
   "execution_count": 27,
   "metadata": {},
   "outputs": [
    {
     "name": "stdout",
     "output_type": "stream",
     "text": [
      "0.5714285714285714\n",
      "0.5714285714285714\n"
     ]
    }
   ],
   "source": [
    "y2 = np.array([0,0,0,1,1,1,1,1,1,1])\n",
    "y2p = np.array([0,0,0,0,1,1,0,1,0,1])\n",
    "y2c = np.array([1,1,1,1,1,1,1,1,1,1])\n",
    "print recall_score(y2,y2p)\n",
    "print (y2*y2p).sum()/float(y2.sum())"
   ]
  },
  {
   "cell_type": "code",
   "execution_count": 16,
   "metadata": {},
   "outputs": [
    {
     "name": "stdout",
     "output_type": "stream",
     "text": [
      "1 RandomForestClassifier(bootstrap=True, class_weight=None, criterion='gini',\n",
      "            max_depth=11, max_features='auto', max_leaf_nodes=None,\n",
      "            min_impurity_decrease=0.0, min_impurity_split=None,\n",
      "            min_samples_leaf=1, min_samples_split=2,\n",
      "            min_weight_fraction_leaf=0.0, n_estimators=200, n_jobs=1,\n",
      "            oob_score=False, random_state=None, verbose=0,\n",
      "            warm_start=False)\n",
      "2 RandomForestClassifier(bootstrap=True, class_weight=None, criterion='gini',\n",
      "            max_depth=10, max_features='auto', max_leaf_nodes=None,\n",
      "            min_impurity_decrease=0.0, min_impurity_split=None,\n",
      "            min_samples_leaf=1, min_samples_split=2,\n",
      "            min_weight_fraction_leaf=0.0, n_estimators=200, n_jobs=1,\n",
      "            oob_score=False, random_state=None, verbose=0,\n",
      "            warm_start=False)\n",
      "3 RandomForestClassifier(bootstrap=True, class_weight=None, criterion='gini',\n",
      "            max_depth=11, max_features='auto', max_leaf_nodes=None,\n",
      "            min_impurity_decrease=0.0, min_impurity_split=None,\n",
      "            min_samples_leaf=1, min_samples_split=2,\n",
      "            min_weight_fraction_leaf=0.0, n_estimators=200, n_jobs=1,\n",
      "            oob_score=False, random_state=None, verbose=0,\n",
      "            warm_start=False)\n",
      "4 RandomForestClassifier(bootstrap=True, class_weight=None, criterion='gini',\n",
      "            max_depth=12, max_features='auto', max_leaf_nodes=None,\n",
      "            min_impurity_decrease=0.0, min_impurity_split=None,\n",
      "            min_samples_leaf=1, min_samples_split=2,\n",
      "            min_weight_fraction_leaf=0.0, n_estimators=200, n_jobs=1,\n",
      "            oob_score=False, random_state=None, verbose=0,\n",
      "            warm_start=False)\n",
      "5 RandomForestClassifier(bootstrap=True, class_weight=None, criterion='gini',\n",
      "            max_depth=9, max_features='auto', max_leaf_nodes=None,\n",
      "            min_impurity_decrease=0.0, min_impurity_split=None,\n",
      "            min_samples_leaf=1, min_samples_split=2,\n",
      "            min_weight_fraction_leaf=0.0, n_estimators=200, n_jobs=1,\n",
      "            oob_score=False, random_state=None, verbose=0,\n",
      "            warm_start=False)\n",
      "CPU times: user 1min 2s, sys: 1.67 s, total: 1min 4s\n",
      "Wall time: 23min 29s\n"
     ]
    }
   ],
   "source": [
    "%%time \n",
    "\n",
    "rf_param_grid = {'max_depth': range(5,20)}\n",
    "\n",
    "cv_rfg = slow_apply(rf_train_df.groupby('persona'), \n",
    "                    lambda g: part_grid_search(g[rf_features].dropna(axis=1, how='all'), \n",
    "                                               g['target_shopped_ind'], \n",
    "                                               RandomForestClassifier, rf_param_grid, g.name, \n",
    "                                               scoring='neg_log_loss', cv=5, n_jobs=-1, \n",
    "                                               n_estimators=200, criterion='gini'))"
   ]
  },
  {
   "cell_type": "code",
   "execution_count": null,
   "metadata": {
    "collapsed": true
   },
   "outputs": [],
   "source": []
  },
  {
   "cell_type": "code",
   "execution_count": 17,
   "metadata": {},
   "outputs": [
    {
     "data": {
      "image/png": "[encoded data removed]",
      "text/plain": [
       "<matplotlib.figure.Figure at 0x10787bbd0>"
      ]
     },
     "metadata": {},
     "output_type": "display_data"
    }
   ],
   "source": [
    "fig,axs = plt.subplots(nrows=2, ncols=3, figsize=(12,8))\n",
    "palette = sns.color_palette()\n",
    "\n",
    "for i in xrange(6):\n",
    "    p = i+1\n",
    "    try: \n",
    "        cv_rfg_p = cv_rfg.xs(p, level='persona')\n",
    "        axs[i//3,i%3].errorbar(cv_rfg_p['params'].map(lambda d: d['max_depth']), \n",
    "                               cv_rfg_p['mean_test_score'], \n",
    "                               fmt='o', \n",
    "                               capsize=3, \n",
    "                               yerr=cv_rfg_p['std_test_score'], \n",
    "                               color=palette[i])\n",
    "        axs[i//3,i%3].set_title('Persona {}'.format(p))\n",
    "    except KeyError:\n",
    "        axs[i//3,i%3].set_axis_off()\n",
    "    if i//3 == 1:\n",
    "        axs[i//3,i%3].set_xlabel('max_depth')\n",
    "    if i%3 == 0:\n",
    "        axs[i//3,i%3].set_ylabel('neg_log_loss')"
   ]
  },
  {
   "cell_type": "code",
   "execution_count": 18,
   "metadata": {},
   "outputs": [
    {
     "data": {
      "text/plain": [
       "{1: {'max_depth': 11},\n",
       " 2: {'max_depth': 10},\n",
       " 3: {'max_depth': 11},\n",
       " 4: {'max_depth': 12},\n",
       " 5: {'max_depth': 9}}"
      ]
     },
     "execution_count": 18,
     "metadata": {},
     "output_type": "execute_result"
    }
   ],
   "source": [
    "rfg_best_params = cv_rfg.loc[cv_rfg['rank_test_score']==1,'params'].reset_index(level=1, drop=True).to_dict()\n",
    "rfg_best_params"
   ]
  },
  {
   "cell_type": "code",
   "execution_count": 15,
   "metadata": {},
   "outputs": [
    {
     "data": {
      "text/plain": [
       "{1: {'max_depth': 11},\n",
       " 2: {'max_depth': 9},\n",
       " 3: {'max_depth': 13},\n",
       " 4: {'max_depth': 10},\n",
       " 5: {'max_depth': 8}}"
      ]
     },
     "execution_count": 15,
     "metadata": {},
     "output_type": "execute_result"
    }
   ],
   "source": [
    "rf_best_params"
   ]
  },
  {
   "cell_type": "code",
   "execution_count": 19,
   "metadata": {
    "collapsed": true
   },
   "outputs": [],
   "source": [
    "rf_max_depth = {1: 11, 2: 10, 3: 11, 4: 12, 5: 9}\n",
    "\n",
    "rfgs = rf_train_df.groupby('persona').apply(\n",
    "    lambda g: part_fit_model(g[rf_features].dropna(axis=1, how='all'), \n",
    "                             g['target_shopped_ind'], RandomForestClassifier, \n",
    "                             n_estimators=200, random_state=2301+g.name, \n",
    "                             n_jobs=-1, oob_score=True, criterion='gini',\n",
    "                             max_depth=rf_max_depth[g.name]) #**rf_best_params[g.name])\n",
    "    ).to_dict()"
   ]
  },
  {
   "cell_type": "code",
   "execution_count": 22,
   "metadata": {
    "collapsed": true
   },
   "outputs": [],
   "source": [
    "rfg_scores = rf_test_df.groupby('persona').apply(\n",
    "    lambda g: part_score_model(g[rf_features].dropna(axis=1, how='all'), \n",
    "                               g['target_shopped_ind'], rfgs[g.name])\n",
    "    )"
   ]
  },
  {
   "cell_type": "code",
   "execution_count": 24,
   "metadata": {},
   "outputs": [
    {
     "data": {
      "text/html": [
       "<div>\n",
       "<style scoped>\n",
       "    .dataframe tbody tr th:only-of-type {\n",
       "        vertical-align: middle;\n",
       "    }\n",
       "\n",
       "    .dataframe tbody tr th {\n",
       "        vertical-align: top;\n",
       "    }\n",
       "\n",
       "    .dataframe thead th {\n",
       "        text-align: right;\n",
       "    }\n",
       "</style>\n",
       "<table border=\"1\" class=\"dataframe\">\n",
       "  <thead>\n",
       "    <tr style=\"text-align: right;\">\n",
       "      <th></th>\n",
       "      <th>n</th>\n",
       "      <th>null_accuracy</th>\n",
       "      <th>accuracy</th>\n",
       "      <th>precision</th>\n",
       "      <th>recall</th>\n",
       "      <th>log_loss</th>\n",
       "      <th>roc_auc</th>\n",
       "    </tr>\n",
       "    <tr>\n",
       "      <th>persona</th>\n",
       "      <th></th>\n",
       "      <th></th>\n",
       "      <th></th>\n",
       "      <th></th>\n",
       "      <th></th>\n",
       "      <th></th>\n",
       "      <th></th>\n",
       "    </tr>\n",
       "  </thead>\n",
       "  <tbody>\n",
       "    <tr>\n",
       "      <th>1</th>\n",
       "      <td>15000.0</td>\n",
       "      <td>0.904267</td>\n",
       "      <td>0.906200</td>\n",
       "      <td>0.602837</td>\n",
       "      <td>0.059192</td>\n",
       "      <td>0.262063</td>\n",
       "      <td>0.795120</td>\n",
       "    </tr>\n",
       "    <tr>\n",
       "      <th>2</th>\n",
       "      <td>15000.0</td>\n",
       "      <td>0.947933</td>\n",
       "      <td>0.950133</td>\n",
       "      <td>0.657143</td>\n",
       "      <td>0.088348</td>\n",
       "      <td>0.163146</td>\n",
       "      <td>0.818129</td>\n",
       "    </tr>\n",
       "    <tr>\n",
       "      <th>3</th>\n",
       "      <td>15000.0</td>\n",
       "      <td>0.888333</td>\n",
       "      <td>0.890400</td>\n",
       "      <td>0.637168</td>\n",
       "      <td>0.042985</td>\n",
       "      <td>0.309753</td>\n",
       "      <td>0.742323</td>\n",
       "    </tr>\n",
       "    <tr>\n",
       "      <th>4</th>\n",
       "      <td>15000.0</td>\n",
       "      <td>0.768533</td>\n",
       "      <td>0.801400</td>\n",
       "      <td>0.659961</td>\n",
       "      <td>0.292915</td>\n",
       "      <td>0.443846</td>\n",
       "      <td>0.781808</td>\n",
       "    </tr>\n",
       "    <tr>\n",
       "      <th>5</th>\n",
       "      <td>15000.0</td>\n",
       "      <td>0.932333</td>\n",
       "      <td>0.932800</td>\n",
       "      <td>0.612903</td>\n",
       "      <td>0.018719</td>\n",
       "      <td>0.219467</td>\n",
       "      <td>0.745327</td>\n",
       "    </tr>\n",
       "  </tbody>\n",
       "</table>\n",
       "</div>"
      ],
      "text/plain": [
       "               n  null_accuracy  accuracy  precision    recall  log_loss  \\\n",
       "persona                                                                    \n",
       "1        15000.0       0.904267  0.906200   0.602837  0.059192  0.262063   \n",
       "2        15000.0       0.947933  0.950133   0.657143  0.088348  0.163146   \n",
       "3        15000.0       0.888333  0.890400   0.637168  0.042985  0.309753   \n",
       "4        15000.0       0.768533  0.801400   0.659961  0.292915  0.443846   \n",
       "5        15000.0       0.932333  0.932800   0.612903  0.018719  0.219467   \n",
       "\n",
       "          roc_auc  \n",
       "persona            \n",
       "1        0.795120  \n",
       "2        0.818129  \n",
       "3        0.742323  \n",
       "4        0.781808  \n",
       "5        0.745327  "
      ]
     },
     "execution_count": 24,
     "metadata": {},
     "output_type": "execute_result"
    }
   ],
   "source": [
    "rfg_scores"
   ]
  },
  {
   "cell_type": "code",
   "execution_count": null,
   "metadata": {
    "collapsed": true
   },
   "outputs": [],
   "source": []
  },
  {
   "cell_type": "code",
   "execution_count": 25,
   "metadata": {},
   "outputs": [
    {
     "name": "stdout",
     "output_type": "stream",
     "text": [
      "1 RandomForestClassifier(bootstrap=True, class_weight=None, criterion='entropy',\n",
      "            max_depth=11, max_features='auto', max_leaf_nodes=None,\n",
      "            min_impurity_decrease=0.0, min_impurity_split=None,\n",
      "            min_samples_leaf=1, min_samples_split=2,\n",
      "            min_weight_fraction_leaf=0.0, n_estimators=200, n_jobs=1,\n",
      "            oob_score=False, random_state=None, verbose=0,\n",
      "            warm_start=False)\n",
      "2 RandomForestClassifier(bootstrap=True, class_weight=None, criterion='entropy',\n",
      "            max_depth=10, max_features='auto', max_leaf_nodes=None,\n",
      "            min_impurity_decrease=0.0, min_impurity_split=None,\n",
      "            min_samples_leaf=1, min_samples_split=2,\n",
      "            min_weight_fraction_leaf=0.0, n_estimators=200, n_jobs=1,\n",
      "            oob_score=False, random_state=None, verbose=0,\n",
      "            warm_start=False)\n",
      "3 RandomForestClassifier(bootstrap=True, class_weight=None, criterion='entropy',\n",
      "            max_depth=13, max_features='auto', max_leaf_nodes=None,\n",
      "            min_impurity_decrease=0.0, min_impurity_split=None,\n",
      "            min_samples_leaf=1, min_samples_split=2,\n",
      "            min_weight_fraction_leaf=0.0, n_estimators=200, n_jobs=1,\n",
      "            oob_score=False, random_state=None, verbose=0,\n",
      "            warm_start=False)\n",
      "4 RandomForestClassifier(bootstrap=True, class_weight=None, criterion='entropy',\n",
      "            max_depth=11, max_features='auto', max_leaf_nodes=None,\n",
      "            min_impurity_decrease=0.0, min_impurity_split=None,\n",
      "            min_samples_leaf=1, min_samples_split=2,\n",
      "            min_weight_fraction_leaf=0.0, n_estimators=200, n_jobs=1,\n",
      "            oob_score=False, random_state=None, verbose=0,\n",
      "            warm_start=False)\n",
      "5 RandomForestClassifier(bootstrap=True, class_weight=None, criterion='entropy',\n",
      "            max_depth=10, max_features='auto', max_leaf_nodes=None,\n",
      "            min_impurity_decrease=0.0, min_impurity_split=None,\n",
      "            min_samples_leaf=1, min_samples_split=2,\n",
      "            min_weight_fraction_leaf=0.0, n_estimators=200, n_jobs=1,\n",
      "            oob_score=False, random_state=None, verbose=0,\n",
      "            warm_start=False)\n",
      "CPU times: user 1min 18s, sys: 1.98 s, total: 1min 20s\n",
      "Wall time: 28min 46s\n"
     ]
    }
   ],
   "source": [
    "%%time \n",
    "\n",
    "rf_param_grid = {'max_depth': range(5,20)}\n",
    "\n",
    "cv_rfe = slow_apply(rf_train_df.groupby('persona'), \n",
    "                    lambda g: part_grid_search(g[rf_features].dropna(axis=1, how='all'), \n",
    "                                               g['target_shopped_ind'], \n",
    "                                               RandomForestClassifier, rf_param_grid, g.name, \n",
    "                                               scoring='neg_log_loss', cv=5, n_jobs=-1, \n",
    "                                               n_estimators=200, criterion='entropy'))"
   ]
  },
  {
   "cell_type": "code",
   "execution_count": 26,
   "metadata": {},
   "outputs": [
    {
     "data": {
      "image/png": "[encoded data removed]",
      "text/plain": [
       "<matplotlib.figure.Figure at 0x108422390>"
      ]
     },
     "metadata": {},
     "output_type": "display_data"
    }
   ],
   "source": [
    "fig,axs = plt.subplots(nrows=2, ncols=3, figsize=(12,8))\n",
    "palette = sns.color_palette()\n",
    "\n",
    "for i in xrange(6):\n",
    "    p = i+1\n",
    "    try: \n",
    "        cv_rfe_p = cv_rfe.xs(p, level='persona')\n",
    "        axs[i//3,i%3].errorbar(cv_rfe_p['params'].map(lambda d: d['max_depth']), \n",
    "                               cv_rfe_p['mean_test_score'], \n",
    "                               fmt='o', \n",
    "                               capsize=3, \n",
    "                               yerr=cv_rfe_p['std_test_score'], \n",
    "                               color=palette[i])\n",
    "        axs[i//3,i%3].set_title('Persona {}'.format(p))\n",
    "    except KeyError:\n",
    "        axs[i//3,i%3].set_axis_off()\n",
    "    if i//3 == 1:\n",
    "        axs[i//3,i%3].set_xlabel('max_depth')\n",
    "    if i%3 == 0:\n",
    "        axs[i//3,i%3].set_ylabel('neg_log_loss')"
   ]
  },
  {
   "cell_type": "code",
   "execution_count": 28,
   "metadata": {},
   "outputs": [
    {
     "data": {
      "text/plain": [
       "{1: {'max_depth': 11},\n",
       " 2: {'max_depth': 10},\n",
       " 3: {'max_depth': 13},\n",
       " 4: {'max_depth': 11},\n",
       " 5: {'max_depth': 10}}"
      ]
     },
     "execution_count": 28,
     "metadata": {},
     "output_type": "execute_result"
    }
   ],
   "source": [
    "rfe_best_params = cv_rfe.loc[cv_rfe['rank_test_score']==1,'params'].reset_index(level=1, drop=True).to_dict()\n",
    "rfe_best_params"
   ]
  },
  {
   "cell_type": "code",
   "execution_count": 29,
   "metadata": {
    "collapsed": true
   },
   "outputs": [],
   "source": [
    "#rf_max_depth = {1: 11, 2: 10, 3: 11, 4: 12, 5: 9}\n",
    "\n",
    "rfes = rf_train_df.groupby('persona').apply(\n",
    "    lambda g: part_fit_model(g[rf_features].dropna(axis=1, how='all'), \n",
    "                             g['target_shopped_ind'], RandomForestClassifier, \n",
    "                             n_estimators=200, random_state=2351+g.name, \n",
    "                             n_jobs=-1, oob_score=True, criterion='entropy',\n",
    "                             **rfe_best_params[g.name])\n",
    "    ).to_dict()"
   ]
  },
  {
   "cell_type": "code",
   "execution_count": 30,
   "metadata": {
    "collapsed": true
   },
   "outputs": [],
   "source": [
    "rfe_scores = rf_test_df.groupby('persona').apply(\n",
    "    lambda g: part_score_model(g[rf_features].dropna(axis=1, how='all'), \n",
    "                               g['target_shopped_ind'], rfes[g.name])\n",
    "    )"
   ]
  },
  {
   "cell_type": "code",
   "execution_count": 31,
   "metadata": {},
   "outputs": [
    {
     "data": {
      "text/html": [
       "<div>\n",
       "<style scoped>\n",
       "    .dataframe tbody tr th:only-of-type {\n",
       "        vertical-align: middle;\n",
       "    }\n",
       "\n",
       "    .dataframe tbody tr th {\n",
       "        vertical-align: top;\n",
       "    }\n",
       "\n",
       "    .dataframe thead th {\n",
       "        text-align: right;\n",
       "    }\n",
       "</style>\n",
       "<table border=\"1\" class=\"dataframe\">\n",
       "  <thead>\n",
       "    <tr style=\"text-align: right;\">\n",
       "      <th></th>\n",
       "      <th>n</th>\n",
       "      <th>null_accuracy</th>\n",
       "      <th>accuracy</th>\n",
       "      <th>precision</th>\n",
       "      <th>recall</th>\n",
       "      <th>log_loss</th>\n",
       "      <th>roc_auc</th>\n",
       "    </tr>\n",
       "    <tr>\n",
       "      <th>persona</th>\n",
       "      <th></th>\n",
       "      <th></th>\n",
       "      <th></th>\n",
       "      <th></th>\n",
       "      <th></th>\n",
       "      <th></th>\n",
       "      <th></th>\n",
       "    </tr>\n",
       "  </thead>\n",
       "  <tbody>\n",
       "    <tr>\n",
       "      <th>1</th>\n",
       "      <td>15000.0</td>\n",
       "      <td>0.904267</td>\n",
       "      <td>0.907133</td>\n",
       "      <td>0.650350</td>\n",
       "      <td>0.064763</td>\n",
       "      <td>0.261745</td>\n",
       "      <td>0.795477</td>\n",
       "    </tr>\n",
       "    <tr>\n",
       "      <th>2</th>\n",
       "      <td>15000.0</td>\n",
       "      <td>0.947933</td>\n",
       "      <td>0.950200</td>\n",
       "      <td>0.673469</td>\n",
       "      <td>0.084507</td>\n",
       "      <td>0.162982</td>\n",
       "      <td>0.819091</td>\n",
       "    </tr>\n",
       "    <tr>\n",
       "      <th>3</th>\n",
       "      <td>15000.0</td>\n",
       "      <td>0.888333</td>\n",
       "      <td>0.891067</td>\n",
       "      <td>0.688073</td>\n",
       "      <td>0.044776</td>\n",
       "      <td>0.308769</td>\n",
       "      <td>0.743519</td>\n",
       "    </tr>\n",
       "    <tr>\n",
       "      <th>4</th>\n",
       "      <td>15000.0</td>\n",
       "      <td>0.768533</td>\n",
       "      <td>0.801267</td>\n",
       "      <td>0.661833</td>\n",
       "      <td>0.289171</td>\n",
       "      <td>0.442909</td>\n",
       "      <td>0.783069</td>\n",
       "    </tr>\n",
       "    <tr>\n",
       "      <th>5</th>\n",
       "      <td>15000.0</td>\n",
       "      <td>0.932333</td>\n",
       "      <td>0.932733</td>\n",
       "      <td>0.600000</td>\n",
       "      <td>0.017734</td>\n",
       "      <td>0.218496</td>\n",
       "      <td>0.749516</td>\n",
       "    </tr>\n",
       "  </tbody>\n",
       "</table>\n",
       "</div>"
      ],
      "text/plain": [
       "               n  null_accuracy  accuracy  precision    recall  log_loss  \\\n",
       "persona                                                                    \n",
       "1        15000.0       0.904267  0.907133   0.650350  0.064763  0.261745   \n",
       "2        15000.0       0.947933  0.950200   0.673469  0.084507  0.162982   \n",
       "3        15000.0       0.888333  0.891067   0.688073  0.044776  0.308769   \n",
       "4        15000.0       0.768533  0.801267   0.661833  0.289171  0.442909   \n",
       "5        15000.0       0.932333  0.932733   0.600000  0.017734  0.218496   \n",
       "\n",
       "          roc_auc  \n",
       "persona            \n",
       "1        0.795477  \n",
       "2        0.819091  \n",
       "3        0.743519  \n",
       "4        0.783069  \n",
       "5        0.749516  "
      ]
     },
     "execution_count": 31,
     "metadata": {},
     "output_type": "execute_result"
    }
   ],
   "source": [
    "rfe_scores"
   ]
  },
  {
   "cell_type": "code",
   "execution_count": null,
   "metadata": {
    "collapsed": true
   },
   "outputs": [],
   "source": []
  },
  {
   "cell_type": "code",
   "execution_count": 32,
   "metadata": {},
   "outputs": [
    {
     "name": "stdout",
     "output_type": "stream",
     "text": [
      "1 SGDClassifier(alpha=0.001, average=False, class_weight=None, epsilon=0.1,\n",
      "       eta0=0.0, fit_intercept=True, l1_ratio=0.2, learning_rate='optimal',\n",
      "       loss='log', max_iter=1000, n_iter=None, n_jobs=1,\n",
      "       penalty='elasticnet', power_t=0.5, random_state=None, shuffle=True,\n",
      "       tol=None, verbose=0, warm_start=False)\n"
     ]
    },
    {
     "name": "stderr",
     "output_type": "stream",
     "text": [
      "/Users/c01f/.virtualenvs/devel/lib/python2.7/site-packages/sklearn/linear_model/base.py:340: RuntimeWarning: overflow encountered in exp\n",
      "  np.exp(prob, prob)\n",
      "/Users/c01f/.virtualenvs/devel/lib/python2.7/site-packages/sklearn/linear_model/base.py:340: RuntimeWarning: overflow encountered in exp\n",
      "  np.exp(prob, prob)\n"
     ]
    },
    {
     "name": "stdout",
     "output_type": "stream",
     "text": [
      "2 SGDClassifier(alpha=0.001, average=False, class_weight=None, epsilon=0.1,\n",
      "       eta0=0.0, fit_intercept=True, l1_ratio=0.5, learning_rate='optimal',\n",
      "       loss='log', max_iter=1000, n_iter=None, n_jobs=1,\n",
      "       penalty='elasticnet', power_t=0.5, random_state=None, shuffle=True,\n",
      "       tol=None, verbose=0, warm_start=False)\n",
      "3 SGDClassifier(alpha=0.001, average=False, class_weight=None, epsilon=0.1,\n",
      "       eta0=0.0, fit_intercept=True, l1_ratio=0.1, learning_rate='optimal',\n",
      "       loss='log', max_iter=1000, n_iter=None, n_jobs=1,\n",
      "       penalty='elasticnet', power_t=0.5, random_state=None, shuffle=True,\n",
      "       tol=None, verbose=0, warm_start=False)\n",
      "4 SGDClassifier(alpha=0.001, average=False, class_weight=None, epsilon=0.1,\n",
      "       eta0=0.0, fit_intercept=True, l1_ratio=0.4, learning_rate='optimal',\n",
      "       loss='log', max_iter=1000, n_iter=None, n_jobs=1,\n",
      "       penalty='elasticnet', power_t=0.5, random_state=None, shuffle=True,\n",
      "       tol=None, verbose=0, warm_start=False)\n",
      "5 SGDClassifier(alpha=0.001, average=False, class_weight=None, epsilon=0.1,\n",
      "       eta0=0.0, fit_intercept=True, l1_ratio=0.4, learning_rate='optimal',\n",
      "       loss='log', max_iter=1000, n_iter=None, n_jobs=1,\n",
      "       penalty='elasticnet', power_t=0.5, random_state=None, shuffle=True,\n",
      "       tol=None, verbose=0, warm_start=False)\n",
      "CPU times: user 2min 5s, sys: 4.46 s, total: 2min 9s\n",
      "Wall time: 1h 51min 15s\n"
     ]
    }
   ],
   "source": [
    "%%time \n",
    "\n",
    "lr_param_grid = {'alpha': np.logspace(-5,-1,5), \n",
    "                 'l1_ratio': np.linspace(0,1,11)}\n",
    "\n",
    "cv_sgd = slow_apply(lr_train_df.groupby('persona'), \n",
    "                    lambda g: part_grid_search(g[lr_features].dropna(axis=1, how='all'), \n",
    "                                               g['target_shopped_ind'], \n",
    "                                               SGDClassifier, lr_param_grid, g.name, \n",
    "                                               scoring='neg_log_loss', cv=5, n_jobs=-1, \n",
    "                                               loss='log', penalty='elasticnet', \n",
    "                                               max_iter=1000))"
   ]
  },
  {
   "cell_type": "code",
   "execution_count": 33,
   "metadata": {
    "collapsed": true
   },
   "outputs": [],
   "source": [
    "sgd_best_params = cv_sgd.loc[cv_sgd['rank_test_score'] == 1,'params'].reset_index(level=1, drop=True).to_dict()"
   ]
  },
  {
   "cell_type": "code",
   "execution_count": 34,
   "metadata": {},
   "outputs": [
    {
     "data": {
      "text/plain": [
       "{1: {'alpha': 0.001, 'l1_ratio': 0.2},\n",
       " 2: {'alpha': 0.001, 'l1_ratio': 0.5},\n",
       " 3: {'alpha': 0.001, 'l1_ratio': 0.1},\n",
       " 4: {'alpha': 0.001, 'l1_ratio': 0.4},\n",
       " 5: {'alpha': 0.001, 'l1_ratio': 0.4}}"
      ]
     },
     "execution_count": 34,
     "metadata": {},
     "output_type": "execute_result"
    }
   ],
   "source": [
    "sgd_best_params"
   ]
  },
  {
   "cell_type": "code",
   "execution_count": 30,
   "metadata": {
    "collapsed": true
   },
   "outputs": [],
   "source": [
    "sgd_best_params_orig = cv_sgd.loc[cv_sgd['rank_test_score'] == 1,'params'].reset_index(level=1, drop=True).to_dict()"
   ]
  },
  {
   "cell_type": "code",
   "execution_count": 35,
   "metadata": {},
   "outputs": [
    {
     "data": {
      "image/png": "[encoded data removed]",
      "text/plain": [
       "<matplotlib.figure.Figure at 0x108f91290>"
      ]
     },
     "metadata": {},
     "output_type": "display_data"
    }
   ],
   "source": [
    "fig,axs = plt.subplots(nrows=2, ncols=3, figsize=(12,8))\n",
    "palette = sns.color_palette()\n",
    "\n",
    "for i in xrange(6):\n",
    "    p = i+1\n",
    "    try: \n",
    "        cv_sgd_p = cv_sgd.xs(p, level='persona')\n",
    "        cv_sgd_p = cv_sgd_p.loc[cv_sgd_p['params'].map(lambda d: d['alpha']) == sgd_best_params[p]['alpha']]\n",
    "        axs[i//3,i%3].errorbar(cv_sgd_p['params'].map(lambda d: d['l1_ratio']), \n",
    "                               cv_sgd_p['mean_test_score'], \n",
    "                               fmt='o', \n",
    "                               capsize=3, \n",
    "                               yerr=cv_sgd_p['std_test_score'], \n",
    "                               color=palette[i])\n",
    "        axs[i//3,i%3].set_title('Persona {}'.format(p))\n",
    "    except KeyError:\n",
    "        axs[i//3,i%3].set_axis_off()\n",
    "    if i//3 == 1:\n",
    "        axs[i//3,i%3].set_xlabel('l1_ratio')\n",
    "    if i%3 == 0:\n",
    "        axs[i//3,i%3].set_ylabel('neg_log_loss')"
   ]
  },
  {
   "cell_type": "code",
   "execution_count": 36,
   "metadata": {},
   "outputs": [
    {
     "data": {
      "image/png": "[encoded data removed]",
      "text/plain": [
       "<matplotlib.figure.Figure at 0x108f3fe50>"
      ]
     },
     "metadata": {},
     "output_type": "display_data"
    }
   ],
   "source": [
    "fig,axs = plt.subplots(nrows=2, ncols=3, figsize=(12,8))\n",
    "palette = sns.color_palette()\n",
    "\n",
    "for i in xrange(6):\n",
    "    p = i+1\n",
    "    try: \n",
    "        cv_sgd_p = cv_sgd.xs(p, level='persona')\n",
    "        cv_sgd_p = cv_sgd_p.loc[cv_sgd_p['params'].map(lambda d: d['l1_ratio']) == sgd_best_params[p]['l1_ratio']]\n",
    "        axs[i//3,i%3].errorbar(np.log10(cv_sgd_p['params'].map(lambda d: d['alpha'])), \n",
    "                               cv_sgd_p['mean_test_score'], \n",
    "                               fmt='o', \n",
    "                               capsize=3, \n",
    "                               yerr=cv_sgd_p['std_test_score'], \n",
    "                               color=palette[i])\n",
    "        axs[i//3,i%3].set_title('Persona {}'.format(p))\n",
    "    except KeyError:\n",
    "        axs[i//3,i%3].set_axis_off()\n",
    "    if i//3 == 1:\n",
    "        axs[i//3,i%3].set_xlabel('log10 of alpha')\n",
    "    if i%3 == 0:\n",
    "        axs[i//3,i%3].set_ylabel('neg_log_loss')"
   ]
  },
  {
   "cell_type": "code",
   "execution_count": 37,
   "metadata": {
    "collapsed": true
   },
   "outputs": [],
   "source": [
    "sgdcs = lr_train_df.groupby('persona').apply(\n",
    "    lambda g: part_fit_model(g[lr_features].dropna(axis=1, how='all'), \n",
    "                             g['target_shopped_ind'], SGDClassifier, \n",
    "                             loss='log', penalty='elasticnet', max_iter=1000, \n",
    "                             random_state=3301+g.name, n_jobs=-1, \n",
    "                             alpha=0.001, l1_ratio=0.4)\n",
    "                             #**sgd_best_params[g.name])\n",
    "    ).to_dict()"
   ]
  },
  {
   "cell_type": "code",
   "execution_count": 38,
   "metadata": {
    "collapsed": true
   },
   "outputs": [],
   "source": [
    "lr_scores = lr_test_df.groupby('persona').apply(\n",
    "    lambda g: part_score_model(g[lr_features].dropna(axis=1, how='all'), \n",
    "                               g['target_shopped_ind'], sgdcs[g.name])\n",
    "    )"
   ]
  },
  {
   "cell_type": "code",
   "execution_count": 39,
   "metadata": {
    "scrolled": true
   },
   "outputs": [
    {
     "data": {
      "text/html": [
       "<div>\n",
       "<style scoped>\n",
       "    .dataframe tbody tr th:only-of-type {\n",
       "        vertical-align: middle;\n",
       "    }\n",
       "\n",
       "    .dataframe tbody tr th {\n",
       "        vertical-align: top;\n",
       "    }\n",
       "\n",
       "    .dataframe thead th {\n",
       "        text-align: right;\n",
       "    }\n",
       "</style>\n",
       "<table border=\"1\" class=\"dataframe\">\n",
       "  <thead>\n",
       "    <tr style=\"text-align: right;\">\n",
       "      <th></th>\n",
       "      <th>n</th>\n",
       "      <th>null_accuracy</th>\n",
       "      <th>accuracy</th>\n",
       "      <th>precision</th>\n",
       "      <th>recall</th>\n",
       "      <th>log_loss</th>\n",
       "      <th>roc_auc</th>\n",
       "    </tr>\n",
       "    <tr>\n",
       "      <th>persona</th>\n",
       "      <th></th>\n",
       "      <th></th>\n",
       "      <th></th>\n",
       "      <th></th>\n",
       "      <th></th>\n",
       "      <th></th>\n",
       "      <th></th>\n",
       "    </tr>\n",
       "  </thead>\n",
       "  <tbody>\n",
       "    <tr>\n",
       "      <th>1</th>\n",
       "      <td>15000.0</td>\n",
       "      <td>0.904267</td>\n",
       "      <td>0.905933</td>\n",
       "      <td>0.555066</td>\n",
       "      <td>0.087744</td>\n",
       "      <td>0.263876</td>\n",
       "      <td>0.790237</td>\n",
       "    </tr>\n",
       "    <tr>\n",
       "      <th>2</th>\n",
       "      <td>15000.0</td>\n",
       "      <td>0.947933</td>\n",
       "      <td>0.949867</td>\n",
       "      <td>0.578378</td>\n",
       "      <td>0.137004</td>\n",
       "      <td>0.164402</td>\n",
       "      <td>0.817328</td>\n",
       "    </tr>\n",
       "    <tr>\n",
       "      <th>3</th>\n",
       "      <td>15000.0</td>\n",
       "      <td>0.888333</td>\n",
       "      <td>0.891533</td>\n",
       "      <td>0.630435</td>\n",
       "      <td>0.069254</td>\n",
       "      <td>0.307976</td>\n",
       "      <td>0.744744</td>\n",
       "    </tr>\n",
       "    <tr>\n",
       "      <th>4</th>\n",
       "      <td>15000.0</td>\n",
       "      <td>0.768533</td>\n",
       "      <td>0.801467</td>\n",
       "      <td>0.637989</td>\n",
       "      <td>0.328917</td>\n",
       "      <td>0.442742</td>\n",
       "      <td>0.782943</td>\n",
       "    </tr>\n",
       "    <tr>\n",
       "      <th>5</th>\n",
       "      <td>15000.0</td>\n",
       "      <td>0.932333</td>\n",
       "      <td>0.932933</td>\n",
       "      <td>0.567164</td>\n",
       "      <td>0.037438</td>\n",
       "      <td>0.216702</td>\n",
       "      <td>0.759747</td>\n",
       "    </tr>\n",
       "  </tbody>\n",
       "</table>\n",
       "</div>"
      ],
      "text/plain": [
       "               n  null_accuracy  accuracy  precision    recall  log_loss  \\\n",
       "persona                                                                    \n",
       "1        15000.0       0.904267  0.905933   0.555066  0.087744  0.263876   \n",
       "2        15000.0       0.947933  0.949867   0.578378  0.137004  0.164402   \n",
       "3        15000.0       0.888333  0.891533   0.630435  0.069254  0.307976   \n",
       "4        15000.0       0.768533  0.801467   0.637989  0.328917  0.442742   \n",
       "5        15000.0       0.932333  0.932933   0.567164  0.037438  0.216702   \n",
       "\n",
       "          roc_auc  \n",
       "persona            \n",
       "1        0.790237  \n",
       "2        0.817328  \n",
       "3        0.744744  \n",
       "4        0.782943  \n",
       "5        0.759747  "
      ]
     },
     "execution_count": 39,
     "metadata": {},
     "output_type": "execute_result"
    }
   ],
   "source": [
    "lr_scores"
   ]
  },
  {
   "cell_type": "code",
   "execution_count": null,
   "metadata": {
    "collapsed": true
   },
   "outputs": [],
   "source": []
  },
  {
   "cell_type": "code",
   "execution_count": 12,
   "metadata": {},
   "outputs": [
    {
     "name": "stdout",
     "output_type": "stream",
     "text": [
      "1 LogisticRegression(C=0.1, class_weight=None, dual=False, fit_intercept=True,\n",
      "          intercept_scaling=1, max_iter=100, multi_class='ovr', n_jobs=1,\n",
      "          penalty='l1', random_state=None, solver='saga', tol=0.0001,\n",
      "          verbose=0, warm_start=False)\n"
     ]
    },
    {
     "name": "stderr",
     "output_type": "stream",
     "text": [
      "/Users/c01f/.virtualenvs/devel/lib/python2.7/site-packages/sklearn/utils/deprecation.py:122: FutureWarning: You are accessing a training score ('mean_train_score'), which will not be available by default any more in 0.21. If you need training scores, please set return_train_score=True\n",
      "  warnings.warn(*warn_args, **warn_kwargs)\n",
      "/Users/c01f/.virtualenvs/devel/lib/python2.7/site-packages/sklearn/utils/deprecation.py:122: FutureWarning: You are accessing a training score ('split0_train_score'), which will not be available by default any more in 0.21. If you need training scores, please set return_train_score=True\n",
      "  warnings.warn(*warn_args, **warn_kwargs)\n",
      "/Users/c01f/.virtualenvs/devel/lib/python2.7/site-packages/sklearn/utils/deprecation.py:122: FutureWarning: You are accessing a training score ('split1_train_score'), which will not be available by default any more in 0.21. If you need training scores, please set return_train_score=True\n",
      "  warnings.warn(*warn_args, **warn_kwargs)\n",
      "/Users/c01f/.virtualenvs/devel/lib/python2.7/site-packages/sklearn/utils/deprecation.py:122: FutureWarning: You are accessing a training score ('split2_train_score'), which will not be available by default any more in 0.21. If you need training scores, please set return_train_score=True\n",
      "  warnings.warn(*warn_args, **warn_kwargs)\n",
      "/Users/c01f/.virtualenvs/devel/lib/python2.7/site-packages/sklearn/utils/deprecation.py:122: FutureWarning: You are accessing a training score ('split3_train_score'), which will not be available by default any more in 0.21. If you need training scores, please set return_train_score=True\n",
      "  warnings.warn(*warn_args, **warn_kwargs)\n",
      "/Users/c01f/.virtualenvs/devel/lib/python2.7/site-packages/sklearn/utils/deprecation.py:122: FutureWarning: You are accessing a training score ('split4_train_score'), which will not be available by default any more in 0.21. If you need training scores, please set return_train_score=True\n",
      "  warnings.warn(*warn_args, **warn_kwargs)\n",
      "/Users/c01f/.virtualenvs/devel/lib/python2.7/site-packages/sklearn/utils/deprecation.py:122: FutureWarning: You are accessing a training score ('std_train_score'), which will not be available by default any more in 0.21. If you need training scores, please set return_train_score=True\n",
      "  warnings.warn(*warn_args, **warn_kwargs)\n",
      "/Users/c01f/.virtualenvs/devel/lib/python2.7/site-packages/sklearn/linear_model/sag.py:326: ConvergenceWarning: The max_iter was reached which means the coef_ did not converge\n",
      "  \"the coef_ did not converge\", ConvergenceWarning)\n",
      "/Users/c01f/.virtualenvs/devel/lib/python2.7/site-packages/sklearn/linear_model/sag.py:326: ConvergenceWarning: The max_iter was reached which means the coef_ did not converge\n",
      "  \"the coef_ did not converge\", ConvergenceWarning)\n",
      "/Users/c01f/.virtualenvs/devel/lib/python2.7/site-packages/sklearn/linear_model/sag.py:326: ConvergenceWarning: The max_iter was reached which means the coef_ did not converge\n",
      "  \"the coef_ did not converge\", ConvergenceWarning)\n",
      "/Users/c01f/.virtualenvs/devel/lib/python2.7/site-packages/sklearn/linear_model/sag.py:326: ConvergenceWarning: The max_iter was reached which means the coef_ did not converge\n",
      "  \"the coef_ did not converge\", ConvergenceWarning)\n"
     ]
    },
    {
     "name": "stdout",
     "output_type": "stream",
     "text": [
      "2 LogisticRegression(C=0.1, class_weight=None, dual=False, fit_intercept=True,\n",
      "          intercept_scaling=1, max_iter=100, multi_class='ovr', n_jobs=1,\n",
      "          penalty='l1', random_state=None, solver='saga', tol=0.0001,\n",
      "          verbose=0, warm_start=False)\n",
      "3 LogisticRegression(C=0.1, class_weight=None, dual=False, fit_intercept=True,\n",
      "          intercept_scaling=1, max_iter=100, multi_class='ovr', n_jobs=1,\n",
      "          penalty='l1', random_state=None, solver='saga', tol=0.0001,\n",
      "          verbose=0, warm_start=False)\n",
      "4 LogisticRegression(C=0.1, class_weight=None, dual=False, fit_intercept=True,\n",
      "          intercept_scaling=1, max_iter=100, multi_class='ovr', n_jobs=1,\n",
      "          penalty='l1', random_state=None, solver='saga', tol=0.0001,\n",
      "          verbose=0, warm_start=False)\n",
      "5 LogisticRegression(C=0.1, class_weight=None, dual=False, fit_intercept=True,\n",
      "          intercept_scaling=1, max_iter=100, multi_class='ovr', n_jobs=1,\n",
      "          penalty='l1', random_state=None, solver='saga', tol=0.0001,\n",
      "          verbose=0, warm_start=False)\n",
      "CPU times: user 9.96 s, sys: 685 ms, total: 10.6 s\n",
      "Wall time: 1min 19s\n"
     ]
    }
   ],
   "source": [
    "%%time \n",
    "\n",
    "lc_param_grid = {'C': np.logspace(-3,3,7)}\n",
    "\n",
    "cv_lc = slow_apply(lr_train_df.groupby('persona'), \n",
    "                    lambda g: part_grid_search(g[lr_features].dropna(axis=1, how='all'), \n",
    "                                               g['target_shopped_ind'], \n",
    "                                               LogisticRegression, lc_param_grid, g.name, \n",
    "                                               scoring='neg_log_loss', cv=5, n_jobs=-1,\n",
    "                                               penalty='l1', solver='saga'))"
   ]
  },
  {
   "cell_type": "code",
   "execution_count": 13,
   "metadata": {},
   "outputs": [
    {
     "data": {
      "image/png": "[encoded data removed]",
      "text/plain": [
       "<matplotlib.figure.Figure at 0x1138c5f90>"
      ]
     },
     "metadata": {},
     "output_type": "display_data"
    }
   ],
   "source": [
    "fig,axs = plt.subplots(nrows=2, ncols=3, figsize=(12,8))\n",
    "palette = sns.color_palette()\n",
    "\n",
    "for i in xrange(6):\n",
    "    p = i+1\n",
    "    try: \n",
    "        cv_lc_p = cv_lc.xs(p, level='persona')\n",
    "        axs[i//3,i%3].errorbar(np.log10(cv_lc_p['params'].map(lambda d: d['C'])), \n",
    "                               cv_lc_p['mean_test_score'], \n",
    "                               fmt='o', \n",
    "                               capsize=3, \n",
    "                               yerr=cv_lc_p['std_test_score'], \n",
    "                               color=palette[i])\n",
    "        axs[i//3,i%3].set_title('Persona {}'.format(p))\n",
    "    except KeyError:\n",
    "        axs[i//3,i%3].set_axis_off()\n",
    "    if i//3 == 1:\n",
    "        axs[i//3,i%3].set_xlabel('log10 of C')\n",
    "    if i%3 == 0:\n",
    "        axs[i//3,i%3].set_ylabel('neg_log_loss')"
   ]
  },
  {
   "cell_type": "code",
   "execution_count": 14,
   "metadata": {
    "collapsed": true
   },
   "outputs": [],
   "source": [
    "lc_best_params = cv_lc.loc[cv_lc['rank_test_score']==1,'params'].reset_index(level=1, drop=True).to_dict()"
   ]
  },
  {
   "cell_type": "code",
   "execution_count": 15,
   "metadata": {
    "collapsed": true
   },
   "outputs": [],
   "source": [
    "lcs = lr_train_df.groupby('persona').apply(\n",
    "    lambda g: part_fit_model(g[lr_features].dropna(axis=1, how='all'), \n",
    "                             g['target_shopped_ind'], LogisticRegression, \n",
    "                             penalty='l1', solver='saga',\n",
    "                             random_state=4301+g.name, n_jobs=-1, \n",
    "                             C = 0.1) #**lc_best_params[g.name])\n",
    "    ).to_dict()"
   ]
  },
  {
   "cell_type": "code",
   "execution_count": 30,
   "metadata": {
    "collapsed": true
   },
   "outputs": [],
   "source": [
    "lc_scores = lr_test_df.groupby('persona').apply(\n",
    "    lambda g: part_score_model(g[lr_features].dropna(axis=1, how='all'), \n",
    "                               g['target_shopped_ind'], lcs[g.name])\n",
    "    )"
   ]
  },
  {
   "cell_type": "code",
   "execution_count": 31,
   "metadata": {},
   "outputs": [
    {
     "data": {
      "text/html": [
       "<div>\n",
       "<style scoped>\n",
       "    .dataframe tbody tr th:only-of-type {\n",
       "        vertical-align: middle;\n",
       "    }\n",
       "\n",
       "    .dataframe tbody tr th {\n",
       "        vertical-align: top;\n",
       "    }\n",
       "\n",
       "    .dataframe thead th {\n",
       "        text-align: right;\n",
       "    }\n",
       "</style>\n",
       "<table border=\"1\" class=\"dataframe\">\n",
       "  <thead>\n",
       "    <tr style=\"text-align: right;\">\n",
       "      <th></th>\n",
       "      <th>n</th>\n",
       "      <th>null_accuracy</th>\n",
       "      <th>accuracy</th>\n",
       "      <th>precision</th>\n",
       "      <th>recall</th>\n",
       "      <th>bal_accuracy</th>\n",
       "      <th>log_loss</th>\n",
       "      <th>roc_auc</th>\n",
       "    </tr>\n",
       "    <tr>\n",
       "      <th>persona</th>\n",
       "      <th></th>\n",
       "      <th></th>\n",
       "      <th></th>\n",
       "      <th></th>\n",
       "      <th></th>\n",
       "      <th></th>\n",
       "      <th></th>\n",
       "      <th></th>\n",
       "    </tr>\n",
       "  </thead>\n",
       "  <tbody>\n",
       "    <tr>\n",
       "      <th>1</th>\n",
       "      <td>15000.0</td>\n",
       "      <td>0.904267</td>\n",
       "      <td>0.905867</td>\n",
       "      <td>0.551724</td>\n",
       "      <td>0.089136</td>\n",
       "      <td>0.540735</td>\n",
       "      <td>0.263759</td>\n",
       "      <td>0.790009</td>\n",
       "    </tr>\n",
       "    <tr>\n",
       "      <th>2</th>\n",
       "      <td>15000.0</td>\n",
       "      <td>0.947933</td>\n",
       "      <td>0.949800</td>\n",
       "      <td>0.573684</td>\n",
       "      <td>0.139565</td>\n",
       "      <td>0.566934</td>\n",
       "      <td>0.164483</td>\n",
       "      <td>0.817277</td>\n",
       "    </tr>\n",
       "    <tr>\n",
       "      <th>3</th>\n",
       "      <td>15000.0</td>\n",
       "      <td>0.888333</td>\n",
       "      <td>0.891400</td>\n",
       "      <td>0.623656</td>\n",
       "      <td>0.069254</td>\n",
       "      <td>0.532000</td>\n",
       "      <td>0.307934</td>\n",
       "      <td>0.744595</td>\n",
       "    </tr>\n",
       "    <tr>\n",
       "      <th>4</th>\n",
       "      <td>15000.0</td>\n",
       "      <td>0.768533</td>\n",
       "      <td>0.801400</td>\n",
       "      <td>0.637326</td>\n",
       "      <td>0.329493</td>\n",
       "      <td>0.636511</td>\n",
       "      <td>0.442773</td>\n",
       "      <td>0.782941</td>\n",
       "    </tr>\n",
       "    <tr>\n",
       "      <th>5</th>\n",
       "      <td>15000.0</td>\n",
       "      <td>0.932333</td>\n",
       "      <td>0.932800</td>\n",
       "      <td>0.553846</td>\n",
       "      <td>0.035468</td>\n",
       "      <td>0.516697</td>\n",
       "      <td>0.216668</td>\n",
       "      <td>0.759900</td>\n",
       "    </tr>\n",
       "  </tbody>\n",
       "</table>\n",
       "</div>"
      ],
      "text/plain": [
       "               n  null_accuracy  accuracy  precision    recall  bal_accuracy  \\\n",
       "persona                                                                        \n",
       "1        15000.0       0.904267  0.905867   0.551724  0.089136      0.540735   \n",
       "2        15000.0       0.947933  0.949800   0.573684  0.139565      0.566934   \n",
       "3        15000.0       0.888333  0.891400   0.623656  0.069254      0.532000   \n",
       "4        15000.0       0.768533  0.801400   0.637326  0.329493      0.636511   \n",
       "5        15000.0       0.932333  0.932800   0.553846  0.035468      0.516697   \n",
       "\n",
       "         log_loss   roc_auc  \n",
       "persona                      \n",
       "1        0.263759  0.790009  \n",
       "2        0.164483  0.817277  \n",
       "3        0.307934  0.744595  \n",
       "4        0.442773  0.782941  \n",
       "5        0.216668  0.759900  "
      ]
     },
     "execution_count": 31,
     "metadata": {},
     "output_type": "execute_result"
    }
   ],
   "source": [
    "lc_scores"
   ]
  },
  {
   "cell_type": "code",
   "execution_count": null,
   "metadata": {
    "collapsed": true
   },
   "outputs": [],
   "source": []
  },
  {
   "cell_type": "code",
   "execution_count": 18,
   "metadata": {},
   "outputs": [
    {
     "name": "stdout",
     "output_type": "stream",
     "text": [
      "1 GradientBoostingClassifier(criterion='friedman_mse', init=None,\n",
      "              learning_rate=0.02, loss='deviance', max_depth=3,\n",
      "              max_features=None, max_leaf_nodes=None,\n",
      "              min_impurity_decrease=0.0, min_impurity_split=None,\n",
      "              min_samples_leaf=1, min_samples_split=2,\n",
      "              min_weight_fraction_leaf=0.0, n_estimators=500,\n",
      "              presort='auto', random_state=None, subsample=1.0, verbose=0,\n",
      "              warm_start=False)\n",
      "2 GradientBoostingClassifier(criterion='friedman_mse', init=None,\n",
      "              learning_rate=0.02, loss='deviance', max_depth=3,\n",
      "              max_features=None, max_leaf_nodes=None,\n",
      "              min_impurity_decrease=0.0, min_impurity_split=None,\n",
      "              min_samples_leaf=1, min_samples_split=2,\n",
      "              min_weight_fraction_leaf=0.0, n_estimators=500,\n",
      "              presort='auto', random_state=None, subsample=1.0, verbose=0,\n",
      "              warm_start=False)\n",
      "3 GradientBoostingClassifier(criterion='friedman_mse', init=None,\n",
      "              learning_rate=0.02, loss='deviance', max_depth=3,\n",
      "              max_features=None, max_leaf_nodes=None,\n",
      "              min_impurity_decrease=0.0, min_impurity_split=None,\n",
      "              min_samples_leaf=1, min_samples_split=2,\n",
      "              min_weight_fraction_leaf=0.0, n_estimators=500,\n",
      "              presort='auto', random_state=None, subsample=1.0, verbose=0,\n",
      "              warm_start=False)\n",
      "4 GradientBoostingClassifier(criterion='friedman_mse', init=None,\n",
      "              learning_rate=0.02, loss='deviance', max_depth=3,\n",
      "              max_features=None, max_leaf_nodes=None,\n",
      "              min_impurity_decrease=0.0, min_impurity_split=None,\n",
      "              min_samples_leaf=1, min_samples_split=2,\n",
      "              min_weight_fraction_leaf=0.0, n_estimators=500,\n",
      "              presort='auto', random_state=None, subsample=1.0, verbose=0,\n",
      "              warm_start=False)\n",
      "5 GradientBoostingClassifier(criterion='friedman_mse', init=None,\n",
      "              learning_rate=0.02, loss='deviance', max_depth=2,\n",
      "              max_features=None, max_leaf_nodes=None,\n",
      "              min_impurity_decrease=0.0, min_impurity_split=None,\n",
      "              min_samples_leaf=1, min_samples_split=2,\n",
      "              min_weight_fraction_leaf=0.0, n_estimators=500,\n",
      "              presort='auto', random_state=None, subsample=1.0, verbose=0,\n",
      "              warm_start=False)\n",
      "CPU times: user 2min 42s, sys: 1.5 s, total: 2min 44s\n",
      "Wall time: 33min 33s\n"
     ]
    }
   ],
   "source": [
    "%%time \n",
    "\n",
    "gb_param_grid = {'max_depth': range(2,7)}\n",
    "\n",
    "cv_gb = slow_apply(rf_train_df.groupby('persona'), \n",
    "                   lambda g: part_grid_search(g[rf_features].dropna(axis=1, how='all'), \n",
    "                                              g['target_shopped_ind'], \n",
    "                                              GradientBoostingClassifier, gb_param_grid, g.name, \n",
    "                                              scoring='neg_log_loss', cv=5, n_jobs=-1, \n",
    "                                              n_estimators=500, learning_rate=0.02))"
   ]
  },
  {
   "cell_type": "code",
   "execution_count": 19,
   "metadata": {},
   "outputs": [
    {
     "data": {
      "image/png": "[encoded data removed]",
      "text/plain": [
       "<matplotlib.figure.Figure at 0x1138c5310>"
      ]
     },
     "metadata": {},
     "output_type": "display_data"
    }
   ],
   "source": [
    "fig,axs = plt.subplots(nrows=2, ncols=3, figsize=(12,8))\n",
    "palette = sns.color_palette()\n",
    "\n",
    "for i in xrange(6):\n",
    "    p = i+1\n",
    "    try: \n",
    "        cv_gb_p = cv_gb.xs(p, level='persona')\n",
    "        axs[i//3,i%3].errorbar(cv_gb_p['params'].map(lambda d: d['max_depth']), \n",
    "                               cv_gb_p['mean_test_score'], \n",
    "                               fmt='o', \n",
    "                               capsize=3, \n",
    "                               yerr=cv_gb_p['std_test_score'], \n",
    "                               color=palette[i])\n",
    "        axs[i//3,i%3].set_title('Persona {}'.format(p))\n",
    "    except KeyError:\n",
    "        axs[i//3,i%3].set_axis_off()\n",
    "    if i//3 == 1:\n",
    "        axs[i//3,i%3].set_xlabel('max_depth')\n",
    "    if i%3 == 0:\n",
    "        axs[i//3,i%3].set_ylabel('neg_log_loss')"
   ]
  },
  {
   "cell_type": "code",
   "execution_count": 20,
   "metadata": {
    "collapsed": true
   },
   "outputs": [],
   "source": [
    "gb_best_params = cv_gb.loc[cv_gb['rank_test_score']==1,'params'].reset_index(level=1, drop=True).to_dict()\n",
    "#gb_max_depth = {1: 2, 2: 2, 3: 3, 4: 2, 5: 2}\n",
    "\n",
    "gbcs = rf_train_df.groupby('persona').apply(\n",
    "    lambda g: part_fit_model(g[rf_features].dropna(axis=1, how='all'), \n",
    "                             g['target_shopped_ind'], GradientBoostingClassifier, \n",
    "                             n_estimators=500, learning_rate=0.02, \n",
    "                             random_state=5301+g.name, max_depth=3) #**gb_best_params[g.name])\n",
    "    ).to_dict()"
   ]
  },
  {
   "cell_type": "code",
   "execution_count": 32,
   "metadata": {
    "collapsed": true
   },
   "outputs": [],
   "source": [
    "gb_scores = rf_test_df.groupby('persona').apply(\n",
    "    lambda g: part_score_model(g[rf_features].dropna(axis=1, how='all'), \n",
    "                               g['target_shopped_ind'], gbcs[g.name])\n",
    "    )"
   ]
  },
  {
   "cell_type": "code",
   "execution_count": 33,
   "metadata": {},
   "outputs": [
    {
     "data": {
      "text/html": [
       "<div>\n",
       "<style scoped>\n",
       "    .dataframe tbody tr th:only-of-type {\n",
       "        vertical-align: middle;\n",
       "    }\n",
       "\n",
       "    .dataframe tbody tr th {\n",
       "        vertical-align: top;\n",
       "    }\n",
       "\n",
       "    .dataframe thead th {\n",
       "        text-align: right;\n",
       "    }\n",
       "</style>\n",
       "<table border=\"1\" class=\"dataframe\">\n",
       "  <thead>\n",
       "    <tr style=\"text-align: right;\">\n",
       "      <th></th>\n",
       "      <th>n</th>\n",
       "      <th>null_accuracy</th>\n",
       "      <th>accuracy</th>\n",
       "      <th>precision</th>\n",
       "      <th>recall</th>\n",
       "      <th>bal_accuracy</th>\n",
       "      <th>log_loss</th>\n",
       "      <th>roc_auc</th>\n",
       "    </tr>\n",
       "    <tr>\n",
       "      <th>persona</th>\n",
       "      <th></th>\n",
       "      <th></th>\n",
       "      <th></th>\n",
       "      <th></th>\n",
       "      <th></th>\n",
       "      <th></th>\n",
       "      <th></th>\n",
       "      <th></th>\n",
       "    </tr>\n",
       "  </thead>\n",
       "  <tbody>\n",
       "    <tr>\n",
       "      <th>1</th>\n",
       "      <td>15000.0</td>\n",
       "      <td>0.904267</td>\n",
       "      <td>0.906733</td>\n",
       "      <td>0.587678</td>\n",
       "      <td>0.086351</td>\n",
       "      <td>0.539968</td>\n",
       "      <td>0.260287</td>\n",
       "      <td>0.800081</td>\n",
       "    </tr>\n",
       "    <tr>\n",
       "      <th>2</th>\n",
       "      <td>15000.0</td>\n",
       "      <td>0.947933</td>\n",
       "      <td>0.949667</td>\n",
       "      <td>0.573864</td>\n",
       "      <td>0.129321</td>\n",
       "      <td>0.562023</td>\n",
       "      <td>0.163618</td>\n",
       "      <td>0.819397</td>\n",
       "    </tr>\n",
       "    <tr>\n",
       "      <th>3</th>\n",
       "      <td>15000.0</td>\n",
       "      <td>0.888333</td>\n",
       "      <td>0.891333</td>\n",
       "      <td>0.610837</td>\n",
       "      <td>0.074030</td>\n",
       "      <td>0.534051</td>\n",
       "      <td>0.307812</td>\n",
       "      <td>0.747425</td>\n",
       "    </tr>\n",
       "    <tr>\n",
       "      <th>4</th>\n",
       "      <td>15000.0</td>\n",
       "      <td>0.768533</td>\n",
       "      <td>0.802600</td>\n",
       "      <td>0.648633</td>\n",
       "      <td>0.321141</td>\n",
       "      <td>0.634373</td>\n",
       "      <td>0.441350</td>\n",
       "      <td>0.784895</td>\n",
       "    </tr>\n",
       "    <tr>\n",
       "      <th>5</th>\n",
       "      <td>15000.0</td>\n",
       "      <td>0.932333</td>\n",
       "      <td>0.932600</td>\n",
       "      <td>0.523256</td>\n",
       "      <td>0.044335</td>\n",
       "      <td>0.520702</td>\n",
       "      <td>0.218198</td>\n",
       "      <td>0.753928</td>\n",
       "    </tr>\n",
       "  </tbody>\n",
       "</table>\n",
       "</div>"
      ],
      "text/plain": [
       "               n  null_accuracy  accuracy  precision    recall  bal_accuracy  \\\n",
       "persona                                                                        \n",
       "1        15000.0       0.904267  0.906733   0.587678  0.086351      0.539968   \n",
       "2        15000.0       0.947933  0.949667   0.573864  0.129321      0.562023   \n",
       "3        15000.0       0.888333  0.891333   0.610837  0.074030      0.534051   \n",
       "4        15000.0       0.768533  0.802600   0.648633  0.321141      0.634373   \n",
       "5        15000.0       0.932333  0.932600   0.523256  0.044335      0.520702   \n",
       "\n",
       "         log_loss   roc_auc  \n",
       "persona                      \n",
       "1        0.260287  0.800081  \n",
       "2        0.163618  0.819397  \n",
       "3        0.307812  0.747425  \n",
       "4        0.441350  0.784895  \n",
       "5        0.218198  0.753928  "
      ]
     },
     "execution_count": 33,
     "metadata": {},
     "output_type": "execute_result"
    }
   ],
   "source": [
    "gb_scores"
   ]
  },
  {
   "cell_type": "code",
   "execution_count": null,
   "metadata": {
    "collapsed": true
   },
   "outputs": [],
   "source": []
  },
  {
   "cell_type": "code",
   "execution_count": 35,
   "metadata": {},
   "outputs": [
    {
     "name": "stdout",
     "output_type": "stream",
     "text": [
      "1 GradientBoostingClassifier(criterion='friedman_mse', init=None,\n",
      "              learning_rate=0.02, loss='deviance', max_depth=3,\n",
      "              max_features=None, max_leaf_nodes=None,\n",
      "              min_impurity_decrease=0.0, min_impurity_split=None,\n",
      "              min_samples_leaf=1, min_samples_split=2,\n",
      "              min_weight_fraction_leaf=0.0, n_estimators=500,\n",
      "              presort='auto', random_state=None, subsample=0.7, verbose=0,\n",
      "              warm_start=False)\n",
      "2 GradientBoostingClassifier(criterion='friedman_mse', init=None,\n",
      "              learning_rate=0.02, loss='deviance', max_depth=3,\n",
      "              max_features=None, max_leaf_nodes=None,\n",
      "              min_impurity_decrease=0.0, min_impurity_split=None,\n",
      "              min_samples_leaf=1, min_samples_split=2,\n",
      "              min_weight_fraction_leaf=0.0, n_estimators=500,\n",
      "              presort='auto', random_state=None, subsample=0.7, verbose=0,\n",
      "              warm_start=False)\n",
      "3 GradientBoostingClassifier(criterion='friedman_mse', init=None,\n",
      "              learning_rate=0.02, loss='deviance', max_depth=4,\n",
      "              max_features=None, max_leaf_nodes=None,\n",
      "              min_impurity_decrease=0.0, min_impurity_split=None,\n",
      "              min_samples_leaf=1, min_samples_split=2,\n",
      "              min_weight_fraction_leaf=0.0, n_estimators=500,\n",
      "              presort='auto', random_state=None, subsample=0.7, verbose=0,\n",
      "              warm_start=False)\n",
      "4 GradientBoostingClassifier(criterion='friedman_mse', init=None,\n",
      "              learning_rate=0.02, loss='deviance', max_depth=3,\n",
      "              max_features=None, max_leaf_nodes=None,\n",
      "              min_impurity_decrease=0.0, min_impurity_split=None,\n",
      "              min_samples_leaf=1, min_samples_split=2,\n",
      "              min_weight_fraction_leaf=0.0, n_estimators=500,\n",
      "              presort='auto', random_state=None, subsample=0.7, verbose=0,\n",
      "              warm_start=False)\n",
      "5 GradientBoostingClassifier(criterion='friedman_mse', init=None,\n",
      "              learning_rate=0.02, loss='deviance', max_depth=3,\n",
      "              max_features=None, max_leaf_nodes=None,\n",
      "              min_impurity_decrease=0.0, min_impurity_split=None,\n",
      "              min_samples_leaf=1, min_samples_split=2,\n",
      "              min_weight_fraction_leaf=0.0, n_estimators=500,\n",
      "              presort='auto', random_state=None, subsample=0.7, verbose=0,\n",
      "              warm_start=False)\n",
      "CPU times: user 3min 21s, sys: 2.55 s, total: 3min 23s\n",
      "Wall time: 47min 17s\n"
     ]
    }
   ],
   "source": [
    "%%time \n",
    "\n",
    "gb_param_grid = {'max_depth': range(2,7)}\n",
    "\n",
    "cv_gbss = slow_apply(rf_train_df.groupby('persona'), \n",
    "                     lambda g: part_grid_search(g[rf_features].dropna(axis=1, how='all'), \n",
    "                                                g['target_shopped_ind'], \n",
    "                                                GradientBoostingClassifier, gb_param_grid, g.name, \n",
    "                                                scoring='neg_log_loss', cv=5, n_jobs=-1, \n",
    "                                                n_estimators=500, learning_rate=0.02, subsample=0.7))"
   ]
  },
  {
   "cell_type": "code",
   "execution_count": 36,
   "metadata": {},
   "outputs": [
    {
     "data": {
      "image/png": "[encoded data removed]",
      "text/plain": [
       "<matplotlib.figure.Figure at 0x114595510>"
      ]
     },
     "metadata": {},
     "output_type": "display_data"
    }
   ],
   "source": [
    "fig,axs = plt.subplots(nrows=2, ncols=3, figsize=(12,8))\n",
    "palette = sns.color_palette()\n",
    "\n",
    "for i in xrange(6):\n",
    "    p = i+1\n",
    "    try: \n",
    "        cv_gbss_p = cv_gbss.xs(p, level='persona')\n",
    "        axs[i//3,i%3].errorbar(cv_gbss_p['params'].map(lambda d: d['max_depth']), \n",
    "                               cv_gbss_p['mean_test_score'], \n",
    "                               fmt='o', \n",
    "                               capsize=3, \n",
    "                               yerr=cv_gbss_p['std_test_score'], \n",
    "                               color=palette[i])\n",
    "        axs[i//3,i%3].set_title('Persona {}'.format(p))\n",
    "    except KeyError:\n",
    "        axs[i//3,i%3].set_axis_off()\n",
    "    if i//3 == 1:\n",
    "        axs[i//3,i%3].set_xlabel('max_depth')\n",
    "    if i%3 == 0:\n",
    "        axs[i//3,i%3].set_ylabel('neg_log_loss')"
   ]
  },
  {
   "cell_type": "code",
   "execution_count": 37,
   "metadata": {
    "collapsed": true
   },
   "outputs": [],
   "source": [
    "gbss_best_params = cv_gbss.loc[cv_gbss['rank_test_score']==1,'params'].reset_index(level=1, drop=True).to_dict()\n",
    "#gbss_max_depth = {1: 2, 2: 2, 3: 3, 4: 2, 5: 2}\n",
    "\n",
    "gbsss = rf_train_df.groupby('persona').apply(\n",
    "    lambda g: part_fit_model(g[rf_features].dropna(axis=1, how='all'), \n",
    "                             g['target_shopped_ind'], GradientBoostingClassifier, \n",
    "                             n_estimators=500, learning_rate=0.02, subsample=0.7,\n",
    "                             random_state=5301+g.name, max_depth=3) #**gb_best_params[g.name])\n",
    "    ).to_dict()"
   ]
  },
  {
   "cell_type": "code",
   "execution_count": 38,
   "metadata": {
    "collapsed": true
   },
   "outputs": [],
   "source": [
    "gbss_scores = rf_test_df.groupby('persona').apply(\n",
    "    lambda g: part_score_model(g[rf_features].dropna(axis=1, how='all'), \n",
    "                               g['target_shopped_ind'], gbsss[g.name])\n",
    "    )"
   ]
  },
  {
   "cell_type": "code",
   "execution_count": 39,
   "metadata": {},
   "outputs": [
    {
     "data": {
      "text/html": [
       "<div>\n",
       "<style scoped>\n",
       "    .dataframe tbody tr th:only-of-type {\n",
       "        vertical-align: middle;\n",
       "    }\n",
       "\n",
       "    .dataframe tbody tr th {\n",
       "        vertical-align: top;\n",
       "    }\n",
       "\n",
       "    .dataframe thead th {\n",
       "        text-align: right;\n",
       "    }\n",
       "</style>\n",
       "<table border=\"1\" class=\"dataframe\">\n",
       "  <thead>\n",
       "    <tr style=\"text-align: right;\">\n",
       "      <th></th>\n",
       "      <th>n</th>\n",
       "      <th>null_accuracy</th>\n",
       "      <th>accuracy</th>\n",
       "      <th>precision</th>\n",
       "      <th>recall</th>\n",
       "      <th>bal_accuracy</th>\n",
       "      <th>log_loss</th>\n",
       "      <th>roc_auc</th>\n",
       "    </tr>\n",
       "    <tr>\n",
       "      <th>persona</th>\n",
       "      <th></th>\n",
       "      <th></th>\n",
       "      <th></th>\n",
       "      <th></th>\n",
       "      <th></th>\n",
       "      <th></th>\n",
       "      <th></th>\n",
       "      <th></th>\n",
       "    </tr>\n",
       "  </thead>\n",
       "  <tbody>\n",
       "    <tr>\n",
       "      <th>1</th>\n",
       "      <td>15000.0</td>\n",
       "      <td>0.904267</td>\n",
       "      <td>0.907067</td>\n",
       "      <td>0.592920</td>\n",
       "      <td>0.093315</td>\n",
       "      <td>0.543266</td>\n",
       "      <td>0.260013</td>\n",
       "      <td>0.800227</td>\n",
       "    </tr>\n",
       "    <tr>\n",
       "      <th>2</th>\n",
       "      <td>15000.0</td>\n",
       "      <td>0.947933</td>\n",
       "      <td>0.950467</td>\n",
       "      <td>0.604396</td>\n",
       "      <td>0.140845</td>\n",
       "      <td>0.567891</td>\n",
       "      <td>0.163054</td>\n",
       "      <td>0.820261</td>\n",
       "    </tr>\n",
       "    <tr>\n",
       "      <th>3</th>\n",
       "      <td>15000.0</td>\n",
       "      <td>0.888333</td>\n",
       "      <td>0.892333</td>\n",
       "      <td>0.642857</td>\n",
       "      <td>0.080597</td>\n",
       "      <td>0.537484</td>\n",
       "      <td>0.307109</td>\n",
       "      <td>0.749374</td>\n",
       "    </tr>\n",
       "    <tr>\n",
       "      <th>4</th>\n",
       "      <td>15000.0</td>\n",
       "      <td>0.768533</td>\n",
       "      <td>0.802467</td>\n",
       "      <td>0.643380</td>\n",
       "      <td>0.328917</td>\n",
       "      <td>0.637004</td>\n",
       "      <td>0.440495</td>\n",
       "      <td>0.786040</td>\n",
       "    </tr>\n",
       "    <tr>\n",
       "      <th>5</th>\n",
       "      <td>15000.0</td>\n",
       "      <td>0.932333</td>\n",
       "      <td>0.932667</td>\n",
       "      <td>0.530120</td>\n",
       "      <td>0.043350</td>\n",
       "      <td>0.520281</td>\n",
       "      <td>0.218044</td>\n",
       "      <td>0.754727</td>\n",
       "    </tr>\n",
       "  </tbody>\n",
       "</table>\n",
       "</div>"
      ],
      "text/plain": [
       "               n  null_accuracy  accuracy  precision    recall  bal_accuracy  \\\n",
       "persona                                                                        \n",
       "1        15000.0       0.904267  0.907067   0.592920  0.093315      0.543266   \n",
       "2        15000.0       0.947933  0.950467   0.604396  0.140845      0.567891   \n",
       "3        15000.0       0.888333  0.892333   0.642857  0.080597      0.537484   \n",
       "4        15000.0       0.768533  0.802467   0.643380  0.328917      0.637004   \n",
       "5        15000.0       0.932333  0.932667   0.530120  0.043350      0.520281   \n",
       "\n",
       "         log_loss   roc_auc  \n",
       "persona                      \n",
       "1        0.260013  0.800227  \n",
       "2        0.163054  0.820261  \n",
       "3        0.307109  0.749374  \n",
       "4        0.440495  0.786040  \n",
       "5        0.218044  0.754727  "
      ]
     },
     "execution_count": 39,
     "metadata": {},
     "output_type": "execute_result"
    }
   ],
   "source": [
    "gbss_scores"
   ]
  },
  {
   "cell_type": "code",
   "execution_count": 40,
   "metadata": {},
   "outputs": [
    {
     "data": {
      "text/html": [
       "<div>\n",
       "<style scoped>\n",
       "    .dataframe tbody tr th:only-of-type {\n",
       "        vertical-align: middle;\n",
       "    }\n",
       "\n",
       "    .dataframe tbody tr th {\n",
       "        vertical-align: top;\n",
       "    }\n",
       "\n",
       "    .dataframe thead th {\n",
       "        text-align: right;\n",
       "    }\n",
       "</style>\n",
       "<table border=\"1\" class=\"dataframe\">\n",
       "  <thead>\n",
       "    <tr style=\"text-align: right;\">\n",
       "      <th></th>\n",
       "      <th>n</th>\n",
       "      <th>null_accuracy</th>\n",
       "      <th>accuracy</th>\n",
       "      <th>precision</th>\n",
       "      <th>recall</th>\n",
       "      <th>bal_accuracy</th>\n",
       "      <th>log_loss</th>\n",
       "      <th>roc_auc</th>\n",
       "    </tr>\n",
       "    <tr>\n",
       "      <th>persona</th>\n",
       "      <th></th>\n",
       "      <th></th>\n",
       "      <th></th>\n",
       "      <th></th>\n",
       "      <th></th>\n",
       "      <th></th>\n",
       "      <th></th>\n",
       "      <th></th>\n",
       "    </tr>\n",
       "  </thead>\n",
       "  <tbody>\n",
       "    <tr>\n",
       "      <th>1</th>\n",
       "      <td>15000.0</td>\n",
       "      <td>0.904267</td>\n",
       "      <td>0.906733</td>\n",
       "      <td>0.587678</td>\n",
       "      <td>0.086351</td>\n",
       "      <td>0.539968</td>\n",
       "      <td>0.260287</td>\n",
       "      <td>0.800081</td>\n",
       "    </tr>\n",
       "    <tr>\n",
       "      <th>2</th>\n",
       "      <td>15000.0</td>\n",
       "      <td>0.947933</td>\n",
       "      <td>0.949667</td>\n",
       "      <td>0.573864</td>\n",
       "      <td>0.129321</td>\n",
       "      <td>0.562023</td>\n",
       "      <td>0.163618</td>\n",
       "      <td>0.819397</td>\n",
       "    </tr>\n",
       "    <tr>\n",
       "      <th>3</th>\n",
       "      <td>15000.0</td>\n",
       "      <td>0.888333</td>\n",
       "      <td>0.891333</td>\n",
       "      <td>0.610837</td>\n",
       "      <td>0.074030</td>\n",
       "      <td>0.534051</td>\n",
       "      <td>0.307812</td>\n",
       "      <td>0.747425</td>\n",
       "    </tr>\n",
       "    <tr>\n",
       "      <th>4</th>\n",
       "      <td>15000.0</td>\n",
       "      <td>0.768533</td>\n",
       "      <td>0.802600</td>\n",
       "      <td>0.648633</td>\n",
       "      <td>0.321141</td>\n",
       "      <td>0.634373</td>\n",
       "      <td>0.441350</td>\n",
       "      <td>0.784895</td>\n",
       "    </tr>\n",
       "    <tr>\n",
       "      <th>5</th>\n",
       "      <td>15000.0</td>\n",
       "      <td>0.932333</td>\n",
       "      <td>0.932600</td>\n",
       "      <td>0.523256</td>\n",
       "      <td>0.044335</td>\n",
       "      <td>0.520702</td>\n",
       "      <td>0.218198</td>\n",
       "      <td>0.753928</td>\n",
       "    </tr>\n",
       "  </tbody>\n",
       "</table>\n",
       "</div>"
      ],
      "text/plain": [
       "               n  null_accuracy  accuracy  precision    recall  bal_accuracy  \\\n",
       "persona                                                                        \n",
       "1        15000.0       0.904267  0.906733   0.587678  0.086351      0.539968   \n",
       "2        15000.0       0.947933  0.949667   0.573864  0.129321      0.562023   \n",
       "3        15000.0       0.888333  0.891333   0.610837  0.074030      0.534051   \n",
       "4        15000.0       0.768533  0.802600   0.648633  0.321141      0.634373   \n",
       "5        15000.0       0.932333  0.932600   0.523256  0.044335      0.520702   \n",
       "\n",
       "         log_loss   roc_auc  \n",
       "persona                      \n",
       "1        0.260287  0.800081  \n",
       "2        0.163618  0.819397  \n",
       "3        0.307812  0.747425  \n",
       "4        0.441350  0.784895  \n",
       "5        0.218198  0.753928  "
      ]
     },
     "execution_count": 40,
     "metadata": {},
     "output_type": "execute_result"
    }
   ],
   "source": [
    "gb_scores"
   ]
  },
  {
   "cell_type": "code",
   "execution_count": 41,
   "metadata": {},
   "outputs": [
    {
     "data": {
      "text/html": [
       "<div>\n",
       "<style scoped>\n",
       "    .dataframe tbody tr th:only-of-type {\n",
       "        vertical-align: middle;\n",
       "    }\n",
       "\n",
       "    .dataframe tbody tr th {\n",
       "        vertical-align: top;\n",
       "    }\n",
       "\n",
       "    .dataframe thead th {\n",
       "        text-align: right;\n",
       "    }\n",
       "</style>\n",
       "<table border=\"1\" class=\"dataframe\">\n",
       "  <thead>\n",
       "    <tr style=\"text-align: right;\">\n",
       "      <th></th>\n",
       "      <th>n</th>\n",
       "      <th>null_accuracy</th>\n",
       "      <th>accuracy</th>\n",
       "      <th>precision</th>\n",
       "      <th>recall</th>\n",
       "      <th>bal_accuracy</th>\n",
       "      <th>log_loss</th>\n",
       "      <th>roc_auc</th>\n",
       "    </tr>\n",
       "    <tr>\n",
       "      <th>persona</th>\n",
       "      <th></th>\n",
       "      <th></th>\n",
       "      <th></th>\n",
       "      <th></th>\n",
       "      <th></th>\n",
       "      <th></th>\n",
       "      <th></th>\n",
       "      <th></th>\n",
       "    </tr>\n",
       "  </thead>\n",
       "  <tbody>\n",
       "    <tr>\n",
       "      <th>1</th>\n",
       "      <td>15000.0</td>\n",
       "      <td>0.904267</td>\n",
       "      <td>0.905867</td>\n",
       "      <td>0.551724</td>\n",
       "      <td>0.089136</td>\n",
       "      <td>0.540735</td>\n",
       "      <td>0.263759</td>\n",
       "      <td>0.790009</td>\n",
       "    </tr>\n",
       "    <tr>\n",
       "      <th>2</th>\n",
       "      <td>15000.0</td>\n",
       "      <td>0.947933</td>\n",
       "      <td>0.949800</td>\n",
       "      <td>0.573684</td>\n",
       "      <td>0.139565</td>\n",
       "      <td>0.566934</td>\n",
       "      <td>0.164483</td>\n",
       "      <td>0.817277</td>\n",
       "    </tr>\n",
       "    <tr>\n",
       "      <th>3</th>\n",
       "      <td>15000.0</td>\n",
       "      <td>0.888333</td>\n",
       "      <td>0.891400</td>\n",
       "      <td>0.623656</td>\n",
       "      <td>0.069254</td>\n",
       "      <td>0.532000</td>\n",
       "      <td>0.307934</td>\n",
       "      <td>0.744595</td>\n",
       "    </tr>\n",
       "    <tr>\n",
       "      <th>4</th>\n",
       "      <td>15000.0</td>\n",
       "      <td>0.768533</td>\n",
       "      <td>0.801400</td>\n",
       "      <td>0.637326</td>\n",
       "      <td>0.329493</td>\n",
       "      <td>0.636511</td>\n",
       "      <td>0.442773</td>\n",
       "      <td>0.782941</td>\n",
       "    </tr>\n",
       "    <tr>\n",
       "      <th>5</th>\n",
       "      <td>15000.0</td>\n",
       "      <td>0.932333</td>\n",
       "      <td>0.932800</td>\n",
       "      <td>0.553846</td>\n",
       "      <td>0.035468</td>\n",
       "      <td>0.516697</td>\n",
       "      <td>0.216668</td>\n",
       "      <td>0.759900</td>\n",
       "    </tr>\n",
       "  </tbody>\n",
       "</table>\n",
       "</div>"
      ],
      "text/plain": [
       "               n  null_accuracy  accuracy  precision    recall  bal_accuracy  \\\n",
       "persona                                                                        \n",
       "1        15000.0       0.904267  0.905867   0.551724  0.089136      0.540735   \n",
       "2        15000.0       0.947933  0.949800   0.573684  0.139565      0.566934   \n",
       "3        15000.0       0.888333  0.891400   0.623656  0.069254      0.532000   \n",
       "4        15000.0       0.768533  0.801400   0.637326  0.329493      0.636511   \n",
       "5        15000.0       0.932333  0.932800   0.553846  0.035468      0.516697   \n",
       "\n",
       "         log_loss   roc_auc  \n",
       "persona                      \n",
       "1        0.263759  0.790009  \n",
       "2        0.164483  0.817277  \n",
       "3        0.307934  0.744595  \n",
       "4        0.442773  0.782941  \n",
       "5        0.216668  0.759900  "
      ]
     },
     "execution_count": 41,
     "metadata": {},
     "output_type": "execute_result"
    }
   ],
   "source": [
    "lc_scores"
   ]
  },
  {
   "cell_type": "code",
   "execution_count": null,
   "metadata": {
    "collapsed": true
   },
   "outputs": [],
   "source": []
  },
  {
   "cell_type": "code",
   "execution_count": 30,
   "metadata": {},
   "outputs": [
    {
     "data": {
      "text/html": [
       "<div>\n",
       "<style scoped>\n",
       "    .dataframe tbody tr th:only-of-type {\n",
       "        vertical-align: middle;\n",
       "    }\n",
       "\n",
       "    .dataframe tbody tr th {\n",
       "        vertical-align: top;\n",
       "    }\n",
       "\n",
       "    .dataframe thead th {\n",
       "        text-align: right;\n",
       "    }\n",
       "</style>\n",
       "<table border=\"1\" class=\"dataframe\">\n",
       "  <thead>\n",
       "    <tr style=\"text-align: right;\">\n",
       "      <th></th>\n",
       "      <th>n</th>\n",
       "      <th>null_accuracy</th>\n",
       "      <th>accuracy</th>\n",
       "      <th>precision</th>\n",
       "      <th>recall</th>\n",
       "      <th>log_loss</th>\n",
       "      <th>roc_auc</th>\n",
       "    </tr>\n",
       "    <tr>\n",
       "      <th>persona</th>\n",
       "      <th></th>\n",
       "      <th></th>\n",
       "      <th></th>\n",
       "      <th></th>\n",
       "      <th></th>\n",
       "      <th></th>\n",
       "      <th></th>\n",
       "    </tr>\n",
       "  </thead>\n",
       "  <tbody>\n",
       "    <tr>\n",
       "      <th>1</th>\n",
       "      <td>15000.0</td>\n",
       "      <td>0.903267</td>\n",
       "      <td>0.905667</td>\n",
       "      <td>0.618421</td>\n",
       "      <td>0.064783</td>\n",
       "      <td>0.261488</td>\n",
       "      <td>0.799899</td>\n",
       "    </tr>\n",
       "    <tr>\n",
       "      <th>2</th>\n",
       "      <td>15000.0</td>\n",
       "      <td>0.949667</td>\n",
       "      <td>0.951533</td>\n",
       "      <td>0.655556</td>\n",
       "      <td>0.078146</td>\n",
       "      <td>0.158246</td>\n",
       "      <td>0.824912</td>\n",
       "    </tr>\n",
       "    <tr>\n",
       "      <th>3</th>\n",
       "      <td>15000.0</td>\n",
       "      <td>0.889933</td>\n",
       "      <td>0.892467</td>\n",
       "      <td>0.621795</td>\n",
       "      <td>0.058752</td>\n",
       "      <td>0.303034</td>\n",
       "      <td>0.752483</td>\n",
       "    </tr>\n",
       "    <tr>\n",
       "      <th>4</th>\n",
       "      <td>15000.0</td>\n",
       "      <td>0.773533</td>\n",
       "      <td>0.807200</td>\n",
       "      <td>0.656735</td>\n",
       "      <td>0.311451</td>\n",
       "      <td>0.434736</td>\n",
       "      <td>0.787185</td>\n",
       "    </tr>\n",
       "    <tr>\n",
       "      <th>5</th>\n",
       "      <td>15000.0</td>\n",
       "      <td>0.934067</td>\n",
       "      <td>0.934200</td>\n",
       "      <td>0.529412</td>\n",
       "      <td>0.018200</td>\n",
       "      <td>0.213529</td>\n",
       "      <td>0.755827</td>\n",
       "    </tr>\n",
       "  </tbody>\n",
       "</table>\n",
       "</div>"
      ],
      "text/plain": [
       "               n  null_accuracy  accuracy  precision    recall  log_loss  \\\n",
       "persona                                                                    \n",
       "1        15000.0       0.903267  0.905667   0.618421  0.064783  0.261488   \n",
       "2        15000.0       0.949667  0.951533   0.655556  0.078146  0.158246   \n",
       "3        15000.0       0.889933  0.892467   0.621795  0.058752  0.303034   \n",
       "4        15000.0       0.773533  0.807200   0.656735  0.311451  0.434736   \n",
       "5        15000.0       0.934067  0.934200   0.529412  0.018200  0.213529   \n",
       "\n",
       "          roc_auc  \n",
       "persona            \n",
       "1        0.799899  \n",
       "2        0.824912  \n",
       "3        0.752483  \n",
       "4        0.787185  \n",
       "5        0.755827  "
      ]
     },
     "execution_count": 30,
     "metadata": {},
     "output_type": "execute_result"
    }
   ],
   "source": [
    "rf_scores"
   ]
  },
  {
   "cell_type": "code",
   "execution_count": 31,
   "metadata": {},
   "outputs": [
    {
     "data": {
      "text/html": [
       "<div>\n",
       "<style scoped>\n",
       "    .dataframe tbody tr th:only-of-type {\n",
       "        vertical-align: middle;\n",
       "    }\n",
       "\n",
       "    .dataframe tbody tr th {\n",
       "        vertical-align: top;\n",
       "    }\n",
       "\n",
       "    .dataframe thead th {\n",
       "        text-align: right;\n",
       "    }\n",
       "</style>\n",
       "<table border=\"1\" class=\"dataframe\">\n",
       "  <thead>\n",
       "    <tr style=\"text-align: right;\">\n",
       "      <th></th>\n",
       "      <th>n</th>\n",
       "      <th>null_accuracy</th>\n",
       "      <th>accuracy</th>\n",
       "      <th>precision</th>\n",
       "      <th>recall</th>\n",
       "      <th>log_loss</th>\n",
       "      <th>roc_auc</th>\n",
       "    </tr>\n",
       "    <tr>\n",
       "      <th>persona</th>\n",
       "      <th></th>\n",
       "      <th></th>\n",
       "      <th></th>\n",
       "      <th></th>\n",
       "      <th></th>\n",
       "      <th></th>\n",
       "      <th></th>\n",
       "    </tr>\n",
       "  </thead>\n",
       "  <tbody>\n",
       "    <tr>\n",
       "      <th>1</th>\n",
       "      <td>15000.0</td>\n",
       "      <td>0.903267</td>\n",
       "      <td>0.906333</td>\n",
       "      <td>0.593496</td>\n",
       "      <td>0.100620</td>\n",
       "      <td>0.260611</td>\n",
       "      <td>0.802885</td>\n",
       "    </tr>\n",
       "    <tr>\n",
       "      <th>2</th>\n",
       "      <td>15000.0</td>\n",
       "      <td>0.949667</td>\n",
       "      <td>0.950467</td>\n",
       "      <td>0.538462</td>\n",
       "      <td>0.111258</td>\n",
       "      <td>0.158659</td>\n",
       "      <td>0.823638</td>\n",
       "    </tr>\n",
       "    <tr>\n",
       "      <th>3</th>\n",
       "      <td>15000.0</td>\n",
       "      <td>0.889933</td>\n",
       "      <td>0.891200</td>\n",
       "      <td>0.535581</td>\n",
       "      <td>0.086614</td>\n",
       "      <td>0.302628</td>\n",
       "      <td>0.753432</td>\n",
       "    </tr>\n",
       "    <tr>\n",
       "      <th>4</th>\n",
       "      <td>15000.0</td>\n",
       "      <td>0.773533</td>\n",
       "      <td>0.806333</td>\n",
       "      <td>0.633406</td>\n",
       "      <td>0.343833</td>\n",
       "      <td>0.433845</td>\n",
       "      <td>0.788727</td>\n",
       "    </tr>\n",
       "    <tr>\n",
       "      <th>5</th>\n",
       "      <td>15000.0</td>\n",
       "      <td>0.934067</td>\n",
       "      <td>0.934333</td>\n",
       "      <td>0.531250</td>\n",
       "      <td>0.034378</td>\n",
       "      <td>0.213300</td>\n",
       "      <td>0.760546</td>\n",
       "    </tr>\n",
       "  </tbody>\n",
       "</table>\n",
       "</div>"
      ],
      "text/plain": [
       "               n  null_accuracy  accuracy  precision    recall  log_loss  \\\n",
       "persona                                                                    \n",
       "1        15000.0       0.903267  0.906333   0.593496  0.100620  0.260611   \n",
       "2        15000.0       0.949667  0.950467   0.538462  0.111258  0.158659   \n",
       "3        15000.0       0.889933  0.891200   0.535581  0.086614  0.302628   \n",
       "4        15000.0       0.773533  0.806333   0.633406  0.343833  0.433845   \n",
       "5        15000.0       0.934067  0.934333   0.531250  0.034378  0.213300   \n",
       "\n",
       "          roc_auc  \n",
       "persona            \n",
       "1        0.802885  \n",
       "2        0.823638  \n",
       "3        0.753432  \n",
       "4        0.788727  \n",
       "5        0.760546  "
      ]
     },
     "execution_count": 31,
     "metadata": {},
     "output_type": "execute_result"
    }
   ],
   "source": [
    "gb_scores"
   ]
  },
  {
   "cell_type": "code",
   "execution_count": 23,
   "metadata": {},
   "outputs": [
    {
     "data": {
      "text/html": [
       "<div>\n",
       "<style scoped>\n",
       "    .dataframe tbody tr th:only-of-type {\n",
       "        vertical-align: middle;\n",
       "    }\n",
       "\n",
       "    .dataframe tbody tr th {\n",
       "        vertical-align: top;\n",
       "    }\n",
       "\n",
       "    .dataframe thead th {\n",
       "        text-align: right;\n",
       "    }\n",
       "</style>\n",
       "<table border=\"1\" class=\"dataframe\">\n",
       "  <thead>\n",
       "    <tr style=\"text-align: right;\">\n",
       "      <th></th>\n",
       "      <th>n</th>\n",
       "      <th>null_accuracy</th>\n",
       "      <th>accuracy</th>\n",
       "      <th>precision</th>\n",
       "      <th>recall</th>\n",
       "      <th>log_loss</th>\n",
       "      <th>roc_auc</th>\n",
       "    </tr>\n",
       "    <tr>\n",
       "      <th>persona</th>\n",
       "      <th></th>\n",
       "      <th></th>\n",
       "      <th></th>\n",
       "      <th></th>\n",
       "      <th></th>\n",
       "      <th></th>\n",
       "      <th></th>\n",
       "    </tr>\n",
       "  </thead>\n",
       "  <tbody>\n",
       "    <tr>\n",
       "      <th>1</th>\n",
       "      <td>15000.0</td>\n",
       "      <td>0.903267</td>\n",
       "      <td>0.906067</td>\n",
       "      <td>0.587500</td>\n",
       "      <td>0.097174</td>\n",
       "      <td>0.264149</td>\n",
       "      <td>0.794464</td>\n",
       "    </tr>\n",
       "    <tr>\n",
       "      <th>2</th>\n",
       "      <td>15000.0</td>\n",
       "      <td>0.949667</td>\n",
       "      <td>0.951467</td>\n",
       "      <td>0.609756</td>\n",
       "      <td>0.099338</td>\n",
       "      <td>0.158590</td>\n",
       "      <td>0.824422</td>\n",
       "    </tr>\n",
       "    <tr>\n",
       "      <th>3</th>\n",
       "      <td>15000.0</td>\n",
       "      <td>0.889933</td>\n",
       "      <td>0.892200</td>\n",
       "      <td>0.567460</td>\n",
       "      <td>0.086614</td>\n",
       "      <td>0.302220</td>\n",
       "      <td>0.753532</td>\n",
       "    </tr>\n",
       "    <tr>\n",
       "      <th>4</th>\n",
       "      <td>15000.0</td>\n",
       "      <td>0.773533</td>\n",
       "      <td>0.805133</td>\n",
       "      <td>0.627010</td>\n",
       "      <td>0.344422</td>\n",
       "      <td>0.433446</td>\n",
       "      <td>0.788961</td>\n",
       "    </tr>\n",
       "    <tr>\n",
       "      <th>5</th>\n",
       "      <td>15000.0</td>\n",
       "      <td>0.934067</td>\n",
       "      <td>0.935133</td>\n",
       "      <td>0.621212</td>\n",
       "      <td>0.041456</td>\n",
       "      <td>0.210941</td>\n",
       "      <td>0.767439</td>\n",
       "    </tr>\n",
       "  </tbody>\n",
       "</table>\n",
       "</div>"
      ],
      "text/plain": [
       "               n  null_accuracy  accuracy  precision    recall  log_loss  \\\n",
       "persona                                                                    \n",
       "1        15000.0       0.903267  0.906067   0.587500  0.097174  0.264149   \n",
       "2        15000.0       0.949667  0.951467   0.609756  0.099338  0.158590   \n",
       "3        15000.0       0.889933  0.892200   0.567460  0.086614  0.302220   \n",
       "4        15000.0       0.773533  0.805133   0.627010  0.344422  0.433446   \n",
       "5        15000.0       0.934067  0.935133   0.621212  0.041456  0.210941   \n",
       "\n",
       "          roc_auc  \n",
       "persona            \n",
       "1        0.794464  \n",
       "2        0.824422  \n",
       "3        0.753532  \n",
       "4        0.788961  \n",
       "5        0.767439  "
      ]
     },
     "execution_count": 23,
     "metadata": {},
     "output_type": "execute_result"
    }
   ],
   "source": [
    "lc_scores"
   ]
  },
  {
   "cell_type": "code",
   "execution_count": 32,
   "metadata": {
    "scrolled": true
   },
   "outputs": [
    {
     "data": {
      "text/html": [
       "<div>\n",
       "<style scoped>\n",
       "    .dataframe tbody tr th:only-of-type {\n",
       "        vertical-align: middle;\n",
       "    }\n",
       "\n",
       "    .dataframe tbody tr th {\n",
       "        vertical-align: top;\n",
       "    }\n",
       "\n",
       "    .dataframe thead th {\n",
       "        text-align: right;\n",
       "    }\n",
       "</style>\n",
       "<table border=\"1\" class=\"dataframe\">\n",
       "  <thead>\n",
       "    <tr style=\"text-align: right;\">\n",
       "      <th></th>\n",
       "      <th>n</th>\n",
       "      <th>null_accuracy</th>\n",
       "      <th>accuracy</th>\n",
       "      <th>precision</th>\n",
       "      <th>recall</th>\n",
       "      <th>log_loss</th>\n",
       "      <th>roc_auc</th>\n",
       "    </tr>\n",
       "    <tr>\n",
       "      <th>persona</th>\n",
       "      <th></th>\n",
       "      <th></th>\n",
       "      <th></th>\n",
       "      <th></th>\n",
       "      <th></th>\n",
       "      <th></th>\n",
       "      <th></th>\n",
       "    </tr>\n",
       "  </thead>\n",
       "  <tbody>\n",
       "    <tr>\n",
       "      <th>1</th>\n",
       "      <td>15000.0</td>\n",
       "      <td>0.903267</td>\n",
       "      <td>0.905867</td>\n",
       "      <td>0.585903</td>\n",
       "      <td>0.091661</td>\n",
       "      <td>0.264300</td>\n",
       "      <td>0.794437</td>\n",
       "    </tr>\n",
       "    <tr>\n",
       "      <th>2</th>\n",
       "      <td>15000.0</td>\n",
       "      <td>0.949667</td>\n",
       "      <td>0.951467</td>\n",
       "      <td>0.604651</td>\n",
       "      <td>0.103311</td>\n",
       "      <td>0.158680</td>\n",
       "      <td>0.824050</td>\n",
       "    </tr>\n",
       "    <tr>\n",
       "      <th>3</th>\n",
       "      <td>15000.0</td>\n",
       "      <td>0.889933</td>\n",
       "      <td>0.891733</td>\n",
       "      <td>0.544850</td>\n",
       "      <td>0.099334</td>\n",
       "      <td>0.302553</td>\n",
       "      <td>0.753233</td>\n",
       "    </tr>\n",
       "    <tr>\n",
       "      <th>4</th>\n",
       "      <td>15000.0</td>\n",
       "      <td>0.773533</td>\n",
       "      <td>0.805467</td>\n",
       "      <td>0.633575</td>\n",
       "      <td>0.334413</td>\n",
       "      <td>0.433710</td>\n",
       "      <td>0.788511</td>\n",
       "    </tr>\n",
       "    <tr>\n",
       "      <th>5</th>\n",
       "      <td>15000.0</td>\n",
       "      <td>0.934067</td>\n",
       "      <td>0.934933</td>\n",
       "      <td>0.603175</td>\n",
       "      <td>0.038423</td>\n",
       "      <td>0.211098</td>\n",
       "      <td>0.767788</td>\n",
       "    </tr>\n",
       "  </tbody>\n",
       "</table>\n",
       "</div>"
      ],
      "text/plain": [
       "               n  null_accuracy  accuracy  precision    recall  log_loss  \\\n",
       "persona                                                                    \n",
       "1        15000.0       0.903267  0.905867   0.585903  0.091661  0.264300   \n",
       "2        15000.0       0.949667  0.951467   0.604651  0.103311  0.158680   \n",
       "3        15000.0       0.889933  0.891733   0.544850  0.099334  0.302553   \n",
       "4        15000.0       0.773533  0.805467   0.633575  0.334413  0.433710   \n",
       "5        15000.0       0.934067  0.934933   0.603175  0.038423  0.211098   \n",
       "\n",
       "          roc_auc  \n",
       "persona            \n",
       "1        0.794437  \n",
       "2        0.824050  \n",
       "3        0.753233  \n",
       "4        0.788511  \n",
       "5        0.767788  "
      ]
     },
     "execution_count": 32,
     "metadata": {},
     "output_type": "execute_result"
    }
   ],
   "source": [
    "lr_scores"
   ]
  },
  {
   "cell_type": "code",
   "execution_count": null,
   "metadata": {
    "collapsed": true
   },
   "outputs": [],
   "source": []
  },
  {
   "cell_type": "code",
   "execution_count": 22,
   "metadata": {},
   "outputs": [
    {
     "data": {
      "text/html": [
       "<div>\n",
       "<style scoped>\n",
       "    .dataframe tbody tr th:only-of-type {\n",
       "        vertical-align: middle;\n",
       "    }\n",
       "\n",
       "    .dataframe tbody tr th {\n",
       "        vertical-align: top;\n",
       "    }\n",
       "\n",
       "    .dataframe thead th {\n",
       "        text-align: right;\n",
       "    }\n",
       "</style>\n",
       "<table border=\"1\" class=\"dataframe\">\n",
       "  <thead>\n",
       "    <tr style=\"text-align: right;\">\n",
       "      <th></th>\n",
       "      <th>n</th>\n",
       "      <th>n_pos</th>\n",
       "    </tr>\n",
       "    <tr>\n",
       "      <th>persona</th>\n",
       "      <th></th>\n",
       "      <th></th>\n",
       "    </tr>\n",
       "  </thead>\n",
       "  <tbody>\n",
       "    <tr>\n",
       "      <th>1</th>\n",
       "      <td>1766814</td>\n",
       "      <td>169019</td>\n",
       "    </tr>\n",
       "    <tr>\n",
       "      <th>2</th>\n",
       "      <td>2188483</td>\n",
       "      <td>110209</td>\n",
       "    </tr>\n",
       "    <tr>\n",
       "      <th>3</th>\n",
       "      <td>7760758</td>\n",
       "      <td>843944</td>\n",
       "    </tr>\n",
       "    <tr>\n",
       "      <th>4</th>\n",
       "      <td>3899887</td>\n",
       "      <td>888168</td>\n",
       "    </tr>\n",
       "    <tr>\n",
       "      <th>5</th>\n",
       "      <td>1748052</td>\n",
       "      <td>115534</td>\n",
       "    </tr>\n",
       "  </tbody>\n",
       "</table>\n",
       "</div>"
      ],
      "text/plain": [
       "               n   n_pos\n",
       "persona                 \n",
       "1        1766814  169019\n",
       "2        2188483  110209\n",
       "3        7760758  843944\n",
       "4        3899887  888168\n",
       "5        1748052  115534"
      ]
     },
     "execution_count": 22,
     "metadata": {},
     "output_type": "execute_result"
    }
   ],
   "source": [
    "xdf = pd.read_csv('../data/ep_{0}_data_summary.csv'.format(key_event_slug), index_col='persona')\n",
    "xdf"
   ]
  },
  {
   "cell_type": "code",
   "execution_count": 30,
   "metadata": {},
   "outputs": [
    {
     "data": {
      "text/plain": [
       "2"
      ]
     },
     "execution_count": 30,
     "metadata": {},
     "output_type": "execute_result"
    }
   ],
   "source": [
    "np.shape(xdf)[1]"
   ]
  },
  {
   "cell_type": "code",
   "execution_count": 27,
   "metadata": {},
   "outputs": [
    {
     "data": {
      "text/plain": [
       "persona\n",
       "1    43\n",
       "2    37\n",
       "3    49\n",
       "4    49\n",
       "5    42\n",
       "dtype: int64"
      ]
     },
     "execution_count": 27,
     "metadata": {},
     "output_type": "execute_result"
    }
   ],
   "source": [
    "lr_train_df.groupby('persona').apply(lambda g: len(g[lr_features].dropna(axis=1, how='all').columns))"
   ]
  },
  {
   "cell_type": "code",
   "execution_count": 24,
   "metadata": {},
   "outputs": [
    {
     "data": {
      "text/plain": [
       "persona\n",
       "1    42\n",
       "2    37\n",
       "3    42\n",
       "4    42\n",
       "5    42\n",
       "dtype: int64"
      ]
     },
     "execution_count": 24,
     "metadata": {},
     "output_type": "execute_result"
    }
   ],
   "source": [
    "rf_train_df.groupby('persona').apply(lambda g: len(g[rf_features].dropna(axis=1, how='all').columns))"
   ]
  },
  {
   "cell_type": "code",
   "execution_count": null,
   "metadata": {
    "collapsed": true
   },
   "outputs": [],
   "source": []
  },
  {
   "cell_type": "code",
   "execution_count": null,
   "metadata": {
    "collapsed": true
   },
   "outputs": [],
   "source": []
  },
  {
   "cell_type": "code",
   "execution_count": null,
   "metadata": {
    "collapsed": true
   },
   "outputs": [],
   "source": []
  },
  {
   "cell_type": "code",
   "execution_count": null,
   "metadata": {
    "collapsed": true
   },
   "outputs": [],
   "source": []
  },
  {
   "cell_type": "code",
   "execution_count": 42,
   "metadata": {
    "collapsed": true
   },
   "outputs": [],
   "source": [
    "import pickle"
   ]
  },
  {
   "cell_type": "code",
   "execution_count": 33,
   "metadata": {
    "collapsed": true
   },
   "outputs": [],
   "source": [
    "#rfcs\n",
    "#sgdcs"
   ]
  },
  {
   "cell_type": "code",
   "execution_count": 41,
   "metadata": {
    "collapsed": true
   },
   "outputs": [],
   "source": [
    "with open('../data/ep_{0}_randomforest_model.pkl'.format(key_event_slug), 'wb') as f:\n",
    "    pickle.dump(rfcs, f)"
   ]
  },
  {
   "cell_type": "code",
   "execution_count": 40,
   "metadata": {
    "collapsed": true
   },
   "outputs": [],
   "source": [
    "with open('../data/ep_{0}_stochgraddesc_model.pkl'.format(key_event_slug), 'wb') as g:\n",
    "    pickle.dump(sgdcs, g)"
   ]
  },
  {
   "cell_type": "code",
   "execution_count": 43,
   "metadata": {
    "collapsed": true
   },
   "outputs": [],
   "source": [
    "with open('../data/ep_{0}_logisticreg_model.pkl'.format(key_event_slug), 'wb') as f:\n",
    "    pickle.dump(lcs, f)"
   ]
  },
  {
   "cell_type": "code",
   "execution_count": 44,
   "metadata": {
    "collapsed": true
   },
   "outputs": [],
   "source": [
    "with open('../data/ep_{0}_gradboost_model.pkl'.format(key_event_slug), 'wb') as f:\n",
    "    pickle.dump(gbcs, f)"
   ]
  },
  {
   "cell_type": "code",
   "execution_count": 45,
   "metadata": {
    "collapsed": true
   },
   "outputs": [],
   "source": [
    "with open('../data/ep_{0}_gbsubsample_model.pkl'.format(key_event_slug), 'wb') as f:\n",
    "    pickle.dump(gbsss, f)"
   ]
  },
  {
   "cell_type": "code",
   "execution_count": null,
   "metadata": {
    "collapsed": true
   },
   "outputs": [],
   "source": []
  }
 ],
 "metadata": {
  "kernelspec": {
   "display_name": "Python 2",
   "language": "python",
   "name": "python2"
  },
  "language_info": {
   "codemirror_mode": {
    "name": "ipython",
    "version": 2
   },
   "file_extension": ".py",
   "mimetype": "text/x-python",
   "name": "python",
   "nbconvert_exporter": "python",
   "pygments_lexer": "ipython2",
   "version": "2.7.13"
  }
 },
 "nbformat": 4,
 "nbformat_minor": 2
}
