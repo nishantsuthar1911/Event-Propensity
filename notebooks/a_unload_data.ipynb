{
 "cells": [
  {
   "cell_type": "markdown",
   "metadata": {},
   "source": [
    "# Event-shopping Likelihood Model\n",
    "\n",
    "## Obtaining data\n",
    "\n",
    "#### In this notebook:\n",
    "* Run (and test) SQL files that make the event data tables\n",
    "* Run (and test) SQL file that unloads the data into an S3 bucket "
   ]
  },
  {
   "cell_type": "code",
   "execution_count": 1,
   "metadata": {
    "collapsed": true
   },
   "outputs": [],
   "source": [
    "import os\n",
    "import sys\n",
    "import json\n",
    "import glob\n",
    "import time\n",
    "\n",
    "import datetime\n",
    "\n",
    "import numpy as np\n",
    "import pandas as pd\n",
    "\n",
    "import logging\n",
    "from pythonjsonlogger import jsonlogger"
   ]
  },
  {
   "cell_type": "code",
   "execution_count": 2,
   "metadata": {},
   "outputs": [
    {
     "name": "stderr",
     "output_type": "stream",
     "text": [
      "{\"asctime\": \"2018-03-08 16:39:04,737\", \"levelname\": \"INFO\", \"message\": \"Starting job\"}\n",
      "{\"asctime\": \"2018-03-08 16:39:04,738\", \"levelname\": \"INFO\", \"message\": \"Starting job\"}\n"
     ]
    }
   ],
   "source": [
    "lib_path = os.path.abspath(os.path.join('..','lib'))\n",
    "sys.path.append(lib_path)\n",
    "import redshift_utils as rs\n",
    "import s3_utils as s3"
   ]
  },
  {
   "cell_type": "code",
   "execution_count": 3,
   "metadata": {},
   "outputs": [
    {
     "name": "stderr",
     "output_type": "stream",
     "text": [
      "{\"asctime\": \"2018-03-08 16:39:05,794\", \"levelname\": \"INFO\", \"message\": \"Starting job\"}\n"
     ]
    }
   ],
   "source": [
    "### Set up logging \n",
    "formatter = jsonlogger.JsonFormatter('%(asctime)s %(levelname)s %(message)s')\n",
    "logHandler = logging.StreamHandler()\n",
    "logHandler.setFormatter(formatter)\n",
    "logger = logging.getLogger('events_unload_logger')\n",
    "logger.propagate = False\n",
    "logger.addHandler(logHandler)\n",
    "logger.setLevel(logging.INFO)\n",
    "\n",
    "logger.info('Starting job')"
   ]
  },
  {
   "cell_type": "code",
   "execution_count": 4,
   "metadata": {
    "collapsed": true
   },
   "outputs": [],
   "source": [
    "with open('../json_and_txt/mktg_events.json','r') as f:\n",
    "    mktg_events = json.load(f)#, encoding='ascii')"
   ]
  },
  {
   "cell_type": "code",
   "execution_count": 5,
   "metadata": {
    "collapsed": true
   },
   "outputs": [],
   "source": [
    "with open('../json_and_txt/event_dates_select.txt','r') as f:\n",
    "    event_dates_str = f.read()"
   ]
  },
  {
   "cell_type": "code",
   "execution_count": 6,
   "metadata": {
    "collapsed": true
   },
   "outputs": [],
   "source": [
    "key_event = 'anniversary_public_event'\n",
    "key_short_event = dict([(d['event'],d['short_event']) for d in mktg_events])[key_event]\n",
    "key_year = 2017"
   ]
  },
  {
   "cell_type": "code",
   "execution_count": null,
   "metadata": {
    "collapsed": true
   },
   "outputs": [],
   "source": []
  },
  {
   "cell_type": "code",
   "execution_count": 10,
   "metadata": {
    "collapsed": true
   },
   "outputs": [],
   "source": [
    "sql_path = os.path.join('..','sql')\n",
    "suffix = ''#'_test'\n",
    "#test = True"
   ]
  },
  {
   "cell_type": "code",
   "execution_count": 11,
   "metadata": {
    "collapsed": true
   },
   "outputs": [],
   "source": [
    "environment = 'local'\n",
    "bucket = 'liveramp-testing'\n",
    "s3_path = 'event_propensity/temp_data/'\n",
    "handle = 'ep_{0}_{1}_{2}_'.format(key_short_event, key_year, time.strftime('%Y%m%d')) "
   ]
  },
  {
   "cell_type": "markdown",
   "metadata": {
    "collapsed": true
   },
   "source": [
    "#### ~~Run ZZ_create_events_tables.sql~~ Not necessary anymore"
   ]
  },
  {
   "cell_type": "code",
   "execution_count": 10,
   "metadata": {
    "collapsed": true
   },
   "outputs": [],
   "source": [
    "#sql_file = 'ZZ_create_events_tables.sql'\n",
    "#start = time.time()\n",
    "#logger.info('Running SQL file {}...'.format(sql_file))\n",
    "#sql = rs.read_sql_file(os.path.join(sql_path, sql_file))\n",
    "#rs.execute_rs_query(sql)\n",
    "#end = time.time()\n",
    "#logger.info('Running SQL required {}s'.format(round(end - start, 3)))"
   ]
  },
  {
   "cell_type": "markdown",
   "metadata": {
    "collapsed": true
   },
   "source": [
    "#### Run XX_check_persona_event_dis.sql to check distribution of customer personas in shopping events"
   ]
  },
  {
   "cell_type": "code",
   "execution_count": 11,
   "metadata": {
    "collapsed": true
   },
   "outputs": [],
   "source": [
    "event_dates_txt = \"\\nunion\\n\\n\".join(map(lambda s: event_dates_str.format(suffix, **s), mktg_events))"
   ]
  },
  {
   "cell_type": "code",
   "execution_count": 12,
   "metadata": {
    "collapsed": true
   },
   "outputs": [],
   "source": [
    "%%time\n",
    "\n",
    "sql_file = 'XX_check_persona_event_dist.sql'\n",
    "start_yr = 2013\n",
    "end_yr = 2017\n",
    "dl_path = os.path.join('temp','downloads')\n",
    "distfile = 'event_shoppers_by_persona.csv'\n",
    "sql = rs.read_sql_file(os.path.join(sql_path, sql_file))\n",
    "sql = sql.format(suffix, start_yr, end_yr, event_dates_txt)\n",
    "rs.execute_rs_query(sql, return_csv = True, csvfilename = os.path.join(dl_path, distfile), delimiter = ',')"
   ]
  },
  {
   "cell_type": "markdown",
   "metadata": {
    "collapsed": true
   },
   "source": [
    "\n",
    "#### Run 00_get_event_span.sql"
   ]
  },
  {
   "cell_type": "code",
   "execution_count": 12,
   "metadata": {},
   "outputs": [
    {
     "name": "stderr",
     "output_type": "stream",
     "text": [
      "{\"asctime\": \"2018-03-08 16:41:55,757\", \"levelname\": \"INFO\", \"message\": \"Running SQL file 00_get_event_span.sql...\"}\n",
      "{\"asctime\": \"2018-03-08 16:42:07,456\", \"levelname\": \"INFO\", \"message\": \"Running SQL required 11.699s\"}\n"
     ]
    }
   ],
   "source": [
    "sql_file = '00_get_event_span.sql'\n",
    "start = time.time()\n",
    "logger.info('Running SQL file {}...'.format(sql_file))\n",
    "sql = rs.read_sql_file(os.path.join(sql_path, sql_file))\n",
    "sql = sql.format(suffix, key_event, key_year)\n",
    "rows, header = rs.execute_rs_query(sql, return_data=True)\n",
    "end = time.time()\n",
    "logger.info('Running SQL required {}s'.format(round(end - start, 3)))"
   ]
  },
  {
   "cell_type": "code",
   "execution_count": 13,
   "metadata": {},
   "outputs": [
    {
     "name": "stdout",
     "output_type": "stream",
     "text": [
      "2017-07-21 2017-08-06\n"
     ]
    }
   ],
   "source": [
    "start_dt, end_dt = rows[0]\n",
    "print start_dt, end_dt"
   ]
  },
  {
   "cell_type": "markdown",
   "metadata": {
    "collapsed": true
   },
   "source": [
    "#### Run 01_unload_data.sql"
   ]
  },
  {
   "cell_type": "code",
   "execution_count": 14,
   "metadata": {
    "collapsed": true
   },
   "outputs": [],
   "source": [
    "event_dates_txt = \"\\nunion\\n\\n\".join(map(lambda s: event_dates_str.format(suffix, **s), mktg_events))"
   ]
  },
  {
   "cell_type": "code",
   "execution_count": 26,
   "metadata": {
    "collapsed": true
   },
   "outputs": [],
   "source": [
    "feature_end_dt = start_dt - datetime.timedelta(days=30)"
   ]
  },
  {
   "cell_type": "code",
   "execution_count": 28,
   "metadata": {},
   "outputs": [
    {
     "name": "stderr",
     "output_type": "stream",
     "text": [
      "{\"asctime\": \"2018-03-08 16:45:14,135\", \"levelname\": \"INFO\", \"message\": \"Creating and unloading data...\"}\n",
      "{\"asctime\": \"2018-03-08 17:02:53,734\", \"levelname\": \"INFO\", \"message\": \"Creating and unloading data required 1059.598s\"}\n"
     ]
    }
   ],
   "source": [
    "sql_file = '01_unload_data.sql'\n",
    "start = time.time()\n",
    "logger.info('Creating and unloading data...')\n",
    "creds = s3.get_temp_creds(environment=environment, profile_name='default')\n",
    "sql = rs.read_sql_file(os.path.join(sql_path, sql_file))\n",
    "sql = sql.format(suffix, start_dt, end_dt, feature_end_dt, event_dates_txt, bucket, s3_path, handle, creds)\n",
    "rs.execute_rs_query(sql)\n",
    "end = time.time()\n",
    "logger.info('Creating and unloading data required {}s'.format(round(end - start, 3)))"
   ]
  },
  {
   "cell_type": "markdown",
   "metadata": {
    "collapsed": true
   },
   "source": [
    "#### Download result file from S3 bucket"
   ]
  },
  {
   "cell_type": "code",
   "execution_count": 29,
   "metadata": {
    "collapsed": true
   },
   "outputs": [],
   "source": [
    "#handle = 'ep_{0}_{1}_{2}_'.format(key_short_event, key_year, time.strftime('%Y%m%d')) \n",
    "dl_path = os.path.join('temp','downloads')\n",
    "filename = handle + '000.gz'"
   ]
  },
  {
   "cell_type": "code",
   "execution_count": 30,
   "metadata": {},
   "outputs": [
    {
     "name": "stderr",
     "output_type": "stream",
     "text": [
      "{\"asctime\": \"2018-03-08 17:05:38,186\", \"levelname\": \"INFO\", \"message\": \"Downloading data...\"}\n",
      "{\"asctime\": \"2018-03-08 17:05:38,439\", \"levelname\": \"INFO\", \"message\": \"S3_path + filename = event_propensity/temp_data/ep_anniversary_public_2017_20180308_000.gz\"}\n",
      "{\"asctime\": \"2018-03-08 17:05:38,440\", \"levelname\": \"INFO\", \"message\": \"Local filepath + filename = temp/downloads/ep_anniversary_public_2017_20180308_000.gz\"}\n",
      "{\"asctime\": \"2018-03-08 17:07:48,309\", \"levelname\": \"INFO\", \"message\": \"Downloading data required 130.123s\"}\n"
     ]
    }
   ],
   "source": [
    "start = time.time()\n",
    "logger.info('Downloading data...')\n",
    "s3.download_file_from_s3(bucket, s3_path, filename, filepath=dl_path, environment=environment, profile_name='default')\n",
    "end = time.time()\n",
    "logger.info('Downloading data required {}s'.format(round(end - start, 3)))"
   ]
  },
  {
   "cell_type": "code",
   "execution_count": null,
   "metadata": {
    "collapsed": true
   },
   "outputs": [],
   "source": []
  }
 ],
 "metadata": {
  "kernelspec": {
   "display_name": "Python 2",
   "language": "python",
   "name": "python2"
  },
  "language_info": {
   "codemirror_mode": {
    "name": "ipython",
    "version": 2
   },
   "file_extension": ".py",
   "mimetype": "text/x-python",
   "name": "python",
   "nbconvert_exporter": "python",
   "pygments_lexer": "ipython2",
   "version": "2.7.13"
  }
 },
 "nbformat": 4,
 "nbformat_minor": 2
}
