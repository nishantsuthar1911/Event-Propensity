{
 "cells": [
  {
   "cell_type": "markdown",
   "metadata": {},
   "source": [
    "# Event-shopping Likelihood Model\n",
    "\n",
    "## Data exploration\n",
    "\n",
    "#### In this notebook:\n",
    "* ~~Download data file from S3 bucket and save locally~~\n",
    "* Examine aggregate event-shopping-by-persona counts\n",
    "* Read in a sample of the data set, taking an equal number from each persona \n",
    "* Save sample\n",
    "* Scale and transform data\n",
    "* Examine data"
   ]
  },
  {
   "cell_type": "code",
   "execution_count": 1,
   "metadata": {
    "collapsed": true
   },
   "outputs": [],
   "source": [
    "import os\n",
    "import sys\n",
    "import json\n",
    "import time\n",
    "import re\n",
    "import gzip\n",
    "import random\n",
    "\n",
    "import numpy as np\n",
    "import pandas as pd"
   ]
  },
  {
   "cell_type": "code",
   "execution_count": 2,
   "metadata": {
    "collapsed": true
   },
   "outputs": [],
   "source": [
    "from scipy.stats import chi2_contingency\n",
    "\n",
    "#import statsmodels.api as sm \n",
    "\n",
    "from sklearn.linear_model import LogisticRegression, SGDClassifier\n",
    "from sklearn.ensemble import RandomForestClassifier, AdaBoostClassifier, GradientBoostingRegressor\n",
    "from sklearn.discriminant_analysis import QuadraticDiscriminantAnalysis as QDA\n",
    "from sklearn.preprocessing import StandardScaler, RobustScaler\n",
    "from sklearn.manifold import TSNE\n",
    "from sklearn.model_selection import cross_val_score, train_test_split, GridSearchCV\n",
    "from sklearn import metrics"
   ]
  },
  {
   "cell_type": "code",
   "execution_count": 4,
   "metadata": {
    "collapsed": true
   },
   "outputs": [],
   "source": [
    "#lib_path = os.path.abspath(os.path.join('..','lib'))\n",
    "#sys.path.append(lib_path)\n",
    "#import redshift_utils as rs\n",
    "#import s3_utils as s3"
   ]
  },
  {
   "cell_type": "code",
   "execution_count": null,
   "metadata": {
    "collapsed": true
   },
   "outputs": [],
   "source": []
  },
  {
   "cell_type": "code",
   "execution_count": 11,
   "metadata": {
    "collapsed": true
   },
   "outputs": [],
   "source": [
    "key_event = 'anniversary_public'\n",
    "key_year = 2017\n",
    "key_event_slug = 'annpub17'"
   ]
  },
  {
   "cell_type": "markdown",
   "metadata": {},
   "source": [
    "#### Download file from S3 bucket"
   ]
  },
  {
   "cell_type": "code",
   "execution_count": 4,
   "metadata": {
    "collapsed": true
   },
   "outputs": [],
   "source": [
    "handle = 'ep_anniversary_public_2017_20180308_'\n",
    "#handle = 'ep_valentines_day_2017_20180307_'\n",
    "filename = handle + '000.gz'\n",
    "dl_path = os.path.join('temp','downloads')"
   ]
  },
  {
   "cell_type": "code",
   "execution_count": 35,
   "metadata": {
    "collapsed": true
   },
   "outputs": [],
   "source": [
    "#environment = 'local'\n",
    "#bucket = 'liveramp-testing'\n",
    "#s3_path = 'event_propensity/temp_data/'"
   ]
  },
  {
   "cell_type": "code",
   "execution_count": 36,
   "metadata": {
    "collapsed": true,
    "scrolled": false
   },
   "outputs": [],
   "source": [
    "#s3.download_file_from_s3(bucket, s3_path, filename, filepath=dl_path, environment=environment)"
   ]
  },
  {
   "cell_type": "markdown",
   "metadata": {
    "collapsed": true
   },
   "source": [
    "#### Examine distribution of personas in shopping events"
   ]
  },
  {
   "cell_type": "code",
   "execution_count": 8,
   "metadata": {
    "collapsed": true
   },
   "outputs": [],
   "source": [
    "distfile = 'event_shoppers_by_persona.csv'\n",
    "qdf = pd.read_csv(os.path.join(dl_path, distfile))"
   ]
  },
  {
   "cell_type": "code",
   "execution_count": 20,
   "metadata": {
    "collapsed": true
   },
   "outputs": [],
   "source": [
    "#mdf = pd.melt(qdf, id_vars = ['persona','event','year'], value_vars=['n_shopped','n_existing'])"
   ]
  },
  {
   "cell_type": "code",
   "execution_count": 10,
   "metadata": {
    "collapsed": true
   },
   "outputs": [],
   "source": [
    "qdf['n_notshopped'] = qdf['n_existing'] - qdf['n_shopped']"
   ]
  },
  {
   "cell_type": "code",
   "execution_count": 10,
   "metadata": {},
   "outputs": [
    {
     "name": "stdout",
     "output_type": "stream",
     "text": [
      "82526344.46280143 0.0 677\n"
     ]
    }
   ],
   "source": [
    "gdf = qdf.groupby(['persona','year']).apply(lambda q: q[['n_shopped','n_existing']].values)\n",
    "obs = np.array(gdf.groupby(level=0).agg(lambda s: s.tolist()).tolist())\n",
    "chi2, p, dof, expected = chi2_contingency(obs)\n",
    "print chi2, p, dof"
   ]
  },
  {
   "cell_type": "code",
   "execution_count": 11,
   "metadata": {},
   "outputs": [
    {
     "name": "stdout",
     "output_type": "stream",
     "text": [
      "65255481.598253205 0.0 121\n"
     ]
    }
   ],
   "source": [
    "gdf = qdf.groupby(['persona','event'])[['n_shopped','n_notshopped']].sum()\n",
    "obs = np.array(gdf.groupby(level=0).apply(lambda s: s.values).tolist())\n",
    "chi2, p, dof, expected = chi2_contingency(obs)\n",
    "print chi2, p, dof"
   ]
  },
  {
   "cell_type": "code",
   "execution_count": 15,
   "metadata": {},
   "outputs": [
    {
     "data": {
      "text/plain": [
       "<matplotlib.axes._subplots.AxesSubplot at 0x114ddffd0>"
      ]
     },
     "execution_count": 15,
     "metadata": {},
     "output_type": "execute_result"
    },
    {
     "data": {
      "image/png": "[encoded data removed]",
      "text/plain": [
       "<matplotlib.figure.Figure at 0x1148ccc10>"
      ]
     },
     "metadata": {},
     "output_type": "display_data"
    }
   ],
   "source": [
    "gdf = qdf.groupby(['persona','event'])[['n_shopped','n_existing']].sum()\n",
    "gdf['pct_shopped'] = gdf['n_shopped']/gdf['n_existing']\n",
    "pvt = gdf.reset_index().pivot(index='event', columns='persona', values='pct_shopped')\n",
    "pvt.plot.bar()"
   ]
  },
  {
   "cell_type": "code",
   "execution_count": 14,
   "metadata": {},
   "outputs": [
    {
     "data": {
      "text/plain": [
       "<matplotlib.axes._subplots.AxesSubplot at 0x1148aebd0>"
      ]
     },
     "execution_count": 14,
     "metadata": {},
     "output_type": "execute_result"
    },
    {
     "data": {
      "image/png": "[encoded data removed]",
      "text/plain": [
       "<matplotlib.figure.Figure at 0x11499ad50>"
      ]
     },
     "metadata": {},
     "output_type": "display_data"
    }
   ],
   "source": [
    "gdf = qdf.loc[qdf['year']==2017].drop('year', axis=1).set_index(['persona','event'])#qdf.groupby(['persona','event'])[['n_shopped','n_existing']].sum()\n",
    "gdf['pct_shopped'] = gdf['n_shopped']/gdf['n_existing']\n",
    "pvt = gdf.reset_index().pivot(index='event', columns='persona', values='pct_shopped')\n",
    "pvt.plot.bar()"
   ]
  },
  {
   "cell_type": "code",
   "execution_count": null,
   "metadata": {
    "collapsed": true
   },
   "outputs": [],
   "source": []
  },
  {
   "cell_type": "markdown",
   "metadata": {},
   "source": [
    "#### Get distributed random sample of downloaded customer data"
   ]
  },
  {
   "cell_type": "code",
   "execution_count": 5,
   "metadata": {},
   "outputs": [
    {
     "name": "stdout",
     "output_type": "stream",
     "text": [
      "CPU times: user 3min 42s, sys: 4.44 s, total: 3min 47s\n",
      "Wall time: 3min 50s\n"
     ]
    }
   ],
   "source": [
    "%%time\n",
    "\n",
    "np.random.seed(30132)\n",
    "n_sample = 250000\n",
    "grp_col = 'persona'\n",
    "tgt_col = 'target_shopped_ind'\n",
    "grp_ord = []\n",
    "grp_cts = []\n",
    "tgt_cts = []\n",
    "#t0 = time.time()\n",
    "with gzip.open(os.path.join(dl_path,filename),'rb') as f: \n",
    "    header = f.readline().strip().split('|')\n",
    "    ix = header.index(grp_col)\n",
    "    jx = header.index(tgt_col)\n",
    "    kx = max(ix,jx)\n",
    "    for row in f:\n",
    "        row = row.split('|',kx+1)\n",
    "        g = row[ix]\n",
    "        t = row[jx]\n",
    "        if len(grp_ord) == 0 or g != grp_ord[-1]:\n",
    "            grp_ord.append(g)\n",
    "            grp_cts.append(0)\n",
    "            tgt_cts.append(0)\n",
    "        grp_cts[-1] += 1\n",
    "        tgt_cts[-1] += int(t)\n",
    "    n_each = n_sample/len(grp_ord)\n",
    "    skip = np.concatenate(map(lambda n,o: o - np.random.choice(n, n-n_each, replace=False), \n",
    "                              grp_cts, np.cumsum(grp_cts)))\n",
    "    skip.sort()\n",
    "    f.seek(0)\n",
    "    df = pd.read_csv(f, header=0, delimiter='|', skiprows=skip)\n",
    "#print time.time() - t0"
   ]
  },
  {
   "cell_type": "code",
   "execution_count": 12,
   "metadata": {},
   "outputs": [
    {
     "data": {
      "text/html": [
       "<div>\n",
       "<style scoped>\n",
       "    .dataframe tbody tr th:only-of-type {\n",
       "        vertical-align: middle;\n",
       "    }\n",
       "\n",
       "    .dataframe tbody tr th {\n",
       "        vertical-align: top;\n",
       "    }\n",
       "\n",
       "    .dataframe thead th {\n",
       "        text-align: right;\n",
       "    }\n",
       "</style>\n",
       "<table border=\"1\" class=\"dataframe\">\n",
       "  <thead>\n",
       "    <tr style=\"text-align: right;\">\n",
       "      <th></th>\n",
       "      <th>n</th>\n",
       "      <th>n_pos</th>\n",
       "      <th>pct</th>\n",
       "    </tr>\n",
       "    <tr>\n",
       "      <th>persona</th>\n",
       "      <th></th>\n",
       "      <th></th>\n",
       "      <th></th>\n",
       "    </tr>\n",
       "  </thead>\n",
       "  <tbody>\n",
       "    <tr>\n",
       "      <th>1</th>\n",
       "      <td>1766814</td>\n",
       "      <td>169019</td>\n",
       "      <td>0.095663</td>\n",
       "    </tr>\n",
       "    <tr>\n",
       "      <th>2</th>\n",
       "      <td>2188483</td>\n",
       "      <td>110209</td>\n",
       "      <td>0.050359</td>\n",
       "    </tr>\n",
       "    <tr>\n",
       "      <th>3</th>\n",
       "      <td>7760758</td>\n",
       "      <td>843944</td>\n",
       "      <td>0.108745</td>\n",
       "    </tr>\n",
       "    <tr>\n",
       "      <th>4</th>\n",
       "      <td>3899887</td>\n",
       "      <td>888168</td>\n",
       "      <td>0.227742</td>\n",
       "    </tr>\n",
       "    <tr>\n",
       "      <th>5</th>\n",
       "      <td>1748052</td>\n",
       "      <td>115534</td>\n",
       "      <td>0.066093</td>\n",
       "    </tr>\n",
       "  </tbody>\n",
       "</table>\n",
       "</div>"
      ],
      "text/plain": [
       "               n   n_pos       pct\n",
       "persona                           \n",
       "1        1766814  169019  0.095663\n",
       "2        2188483  110209  0.050359\n",
       "3        7760758  843944  0.108745\n",
       "4        3899887  888168  0.227742\n",
       "5        1748052  115534  0.066093"
      ]
     },
     "execution_count": 12,
     "metadata": {},
     "output_type": "execute_result"
    }
   ],
   "source": [
    "xdf = pd.DataFrame({'n': grp_cts, 'n_pos': tgt_cts}, index=map(int, grp_ord)).sort_index()\n",
    "xdf.index.name = 'persona'\n",
    "xdf.to_csv('../data/ep_{0}_data_summary.csv'.format(key_event_slug), index=True)\n",
    "xdf['pct'] = xdf['n_pos']/xdf['n']\n",
    "xdf"
   ]
  },
  {
   "cell_type": "code",
   "execution_count": 7,
   "metadata": {},
   "outputs": [
    {
     "data": {
      "text/html": [
       "<div>\n",
       "<style scoped>\n",
       "    .dataframe tbody tr th:only-of-type {\n",
       "        vertical-align: middle;\n",
       "    }\n",
       "\n",
       "    .dataframe tbody tr th {\n",
       "        vertical-align: top;\n",
       "    }\n",
       "\n",
       "    .dataframe thead th {\n",
       "        text-align: right;\n",
       "    }\n",
       "</style>\n",
       "<table border=\"1\" class=\"dataframe\">\n",
       "  <thead>\n",
       "    <tr style=\"text-align: right;\">\n",
       "      <th></th>\n",
       "      <th>count</th>\n",
       "      <th>sum</th>\n",
       "      <th>pct</th>\n",
       "    </tr>\n",
       "    <tr>\n",
       "      <th>persona</th>\n",
       "      <th></th>\n",
       "      <th></th>\n",
       "      <th></th>\n",
       "    </tr>\n",
       "  </thead>\n",
       "  <tbody>\n",
       "    <tr>\n",
       "      <th>1</th>\n",
       "      <td>50000</td>\n",
       "      <td>4837</td>\n",
       "      <td>0.09674</td>\n",
       "    </tr>\n",
       "    <tr>\n",
       "      <th>2</th>\n",
       "      <td>50000</td>\n",
       "      <td>2517</td>\n",
       "      <td>0.05034</td>\n",
       "    </tr>\n",
       "    <tr>\n",
       "      <th>3</th>\n",
       "      <td>50000</td>\n",
       "      <td>5505</td>\n",
       "      <td>0.11010</td>\n",
       "    </tr>\n",
       "    <tr>\n",
       "      <th>4</th>\n",
       "      <td>50000</td>\n",
       "      <td>11322</td>\n",
       "      <td>0.22644</td>\n",
       "    </tr>\n",
       "    <tr>\n",
       "      <th>5</th>\n",
       "      <td>50000</td>\n",
       "      <td>3297</td>\n",
       "      <td>0.06594</td>\n",
       "    </tr>\n",
       "  </tbody>\n",
       "</table>\n",
       "</div>"
      ],
      "text/plain": [
       "         count    sum      pct\n",
       "persona                       \n",
       "1        50000   4837  0.09674\n",
       "2        50000   2517  0.05034\n",
       "3        50000   5505  0.11010\n",
       "4        50000  11322  0.22644\n",
       "5        50000   3297  0.06594"
      ]
     },
     "execution_count": 7,
     "metadata": {},
     "output_type": "execute_result"
    }
   ],
   "source": [
    "gdf = df.groupby('persona')['target_shopped_ind'].agg(['count','sum'])\n",
    "gdf['pct'] = gdf['sum']/gdf['count']\n",
    "gdf"
   ]
  },
  {
   "cell_type": "code",
   "execution_count": null,
   "metadata": {
    "collapsed": true
   },
   "outputs": [],
   "source": [
    "xdf = pd.DataFrame({'n': grp_cts, 'n_pos': tgt_cts}, index=map(int, grp_ord)).sort_index()\n"
   ]
  },
  {
   "cell_type": "code",
   "execution_count": null,
   "metadata": {
    "collapsed": true
   },
   "outputs": [],
   "source": []
  },
  {
   "cell_type": "code",
   "execution_count": null,
   "metadata": {
    "collapsed": true
   },
   "outputs": [],
   "source": []
  },
  {
   "cell_type": "code",
   "execution_count": null,
   "metadata": {
    "collapsed": true
   },
   "outputs": [],
   "source": []
  },
  {
   "cell_type": "code",
   "execution_count": 3,
   "metadata": {
    "scrolled": true
   },
   "outputs": [
    {
     "name": "stdout",
     "output_type": "stream",
     "text": [
      "152.92937994\n"
     ]
    }
   ],
   "source": [
    "np.random.seed(301320)\n",
    "n_sample = 50000\n",
    "t0 = time.time()\n",
    "with gzip.open(os.path.join(dl_path,filename),'rb') as f:\n",
    "    n_rows = sum(1 for row in f) - 1\n",
    "    skip = np.random.choice(n_rows, n_rows-n_sample, replace=False) + 1\n",
    "    skip.sort()\n",
    "    f.seek(0)\n",
    "    df = pd.read_csv(f, header=0, delimiter='|', skiprows=skip)\n",
    "print time.time() - t0"
   ]
  },
  {
   "cell_type": "code",
   "execution_count": 17,
   "metadata": {},
   "outputs": [
    {
     "name": "stdout",
     "output_type": "stream",
     "text": [
      "171.072607994\n"
     ]
    }
   ],
   "source": [
    "np.random.seed(301320)\n",
    "n_sample = 50000\n",
    "t0 = time.time()\n",
    "with gzip.open(os.path.join(dl_path,filename),'rb') as f:\n",
    "    n_rows = sum(1 for row in f) - 1\n",
    "skip = np.random.choice(n_rows, n_rows-n_sample, replace=False) + 1\n",
    "skip.sort()\n",
    "df2 = pd.read_csv(os.path.join(dl_path,filename), header=0, delimiter='|', compression='gzip', skiprows=skip)\n",
    "print time.time() - t0"
   ]
  },
  {
   "cell_type": "code",
   "execution_count": null,
   "metadata": {
    "collapsed": true
   },
   "outputs": [],
   "source": []
  },
  {
   "cell_type": "code",
   "execution_count": 30,
   "metadata": {},
   "outputs": [
    {
     "data": {
      "text/plain": [
       "Index([u'cust_key', u'persona', u'target_shopped_ind', u'tenure_total_months',\n",
       "       u'loyalty_tender_ind', u'loyalty_nontender_ind', u'fl_total_spend',\n",
       "       u'fl_total_trips', u'fl_avg_spend_per_trip', u'sale_pct_items',\n",
       "       u'merch_pct_spend', u'womens_prod_pct_spend', u'mens_prod_pct_spend',\n",
       "       u'web_pct_spend', u'rack_pct_spend', u'fl_total_divs',\n",
       "       u'total_channels', u'months_since_last_sale', u'fl_shopped_ly_ind',\n",
       "       u'fl_total_spend_ly', u'anniversary_early_pct_spend',\n",
       "       u'anniversary_public_pct_spend', u'december_halfyear_pct_spend',\n",
       "       u'may_halfyear_pct_spend', u'wellness_pct_spend',\n",
       "       u'spring_fashion_pct_spend', u'fall_fashion_pct_spend',\n",
       "       u'holiday_light_pct_spend', u'holiday_full_pct_spend',\n",
       "       u'backtoschool_pct_spend', u'holiday_dressing_pct_spend',\n",
       "       u'valentines_day_pct_spend', u'mothers_day_pct_spend',\n",
       "       u'fathers_day_pct_spend', u'anniversary_early_pct_shopped',\n",
       "       u'anniversary_public_pct_shopped', u'december_halfyear_pct_shopped',\n",
       "       u'may_halfyear_pct_shopped', u'wellness_pct_shopped',\n",
       "       u'spring_fashion_pct_shopped', u'fall_fashion_pct_shopped',\n",
       "       u'holiday_light_pct_shopped', u'holiday_full_pct_shopped',\n",
       "       u'backtoschool_pct_shopped', u'holiday_dressing_pct_shopped',\n",
       "       u'valentines_day_pct_shopped', u'mothers_day_pct_shopped',\n",
       "       u'fathers_day_pct_shopped', u'anniversary_early_shop_ly_ind',\n",
       "       u'anniversary_public_shop_ly_ind', u'december_halfyear_shop_ly_ind',\n",
       "       u'may_halfyear_shop_ly_ind', u'wellness_shop_ly_ind',\n",
       "       u'spring_fashion_shop_ly_ind', u'fall_fashion_shop_ly_ind',\n",
       "       u'holiday_light_shop_ly_ind', u'holiday_full_shop_ly_ind',\n",
       "       u'backtoschool_shop_ly_ind', u'holiday_dressing_shop_ly_ind',\n",
       "       u'valentines_day_shop_ly_ind', u'mothers_day_shop_ly_ind',\n",
       "       u'fathers_day_shop_ly_ind'],\n",
       "      dtype='object')"
      ]
     },
     "execution_count": 30,
     "metadata": {},
     "output_type": "execute_result"
    }
   ],
   "source": [
    "df.columns"
   ]
  },
  {
   "cell_type": "code",
   "execution_count": 31,
   "metadata": {},
   "outputs": [
    {
     "data": {
      "text/plain": [
       "cust_key                            int64\n",
       "persona                             int64\n",
       "target_shopped_ind                  int64\n",
       "tenure_total_months               float64\n",
       "loyalty_tender_ind                  int64\n",
       "loyalty_nontender_ind               int64\n",
       "fl_total_spend                    float64\n",
       "fl_total_trips                      int64\n",
       "fl_avg_spend_per_trip             float64\n",
       "sale_pct_items                    float64\n",
       "merch_pct_spend                   float64\n",
       "womens_prod_pct_spend             float64\n",
       "mens_prod_pct_spend               float64\n",
       "web_pct_spend                     float64\n",
       "rack_pct_spend                    float64\n",
       "fl_total_divs                       int64\n",
       "total_channels                      int64\n",
       "months_since_last_sale            float64\n",
       "fl_shopped_ly_ind                   int64\n",
       "fl_total_spend_ly                 float64\n",
       "anniversary_early_pct_spend       float64\n",
       "anniversary_public_pct_spend      float64\n",
       "december_halfyear_pct_spend       float64\n",
       "may_halfyear_pct_spend            float64\n",
       "wellness_pct_spend                float64\n",
       "spring_fashion_pct_spend          float64\n",
       "fall_fashion_pct_spend            float64\n",
       "holiday_light_pct_spend           float64\n",
       "holiday_full_pct_spend            float64\n",
       "backtoschool_pct_spend            float64\n",
       "                                   ...   \n",
       "mothers_day_pct_spend             float64\n",
       "fathers_day_pct_spend             float64\n",
       "anniversary_early_pct_shopped     float64\n",
       "anniversary_public_pct_shopped    float64\n",
       "december_halfyear_pct_shopped     float64\n",
       "may_halfyear_pct_shopped          float64\n",
       "wellness_pct_shopped              float64\n",
       "spring_fashion_pct_shopped        float64\n",
       "fall_fashion_pct_shopped          float64\n",
       "holiday_light_pct_shopped         float64\n",
       "holiday_full_pct_shopped          float64\n",
       "backtoschool_pct_shopped          float64\n",
       "holiday_dressing_pct_shopped      float64\n",
       "valentines_day_pct_shopped        float64\n",
       "mothers_day_pct_shopped           float64\n",
       "fathers_day_pct_shopped           float64\n",
       "anniversary_early_shop_ly_ind       int64\n",
       "anniversary_public_shop_ly_ind      int64\n",
       "december_halfyear_shop_ly_ind       int64\n",
       "may_halfyear_shop_ly_ind            int64\n",
       "wellness_shop_ly_ind                int64\n",
       "spring_fashion_shop_ly_ind          int64\n",
       "fall_fashion_shop_ly_ind            int64\n",
       "holiday_light_shop_ly_ind           int64\n",
       "holiday_full_shop_ly_ind            int64\n",
       "backtoschool_shop_ly_ind            int64\n",
       "holiday_dressing_shop_ly_ind        int64\n",
       "valentines_day_shop_ly_ind          int64\n",
       "mothers_day_shop_ly_ind             int64\n",
       "fathers_day_shop_ly_ind             int64\n",
       "Length: 62, dtype: object"
      ]
     },
     "execution_count": 31,
     "metadata": {},
     "output_type": "execute_result"
    }
   ],
   "source": [
    "df.dtypes"
   ]
  },
  {
   "cell_type": "code",
   "execution_count": 20,
   "metadata": {},
   "outputs": [
    {
     "name": "stdout",
     "output_type": "stream",
     "text": [
      "tenure_total_months 0.032258064516129 107.741935483871\n",
      "loyalty_tender_ind 0 1\n",
      "loyalty_nontender_ind 0 1\n",
      "fl_total_spend 0.01 826182.03\n",
      "fl_total_trips 1 1066\n",
      "fl_avg_spend_per_trip 0.01 12201.3833333333\n",
      "sale_pct_items 0.0 100.0\n",
      "merch_pct_spend 3.38129235675715 100.0\n",
      "womens_prod_pct_spend 0.0 100.0\n",
      "mens_prod_pct_spend 0.0 100.0\n",
      "web_pct_spend 0.0 100.0\n",
      "rack_pct_spend 0.0 99.9418268378874\n",
      "fl_total_divs 1 16\n",
      "total_channels 1 3\n",
      "months_since_last_sale 0.032258064516129 24.0\n",
      "fl_shopped_ly_ind 0 1\n",
      "fl_total_spend_ly 0.0 441365.48\n",
      "anniversary_early_pct_spend 0.0 100.0\n",
      "anniversary_public_pct_spend 0.0 100.0\n",
      "december_halfyear_pct_spend 0.0 100.0\n",
      "may_halfyear_pct_spend 0.0 100.0\n",
      "wellness_pct_spend 0.0 100.0\n",
      "spring_fashion_pct_spend 0.0 100.0\n",
      "fall_fashion_pct_spend 0.0 100.0\n",
      "holiday_light_pct_spend 0.0 100.0\n",
      "holiday_full_pct_spend 0.0 100.0\n",
      "backtoschool_pct_spend 0.0 100.0\n",
      "holiday_dressing_pct_spend 0.0 100.0\n",
      "valentines_day_pct_spend 0.0 100.0\n",
      "mothers_day_pct_spend 0.0 100.0\n",
      "fathers_day_pct_spend 0.0 100.0\n",
      "anniversary_early_pct_shopped 0.0 100.0\n",
      "anniversary_public_pct_shopped 0.0 100.0\n",
      "december_halfyear_pct_shopped 0.0 100.0\n",
      "may_halfyear_pct_shopped 0.0 100.0\n",
      "wellness_pct_shopped 0.0 100.0\n",
      "spring_fashion_pct_shopped 0.0 100.0\n",
      "fall_fashion_pct_shopped 0.0 100.0\n",
      "holiday_light_pct_shopped 0.0 100.0\n",
      "holiday_full_pct_shopped 0.0 100.0\n",
      "backtoschool_pct_shopped 0.0 100.0\n",
      "holiday_dressing_pct_shopped 0.0 100.0\n",
      "valentines_day_pct_shopped 0.0 100.0\n",
      "mothers_day_pct_shopped 0.0 100.0\n",
      "fathers_day_pct_shopped 0.0 100.0\n",
      "anniversary_early_shop_ly_ind 0 1\n",
      "anniversary_public_shop_ly_ind 0 1\n",
      "december_halfyear_shop_ly_ind 0 1\n",
      "may_halfyear_shop_ly_ind 0 1\n",
      "wellness_shop_ly_ind 0 1\n",
      "spring_fashion_shop_ly_ind 0 1\n",
      "fall_fashion_shop_ly_ind 0 1\n",
      "holiday_light_shop_ly_ind 0 1\n",
      "holiday_full_shop_ly_ind 0 1\n",
      "backtoschool_shop_ly_ind 0 1\n",
      "holiday_dressing_shop_ly_ind 0 1\n",
      "valentines_day_shop_ly_ind 0 1\n",
      "mothers_day_shop_ly_ind 0 1\n",
      "fathers_day_shop_ly_ind 0 1\n"
     ]
    }
   ],
   "source": [
    "for col in df.columns.tolist()[3:]:\n",
    "    print col, df[col].min(), df[col].max()"
   ]
  },
  {
   "cell_type": "code",
   "execution_count": 21,
   "metadata": {},
   "outputs": [
    {
     "data": {
      "text/plain": [
       "False"
      ]
     },
     "execution_count": 21,
     "metadata": {},
     "output_type": "execute_result"
    }
   ],
   "source": [
    "(df.isnull().sum() > 0).any()"
   ]
  },
  {
   "cell_type": "code",
   "execution_count": 22,
   "metadata": {
    "collapsed": true
   },
   "outputs": [],
   "source": [
    "def transform_data(df, features, log_features, log_offset=0):\n",
    "    nonfeatures = [c for c in df.columns if c not in features]\n",
    "    df_t = pd.DataFrame(df[nonfeatures].values, columns=nonfeatures)\n",
    "    for col in features:\n",
    "        dcol = df[col].astype('float64')\n",
    "        if col in log_features:\n",
    "            dcol.loc[dcol <= 0] = log_offset\n",
    "            dcol.loc[dcol > 0] = np.log(dcol.loc[dcol > 0])\n",
    "        if re.search('_pct_',col) is not None:\n",
    "            df_t[col] = dcol/100.0\n",
    "        elif re.search('_ind$',col) is not None:\n",
    "            df_t[col] = dcol.astype('int64')\n",
    "        elif re.search('months',col) is not None:\n",
    "            df_t[col] = dcol\n",
    "        else:\n",
    "            df_t[col] = (dcol - dcol.min())/(dcol.max() - dcol.min())\n",
    "    return df_t"
   ]
  },
  {
   "cell_type": "code",
   "execution_count": null,
   "metadata": {
    "collapsed": true
   },
   "outputs": [],
   "source": []
  },
  {
   "cell_type": "code",
   "execution_count": 23,
   "metadata": {
    "collapsed": true
   },
   "outputs": [],
   "source": [
    "features = df.columns.tolist()[3:]\n",
    "target = 'target_shopped_ind'\n",
    "log_features = ['fl_total_spend','fl_total_trips','fl_avg_spend_per_trip','fl_total_spend_ly', 'fl_total_trips_ly','fl_avg_spend_per_trip_ly']\n",
    "tdf = transform_data(df, features, log_features, -0.5)\n",
    "tdf['tenure_total_months'] = tdf['tenure_total_months'].map(lambda t: 1 if t > 96 else t/96)\n",
    "tdf['months_since_last_sale'] = tdf['months_since_last_sale']/24"
   ]
  },
  {
   "cell_type": "code",
   "execution_count": 24,
   "metadata": {},
   "outputs": [
    {
     "data": {
      "text/plain": [
       "cust_key                            int64\n",
       "persona                             int64\n",
       "target_shopped_ind                  int64\n",
       "tenure_total_months               float64\n",
       "loyalty_tender_ind                  int64\n",
       "loyalty_nontender_ind               int64\n",
       "fl_total_spend                    float64\n",
       "fl_total_trips                    float64\n",
       "fl_avg_spend_per_trip             float64\n",
       "sale_pct_items                    float64\n",
       "merch_pct_spend                   float64\n",
       "womens_prod_pct_spend             float64\n",
       "mens_prod_pct_spend               float64\n",
       "web_pct_spend                     float64\n",
       "rack_pct_spend                    float64\n",
       "fl_total_divs                     float64\n",
       "total_channels                    float64\n",
       "months_since_last_sale            float64\n",
       "fl_shopped_ly_ind                   int64\n",
       "fl_total_spend_ly                 float64\n",
       "anniversary_early_pct_spend       float64\n",
       "anniversary_public_pct_spend      float64\n",
       "december_halfyear_pct_spend       float64\n",
       "may_halfyear_pct_spend            float64\n",
       "wellness_pct_spend                float64\n",
       "spring_fashion_pct_spend          float64\n",
       "fall_fashion_pct_spend            float64\n",
       "holiday_light_pct_spend           float64\n",
       "holiday_full_pct_spend            float64\n",
       "backtoschool_pct_spend            float64\n",
       "                                   ...   \n",
       "mothers_day_pct_spend             float64\n",
       "fathers_day_pct_spend             float64\n",
       "anniversary_early_pct_shopped     float64\n",
       "anniversary_public_pct_shopped    float64\n",
       "december_halfyear_pct_shopped     float64\n",
       "may_halfyear_pct_shopped          float64\n",
       "wellness_pct_shopped              float64\n",
       "spring_fashion_pct_shopped        float64\n",
       "fall_fashion_pct_shopped          float64\n",
       "holiday_light_pct_shopped         float64\n",
       "holiday_full_pct_shopped          float64\n",
       "backtoschool_pct_shopped          float64\n",
       "holiday_dressing_pct_shopped      float64\n",
       "valentines_day_pct_shopped        float64\n",
       "mothers_day_pct_shopped           float64\n",
       "fathers_day_pct_shopped           float64\n",
       "anniversary_early_shop_ly_ind       int64\n",
       "anniversary_public_shop_ly_ind      int64\n",
       "december_halfyear_shop_ly_ind       int64\n",
       "may_halfyear_shop_ly_ind            int64\n",
       "wellness_shop_ly_ind                int64\n",
       "spring_fashion_shop_ly_ind          int64\n",
       "fall_fashion_shop_ly_ind            int64\n",
       "holiday_light_shop_ly_ind           int64\n",
       "holiday_full_shop_ly_ind            int64\n",
       "backtoschool_shop_ly_ind            int64\n",
       "holiday_dressing_shop_ly_ind        int64\n",
       "valentines_day_shop_ly_ind          int64\n",
       "mothers_day_shop_ly_ind             int64\n",
       "fathers_day_shop_ly_ind             int64\n",
       "Length: 62, dtype: object"
      ]
     },
     "execution_count": 24,
     "metadata": {},
     "output_type": "execute_result"
    }
   ],
   "source": [
    "tdf.dtypes"
   ]
  },
  {
   "cell_type": "code",
   "execution_count": 25,
   "metadata": {},
   "outputs": [
    {
     "data": {
      "text/plain": [
       "False"
      ]
     },
     "execution_count": 25,
     "metadata": {},
     "output_type": "execute_result"
    }
   ],
   "source": [
    "(tdf.isnull().sum() > 0).any()"
   ]
  },
  {
   "cell_type": "code",
   "execution_count": null,
   "metadata": {
    "collapsed": true
   },
   "outputs": [],
   "source": []
  },
  {
   "cell_type": "code",
   "execution_count": 26,
   "metadata": {},
   "outputs": [
    {
     "name": "stdout",
     "output_type": "stream",
     "text": [
      "tenure_total_months 0.00033602150537634373 1.0\n",
      "loyalty_tender_ind 0 1\n",
      "loyalty_nontender_ind 0 1\n",
      "fl_total_spend 0.0 1.0\n",
      "fl_total_trips 0.0 1.0\n",
      "fl_avg_spend_per_trip 0.0 1.0\n",
      "sale_pct_items 0.0 1.0\n",
      "merch_pct_spend 0.0338129235675715 1.0\n",
      "womens_prod_pct_spend 0.0 1.0\n",
      "mens_prod_pct_spend 0.0 1.0\n",
      "web_pct_spend 0.0 1.0\n",
      "rack_pct_spend 0.0 0.999418268378874\n",
      "fl_total_divs 0.0 1.0\n",
      "total_channels 0.0 1.0\n",
      "months_since_last_sale 0.001344086021505375 1.0\n",
      "fl_shopped_ly_ind 0 1\n",
      "fl_total_spend_ly 0.0 1.0\n",
      "anniversary_early_pct_spend 0.0 1.0\n",
      "anniversary_public_pct_spend 0.0 1.0\n",
      "december_halfyear_pct_spend 0.0 1.0\n",
      "may_halfyear_pct_spend 0.0 1.0\n",
      "wellness_pct_spend 0.0 1.0\n",
      "spring_fashion_pct_spend 0.0 1.0\n",
      "fall_fashion_pct_spend 0.0 1.0\n",
      "holiday_light_pct_spend 0.0 1.0\n",
      "holiday_full_pct_spend 0.0 1.0\n",
      "backtoschool_pct_spend 0.0 1.0\n",
      "holiday_dressing_pct_spend 0.0 1.0\n",
      "valentines_day_pct_spend 0.0 1.0\n",
      "mothers_day_pct_spend 0.0 1.0\n",
      "fathers_day_pct_spend 0.0 1.0\n",
      "anniversary_early_pct_shopped 0.0 1.0\n",
      "anniversary_public_pct_shopped 0.0 1.0\n",
      "december_halfyear_pct_shopped 0.0 1.0\n",
      "may_halfyear_pct_shopped 0.0 1.0\n",
      "wellness_pct_shopped 0.0 1.0\n",
      "spring_fashion_pct_shopped 0.0 1.0\n",
      "fall_fashion_pct_shopped 0.0 1.0\n",
      "holiday_light_pct_shopped 0.0 1.0\n",
      "holiday_full_pct_shopped 0.0 1.0\n",
      "backtoschool_pct_shopped 0.0 1.0\n",
      "holiday_dressing_pct_shopped 0.0 1.0\n",
      "valentines_day_pct_shopped 0.0 1.0\n",
      "mothers_day_pct_shopped 0.0 1.0\n",
      "fathers_day_pct_shopped 0.0 1.0\n",
      "anniversary_early_shop_ly_ind 0 1\n",
      "anniversary_public_shop_ly_ind 0 1\n",
      "december_halfyear_shop_ly_ind 0 1\n",
      "may_halfyear_shop_ly_ind 0 1\n",
      "wellness_shop_ly_ind 0 1\n",
      "spring_fashion_shop_ly_ind 0 1\n",
      "fall_fashion_shop_ly_ind 0 1\n",
      "holiday_light_shop_ly_ind 0 1\n",
      "holiday_full_shop_ly_ind 0 1\n",
      "backtoschool_shop_ly_ind 0 1\n",
      "holiday_dressing_shop_ly_ind 0 1\n",
      "valentines_day_shop_ly_ind 0 1\n",
      "mothers_day_shop_ly_ind 0 1\n",
      "fathers_day_shop_ly_ind 0 1\n"
     ]
    }
   ],
   "source": [
    "for col in features:\n",
    "    print col, tdf[col].min(), tdf[col].max()"
   ]
  },
  {
   "cell_type": "code",
   "execution_count": null,
   "metadata": {
    "collapsed": true
   },
   "outputs": [],
   "source": []
  },
  {
   "cell_type": "code",
   "execution_count": 27,
   "metadata": {
    "collapsed": true
   },
   "outputs": [],
   "source": [
    "df.to_csv('../data/ep_{0}_unscaled_sample.csv.gz'.format(key_event_slug), index=False, sep='|', compression='gzip')\n",
    "tdf.to_csv('../data/ep_{0}_scaled_sample.csv.gz'.format(key_event_slug), index=False, sep='|', compression='gzip')"
   ]
  },
  {
   "cell_type": "code",
   "execution_count": 27,
   "metadata": {
    "collapsed": true
   },
   "outputs": [],
   "source": [
    "#df.to_csv('../data/ep_annpub17_unscaled_sample.csv.gz', index=False, sep='|', compression='gzip')\n",
    "#tdf.to_csv('../data/ep_annpub17_scaled_sample.csv.gz', index=False, sep='|', compression='gzip')"
   ]
  },
  {
   "cell_type": "code",
   "execution_count": 28,
   "metadata": {
    "collapsed": true
   },
   "outputs": [],
   "source": [
    "#df.to_csv('../data/ep_valent17_unscaled_sample.csv.gz', index=False, sep='|', compression='gzip')\n",
    "#tdf.to_csv('../data/ep_valent17_scaled_sample.csv.gz', index=False, sep='|', compression='gzip')"
   ]
  },
  {
   "cell_type": "code",
   "execution_count": null,
   "metadata": {
    "collapsed": true
   },
   "outputs": [],
   "source": []
  },
  {
   "cell_type": "code",
   "execution_count": 120,
   "metadata": {},
   "outputs": [
    {
     "name": "stdout",
     "output_type": "stream",
     "text": [
      "65\n",
      "56\n"
     ]
    },
    {
     "data": {
      "text/plain": [
       "fl_total_spend_ly                fl_avg_spend_per_trip_ly           0.935174\n",
       "fl_avg_spend_per_trip_ly         fl_total_spend_ly                  0.935174\n",
       "                                 merch_pct_spend_ly                 0.894395\n",
       "merch_pct_spend_ly               fl_avg_spend_per_trip_ly           0.894395\n",
       "fl_total_spend                   fl_total_trips                     0.884944\n",
       "fl_total_trips                   fl_total_spend                     0.884944\n",
       "fl_total_divs                    fl_total_trips                     0.881932\n",
       "fl_total_trips                   fl_total_divs                      0.881932\n",
       "fl_total_divs_ly                 fl_total_trips_ly                  0.863723\n",
       "fl_total_trips_ly                fl_total_divs_ly                   0.863723\n",
       "mens_prod_pct_spend_ly           mens_prod_pct_spend                0.826123\n",
       "mens_prod_pct_spend              mens_prod_pct_spend_ly             0.826123\n",
       "merch_pct_spend_ly               fl_total_spend_ly                  0.820056\n",
       "fl_total_spend_ly                merch_pct_spend_ly                 0.820056\n",
       "rack_pct_spend_ly                rack_pct_spend                     0.817302\n",
       "rack_pct_spend                   rack_pct_spend_ly                  0.817302\n",
       "fl_total_spend                   fl_total_divs                      0.811652\n",
       "fl_total_divs                    fl_total_spend                     0.811652\n",
       "web_pct_spend                    web_pct_spend_ly                   0.807019\n",
       "web_pct_spend_ly                 web_pct_spend                      0.807019\n",
       "anniversary_public_pct_spend_ly  anniversary_public_pct_spend       0.791723\n",
       "anniversary_public_pct_spend     anniversary_public_pct_spend_ly    0.791723\n",
       "sale_pct_items_ly                sale_pct_items                     0.789004\n",
       "sale_pct_items                   sale_pct_items_ly                  0.789004\n",
       "holiday_full_pct_spend_ly        holiday_full_pct_spend             0.776249\n",
       "holiday_full_pct_spend           holiday_full_pct_spend_ly          0.776249\n",
       "holiday_light_pct_spend          holiday_light_pct_spend_ly         0.774100\n",
       "holiday_light_pct_spend_ly       holiday_light_pct_spend            0.774100\n",
       "fathers_day_pct_spend_ly         fathers_day_pct_spend              0.767552\n",
       "fathers_day_pct_spend            fathers_day_pct_spend_ly           0.767552\n",
       "                                                                      ...   \n",
       "fathers_day_pct_spend_ly         may_halfyear_pct_spend_ly          0.568542\n",
       "may_halfyear_pct_spend_ly        fathers_day_pct_spend_ly           0.568542\n",
       "total_channels                   fl_total_trips                     0.567613\n",
       "fl_total_trips                   total_channels                     0.567613\n",
       "valentines_day_pct_spend_ly      valentines_day_pct_spend           0.565585\n",
       "valentines_day_pct_spend         valentines_day_pct_spend_ly        0.565585\n",
       "fl_total_trips                   spring_fashion_pct_shopped         0.563692\n",
       "spring_fashion_pct_shopped       fl_total_trips                     0.563692\n",
       "valentines_day_pct_shopped       fl_total_divs                      0.557849\n",
       "fl_total_divs                    valentines_day_pct_shopped         0.557849\n",
       "total_channels_ly                fl_total_divs_ly                   0.536234\n",
       "fl_total_divs_ly                 total_channels_ly                  0.536234\n",
       "fl_total_spend                   valentines_day_pct_shopped         0.536197\n",
       "valentines_day_pct_shopped       fl_total_spend                     0.536197\n",
       "fl_total_divs                    total_channels                     0.535359\n",
       "total_channels                   fl_total_divs                      0.535359\n",
       "fl_total_spend                   holiday_full_pct_shopped           0.533299\n",
       "holiday_full_pct_shopped         fl_total_spend                     0.533299\n",
       "spring_fashion_pct_shopped       valentines_day_pct_shopped         0.531447\n",
       "valentines_day_pct_shopped       spring_fashion_pct_shopped         0.531447\n",
       "total_channels                   tenure_total_months                0.524934\n",
       "tenure_total_months              total_channels                     0.524934\n",
       "valentines_day_pct_shopped       valentines_day_pct_spend_ly        0.523694\n",
       "valentines_day_pct_spend_ly      valentines_day_pct_shopped         0.523694\n",
       "valentines_day_pct_shopped       fl_total_trips_ly                  0.513768\n",
       "fl_total_trips_ly                valentines_day_pct_shopped         0.513768\n",
       "fl_total_spend                   fl_total_spend_ly                  0.513607\n",
       "fl_total_spend_ly                fl_total_spend                     0.513607\n",
       "spring_fashion_pct_shopped       fl_total_divs                      0.509665\n",
       "fl_total_divs                    spring_fashion_pct_shopped         0.509665\n",
       "Length: 146, dtype: float64"
      ]
     },
     "execution_count": 120,
     "metadata": {},
     "output_type": "execute_result"
    }
   ],
   "source": [
    "features = tdf.columns.tolist()[3:]\n",
    "print len(features)\n",
    "features = [c for c in features if not c.startswith('wellness_pct_')]\n",
    "features = [c for c in features if not c.startswith('holiday_dressing_pct_')]\n",
    "features = [c for c in features if not c.startswith('fall_fashion_pct_')]\n",
    "#features = [c for c in features if c != 'fl_total_spend_ly']\n",
    "#features = [c for c in features if c != 'fl_total_divs']\n",
    "#features = [c for c in features if c not in ['womens_prod_pct_spend','rack_pct_items','merch_pct_items','fl_total_items']]\n",
    "#features = [c for c in features if not c.endswith('_prod_pct_items')]\n",
    "#features = [c for c in features if not c.endswith('_pct_trips')]\n",
    "print len(features)\n",
    "corrs = tdf[features].corr().abs().unstack().sort_values(ascending=False)\n",
    "corrs.loc[(corrs < 1)&(corrs >= 0.5)]"
   ]
  },
  {
   "cell_type": "code",
   "execution_count": 20,
   "metadata": {},
   "outputs": [
    {
     "name": "stdout",
     "output_type": "stream",
     "text": [
      "67\n",
      "67\n"
     ]
    },
    {
     "data": {
      "text/plain": [
       "fl_total_spend_ly            fl_avg_spend_per_trip_ly       0.971832\n",
       "fl_avg_spend_per_trip_ly     fl_total_spend_ly              0.971832\n",
       "merch_pct_spend_ly           fl_avg_spend_per_trip_ly       0.935490\n",
       "fl_avg_spend_per_trip_ly     merch_pct_spend_ly             0.935490\n",
       "fl_total_spend_ly            merch_pct_spend_ly             0.904551\n",
       "merch_pct_spend_ly           fl_total_spend_ly              0.904551\n",
       "womens_prod_pct_spend        mens_prod_pct_spend            0.868479\n",
       "mens_prod_pct_spend          womens_prod_pct_spend          0.868479\n",
       "valentines_day_pct_spend_ly  wellness_pct_spend_ly          0.861605\n",
       "wellness_pct_spend_ly        valentines_day_pct_spend_ly    0.861605\n",
       "fl_total_divs                fl_total_trips                 0.854338\n",
       "fl_total_trips               fl_total_divs                  0.854338\n",
       "fl_total_divs_ly             fl_total_trips_ly              0.846601\n",
       "fl_total_trips_ly            fl_total_divs_ly               0.846601\n",
       "valentines_day_pct_shopped   wellness_pct_shopped           0.840395\n",
       "wellness_pct_shopped         valentines_day_pct_shopped     0.840395\n",
       "fl_total_trips               fl_total_spend                 0.825105\n",
       "fl_total_spend               fl_total_trips                 0.825105\n",
       "wellness_pct_spend           valentines_day_pct_spend       0.814371\n",
       "valentines_day_pct_spend     wellness_pct_spend             0.814371\n",
       "dtype: float64"
      ]
     },
     "execution_count": 20,
     "metadata": {},
     "output_type": "execute_result"
    }
   ],
   "source": [
    "p = 5\n",
    "features = tdf.columns.tolist()[3:]\n",
    "print len(features)\n",
    "#features = [c for c in features if not c.startswith('wellness_pct_')]\n",
    "#features = [c for c in features if not c.startswith('holiday_dressing_pct_')]\n",
    "#features = [c for c in features if not c.startswith('fall_fashion_pct_')]\n",
    "#features = [c for c in features if c != 'fl_total_spend_ly']\n",
    "#features = [c for c in features if c != 'fl_total_divs']\n",
    "#features = [c for c in features if c not in ['womens_prod_pct_spend','rack_pct_items','merch_pct_items','fl_total_items']]\n",
    "#features = [c for c in features if not c.endswith('_prod_pct_items')]\n",
    "#features = [c for c in features if not c.endswith('_pct_trips')]\n",
    "print len(features)\n",
    "corrs = tdf.loc[tdf['persona']==p,features].corr().abs().unstack().sort_values(ascending=False)\n",
    "corrs.loc[(corrs < 1)&(corrs >= 0.8)].head(60)"
   ]
  },
  {
   "cell_type": "code",
   "execution_count": 19,
   "metadata": {},
   "outputs": [
    {
     "data": {
      "text/plain": [
       "<matplotlib.axes._subplots.AxesSubplot at 0x111b5c0d0>"
      ]
     },
     "execution_count": 19,
     "metadata": {},
     "output_type": "execute_result"
    },
    {
     "data": {
      "image/png": "[encoded data removed]",
      "text/plain": [
       "<matplotlib.figure.Figure at 0x111b792d0>"
      ]
     },
     "metadata": {},
     "output_type": "display_data"
    }
   ],
   "source": [
    "tdf.plot(x='holiday_full_pct_spend', y='holiday_full_pct_shopped', kind='scatter')"
   ]
  },
  {
   "cell_type": "code",
   "execution_count": 31,
   "metadata": {},
   "outputs": [
    {
     "data": {
      "text/plain": [
       "<matplotlib.axes._subplots.AxesSubplot at 0x11277f990>"
      ]
     },
     "execution_count": 31,
     "metadata": {},
     "output_type": "execute_result"
    },
    {
     "data": {
      "image/png": "[encoded data removed]",
      "text/plain": [
       "<matplotlib.figure.Figure at 0x11409e250>"
      ]
     },
     "metadata": {},
     "output_type": "display_data"
    }
   ],
   "source": [
    "tdf.loc[tdf['persona']==4].plot(x='holiday_full_pct_spend', y='holiday_full_pct_shopped', kind='scatter')"
   ]
  },
  {
   "cell_type": "code",
   "execution_count": 118,
   "metadata": {},
   "outputs": [
    {
     "data": {
      "text/plain": [
       "<matplotlib.axes._subplots.AxesSubplot at 0x10ae12610>"
      ]
     },
     "execution_count": 118,
     "metadata": {},
     "output_type": "execute_result"
    },
    {
     "data": {
      "image/png": "[encoded data removed]",
      "text/plain": [
       "<matplotlib.figure.Figure at 0x1127c18d0>"
      ]
     },
     "metadata": {},
     "output_type": "display_data"
    }
   ],
   "source": [
    "tdf['fl_total_trips_ly'].plot.kde()"
   ]
  },
  {
   "cell_type": "code",
   "execution_count": 21,
   "metadata": {},
   "outputs": [
    {
     "data": {
      "text/plain": [
       "<matplotlib.axes._subplots.AxesSubplot at 0x111d8b2d0>"
      ]
     },
     "execution_count": 21,
     "metadata": {},
     "output_type": "execute_result"
    },
    {
     "data": {
      "image/png": "[encoded data removed]",
      "text/plain": [
       "<matplotlib.figure.Figure at 0x111dc6450>"
      ]
     },
     "metadata": {},
     "output_type": "display_data"
    }
   ],
   "source": [
    "tdf.loc[tdf['persona']==4]['holiday_full_pct_spend'].plot.kde()"
   ]
  },
  {
   "cell_type": "code",
   "execution_count": null,
   "metadata": {
    "collapsed": true
   },
   "outputs": [],
   "source": []
  },
  {
   "cell_type": "code",
   "execution_count": 22,
   "metadata": {},
   "outputs": [
    {
     "data": {
      "text/plain": [
       "0    50507\n",
       "1     9493\n",
       "Name: target_shopped_ind, dtype: int64"
      ]
     },
     "execution_count": 22,
     "metadata": {},
     "output_type": "execute_result"
    }
   ],
   "source": [
    "target = 'target_shopped_ind'\n",
    "tdf[target].value_counts()"
   ]
  },
  {
   "cell_type": "code",
   "execution_count": 23,
   "metadata": {},
   "outputs": [
    {
     "data": {
      "text/plain": [
       "5    12000\n",
       "4    12000\n",
       "3    12000\n",
       "2    12000\n",
       "1    12000\n",
       "Name: persona, dtype: int64"
      ]
     },
     "execution_count": 23,
     "metadata": {},
     "output_type": "execute_result"
    }
   ],
   "source": [
    "group = 'persona'\n",
    "group_vals = sorted(tdf[group].unique())\n",
    "tdf[group].value_counts()"
   ]
  },
  {
   "cell_type": "code",
   "execution_count": 43,
   "metadata": {
    "collapsed": true
   },
   "outputs": [],
   "source": [
    "def grouped_model_scores(grp, features, target, model, train_size=0.7, split_state=8379, **kwargs):\n",
    "    X_trn, X_tst, y_trn, y_tst = train_test_split(grp[features], grp[target], train_size=train_size, \n",
    "                                                  random_state=split_state, stratify=grp[target])\n",
    "    mdl = model(**kwargs)\n",
    "    mdl.fit(X_trn, y_trn)\n",
    "    preds = mdl.predict(X_tst)\n",
    "    pred_probs =  mdl.predict_proba(X_tst)[:,1]\n",
    "    ser = pd.Series([len(grp), \n",
    "                     1-y_tst.sum()/float(len(y_tst)), \n",
    "                     metrics.accuracy_score(y_tst, preds), \n",
    "                     metrics.precision_score(y_tst, preds), \n",
    "                     metrics.recall_score(y_tst, preds), \n",
    "                     metrics.roc_auc_score(y_tst, pred_probs), \n",
    "                     mdl.oob_score_], \n",
    "                    index=['n','null_accuracy','accuracy','precision','recall','roc_auc','oob_score'])\n",
    "    return ser"
   ]
  },
  {
   "cell_type": "code",
   "execution_count": 41,
   "metadata": {},
   "outputs": [
    {
     "data": {
      "text/html": [
       "<div>\n",
       "<style scoped>\n",
       "    .dataframe tbody tr th:only-of-type {\n",
       "        vertical-align: middle;\n",
       "    }\n",
       "\n",
       "    .dataframe tbody tr th {\n",
       "        vertical-align: top;\n",
       "    }\n",
       "\n",
       "    .dataframe thead th {\n",
       "        text-align: right;\n",
       "    }\n",
       "</style>\n",
       "<table border=\"1\" class=\"dataframe\">\n",
       "  <thead>\n",
       "    <tr style=\"text-align: right;\">\n",
       "      <th></th>\n",
       "      <th>n</th>\n",
       "      <th>null_accuracy</th>\n",
       "      <th>accuracy</th>\n",
       "      <th>precision</th>\n",
       "      <th>recall</th>\n",
       "      <th>roc_auc</th>\n",
       "      <th>oob_score</th>\n",
       "    </tr>\n",
       "    <tr>\n",
       "      <th>persona</th>\n",
       "      <th></th>\n",
       "      <th></th>\n",
       "      <th></th>\n",
       "      <th></th>\n",
       "      <th></th>\n",
       "      <th></th>\n",
       "      <th></th>\n",
       "    </tr>\n",
       "  </thead>\n",
       "  <tbody>\n",
       "    <tr>\n",
       "      <th>1</th>\n",
       "      <td>26518.0</td>\n",
       "      <td>0.809326</td>\n",
       "      <td>0.828306</td>\n",
       "      <td>0.638532</td>\n",
       "      <td>0.229400</td>\n",
       "      <td>0.774930</td>\n",
       "      <td>0.826420</td>\n",
       "    </tr>\n",
       "    <tr>\n",
       "      <th>2</th>\n",
       "      <td>1010.0</td>\n",
       "      <td>0.874587</td>\n",
       "      <td>0.877888</td>\n",
       "      <td>0.526316</td>\n",
       "      <td>0.263158</td>\n",
       "      <td>0.861221</td>\n",
       "      <td>0.871287</td>\n",
       "    </tr>\n",
       "    <tr>\n",
       "      <th>3</th>\n",
       "      <td>12058.0</td>\n",
       "      <td>0.862908</td>\n",
       "      <td>0.873687</td>\n",
       "      <td>0.672566</td>\n",
       "      <td>0.153226</td>\n",
       "      <td>0.767704</td>\n",
       "      <td>0.868365</td>\n",
       "    </tr>\n",
       "    <tr>\n",
       "      <th>4</th>\n",
       "      <td>7186.0</td>\n",
       "      <td>0.720779</td>\n",
       "      <td>0.801948</td>\n",
       "      <td>0.721519</td>\n",
       "      <td>0.473422</td>\n",
       "      <td>0.801560</td>\n",
       "      <td>0.792445</td>\n",
       "    </tr>\n",
       "    <tr>\n",
       "      <th>5</th>\n",
       "      <td>3228.0</td>\n",
       "      <td>0.900929</td>\n",
       "      <td>0.909185</td>\n",
       "      <td>0.722222</td>\n",
       "      <td>0.135417</td>\n",
       "      <td>0.777700</td>\n",
       "      <td>0.906596</td>\n",
       "    </tr>\n",
       "  </tbody>\n",
       "</table>\n",
       "</div>"
      ],
      "text/plain": [
       "               n  null_accuracy  accuracy  precision    recall   roc_auc  \\\n",
       "persona                                                                    \n",
       "1        26518.0       0.809326  0.828306   0.638532  0.229400  0.774930   \n",
       "2         1010.0       0.874587  0.877888   0.526316  0.263158  0.861221   \n",
       "3        12058.0       0.862908  0.873687   0.672566  0.153226  0.767704   \n",
       "4         7186.0       0.720779  0.801948   0.721519  0.473422  0.801560   \n",
       "5         3228.0       0.900929  0.909185   0.722222  0.135417  0.777700   \n",
       "\n",
       "         oob_score  \n",
       "persona             \n",
       "1         0.826420  \n",
       "2         0.871287  \n",
       "3         0.868365  \n",
       "4         0.792445  \n",
       "5         0.906596  "
      ]
     },
     "execution_count": 41,
     "metadata": {},
     "output_type": "execute_result"
    }
   ],
   "source": [
    "tdf.groupby(group).apply(lambda g: grouped_model_scores(g, features, target, RandomForestClassifier, \n",
    "                                                        random_state=202741, oob_score=True, \n",
    "                                                        n_estimators=100, max_depth=12))"
   ]
  },
  {
   "cell_type": "code",
   "execution_count": null,
   "metadata": {
    "collapsed": true
   },
   "outputs": [],
   "source": []
  },
  {
   "cell_type": "code",
   "execution_count": 44,
   "metadata": {
    "collapsed": true
   },
   "outputs": [],
   "source": [
    "def grouped_feature_importances(grp, features, target, train_size=0.7, split_state=8379, **kwargs):\n",
    "    X_trn, X_tst, y_trn, y_tst = train_test_split(grp[features], grp[target], train_size=train_size, \n",
    "                                                  random_state=split_state, stratify=grp[target])\n",
    "    mdl = RandomForestClassifier(**kwargs)\n",
    "    mdl.fit(X_trn, y_trn)\n",
    "    ser = pd.Series(mdl.feature_importances_, index=features)\n",
    "    return ser"
   ]
  },
  {
   "cell_type": "code",
   "execution_count": 50,
   "metadata": {
    "collapsed": true
   },
   "outputs": [],
   "source": [
    "fdf = tdf.groupby(group).apply(lambda g: grouped_feature_importances(g, features, target,  \n",
    "                                                                     random_state=202741, oob_score=True, \n",
    "                                                                     n_estimators=100, max_depth=12))"
   ]
  },
  {
   "cell_type": "code",
   "execution_count": 57,
   "metadata": {},
   "outputs": [
    {
     "data": {
      "text/html": [
       "<div>\n",
       "<style scoped>\n",
       "    .dataframe tbody tr th:only-of-type {\n",
       "        vertical-align: middle;\n",
       "    }\n",
       "\n",
       "    .dataframe tbody tr th {\n",
       "        vertical-align: top;\n",
       "    }\n",
       "\n",
       "    .dataframe thead th {\n",
       "        text-align: right;\n",
       "    }\n",
       "</style>\n",
       "<table border=\"1\" class=\"dataframe\">\n",
       "  <thead>\n",
       "    <tr style=\"text-align: right;\">\n",
       "      <th>persona</th>\n",
       "      <th>1</th>\n",
       "      <th>2</th>\n",
       "      <th>3</th>\n",
       "      <th>4</th>\n",
       "      <th>5</th>\n",
       "    </tr>\n",
       "  </thead>\n",
       "  <tbody>\n",
       "    <tr>\n",
       "      <th>tenure_total_months</th>\n",
       "      <td>4.0</td>\n",
       "      <td>3.0</td>\n",
       "      <td>3.0</td>\n",
       "      <td>7.0</td>\n",
       "      <td>3.0</td>\n",
       "    </tr>\n",
       "    <tr>\n",
       "      <th>loyalty_tender_ind</th>\n",
       "      <td>32.0</td>\n",
       "      <td>32.0</td>\n",
       "      <td>34.0</td>\n",
       "      <td>32.0</td>\n",
       "      <td>32.0</td>\n",
       "    </tr>\n",
       "    <tr>\n",
       "      <th>loyalty_nontender_ind</th>\n",
       "      <td>33.0</td>\n",
       "      <td>12.0</td>\n",
       "      <td>30.0</td>\n",
       "      <td>34.0</td>\n",
       "      <td>33.0</td>\n",
       "    </tr>\n",
       "    <tr>\n",
       "      <th>fl_total_spend</th>\n",
       "      <td>2.0</td>\n",
       "      <td>1.0</td>\n",
       "      <td>2.0</td>\n",
       "      <td>2.0</td>\n",
       "      <td>2.0</td>\n",
       "    </tr>\n",
       "    <tr>\n",
       "      <th>fl_avg_spend_per_trip</th>\n",
       "      <td>5.0</td>\n",
       "      <td>4.0</td>\n",
       "      <td>4.0</td>\n",
       "      <td>6.0</td>\n",
       "      <td>4.0</td>\n",
       "    </tr>\n",
       "    <tr>\n",
       "      <th>fl_total_trips_ly</th>\n",
       "      <td>1.0</td>\n",
       "      <td>2.0</td>\n",
       "      <td>1.0</td>\n",
       "      <td>1.0</td>\n",
       "      <td>1.0</td>\n",
       "    </tr>\n",
       "    <tr>\n",
       "      <th>sale_pct_items</th>\n",
       "      <td>9.0</td>\n",
       "      <td>5.0</td>\n",
       "      <td>6.0</td>\n",
       "      <td>10.0</td>\n",
       "      <td>8.0</td>\n",
       "    </tr>\n",
       "    <tr>\n",
       "      <th>merch_pct_spend</th>\n",
       "      <td>26.0</td>\n",
       "      <td>34.0</td>\n",
       "      <td>21.0</td>\n",
       "      <td>28.0</td>\n",
       "      <td>27.0</td>\n",
       "    </tr>\n",
       "    <tr>\n",
       "      <th>mens_prod_pct_spend</th>\n",
       "      <td>19.0</td>\n",
       "      <td>11.0</td>\n",
       "      <td>15.0</td>\n",
       "      <td>17.0</td>\n",
       "      <td>11.0</td>\n",
       "    </tr>\n",
       "    <tr>\n",
       "      <th>web_pct_spend</th>\n",
       "      <td>3.0</td>\n",
       "      <td>28.0</td>\n",
       "      <td>9.0</td>\n",
       "      <td>20.0</td>\n",
       "      <td>26.0</td>\n",
       "    </tr>\n",
       "    <tr>\n",
       "      <th>rack_pct_spend</th>\n",
       "      <td>18.0</td>\n",
       "      <td>33.0</td>\n",
       "      <td>17.0</td>\n",
       "      <td>27.0</td>\n",
       "      <td>5.0</td>\n",
       "    </tr>\n",
       "    <tr>\n",
       "      <th>multichannel_ind</th>\n",
       "      <td>34.0</td>\n",
       "      <td>31.0</td>\n",
       "      <td>33.0</td>\n",
       "      <td>33.0</td>\n",
       "      <td>34.0</td>\n",
       "    </tr>\n",
       "    <tr>\n",
       "      <th>anniversary_early_pct_spend</th>\n",
       "      <td>24.0</td>\n",
       "      <td>23.0</td>\n",
       "      <td>28.0</td>\n",
       "      <td>22.0</td>\n",
       "      <td>24.0</td>\n",
       "    </tr>\n",
       "    <tr>\n",
       "      <th>anniversary_public_pct_spend</th>\n",
       "      <td>17.0</td>\n",
       "      <td>8.0</td>\n",
       "      <td>12.0</td>\n",
       "      <td>19.0</td>\n",
       "      <td>18.0</td>\n",
       "    </tr>\n",
       "    <tr>\n",
       "      <th>december_halfyear_pct_spend</th>\n",
       "      <td>12.0</td>\n",
       "      <td>9.0</td>\n",
       "      <td>20.0</td>\n",
       "      <td>21.0</td>\n",
       "      <td>22.0</td>\n",
       "    </tr>\n",
       "    <tr>\n",
       "      <th>may_halfyear_pct_spend</th>\n",
       "      <td>23.0</td>\n",
       "      <td>22.0</td>\n",
       "      <td>22.0</td>\n",
       "      <td>26.0</td>\n",
       "      <td>25.0</td>\n",
       "    </tr>\n",
       "    <tr>\n",
       "      <th>spring_fashion_pct_spend</th>\n",
       "      <td>13.0</td>\n",
       "      <td>21.0</td>\n",
       "      <td>11.0</td>\n",
       "      <td>12.0</td>\n",
       "      <td>15.0</td>\n",
       "    </tr>\n",
       "    <tr>\n",
       "      <th>holiday_light_pct_spend</th>\n",
       "      <td>7.0</td>\n",
       "      <td>6.0</td>\n",
       "      <td>7.0</td>\n",
       "      <td>8.0</td>\n",
       "      <td>6.0</td>\n",
       "    </tr>\n",
       "    <tr>\n",
       "      <th>holiday_full_pct_spend</th>\n",
       "      <td>6.0</td>\n",
       "      <td>7.0</td>\n",
       "      <td>5.0</td>\n",
       "      <td>4.0</td>\n",
       "      <td>10.0</td>\n",
       "    </tr>\n",
       "    <tr>\n",
       "      <th>backtoschool_pct_spend</th>\n",
       "      <td>8.0</td>\n",
       "      <td>10.0</td>\n",
       "      <td>8.0</td>\n",
       "      <td>13.0</td>\n",
       "      <td>7.0</td>\n",
       "    </tr>\n",
       "    <tr>\n",
       "      <th>valentines_day_pct_spend</th>\n",
       "      <td>11.0</td>\n",
       "      <td>19.0</td>\n",
       "      <td>14.0</td>\n",
       "      <td>16.0</td>\n",
       "      <td>13.0</td>\n",
       "    </tr>\n",
       "    <tr>\n",
       "      <th>mothers_day_pct_spend</th>\n",
       "      <td>20.0</td>\n",
       "      <td>17.0</td>\n",
       "      <td>18.0</td>\n",
       "      <td>14.0</td>\n",
       "      <td>12.0</td>\n",
       "    </tr>\n",
       "    <tr>\n",
       "      <th>fathers_day_pct_spend</th>\n",
       "      <td>15.0</td>\n",
       "      <td>18.0</td>\n",
       "      <td>10.0</td>\n",
       "      <td>15.0</td>\n",
       "      <td>14.0</td>\n",
       "    </tr>\n",
       "    <tr>\n",
       "      <th>anniversary_early_pct_shopped</th>\n",
       "      <td>28.0</td>\n",
       "      <td>30.0</td>\n",
       "      <td>31.0</td>\n",
       "      <td>29.0</td>\n",
       "      <td>30.0</td>\n",
       "    </tr>\n",
       "    <tr>\n",
       "      <th>anniversary_public_pct_shopped</th>\n",
       "      <td>27.0</td>\n",
       "      <td>16.0</td>\n",
       "      <td>25.0</td>\n",
       "      <td>24.0</td>\n",
       "      <td>29.0</td>\n",
       "    </tr>\n",
       "    <tr>\n",
       "      <th>december_halfyear_pct_shopped</th>\n",
       "      <td>30.0</td>\n",
       "      <td>27.0</td>\n",
       "      <td>32.0</td>\n",
       "      <td>31.0</td>\n",
       "      <td>31.0</td>\n",
       "    </tr>\n",
       "    <tr>\n",
       "      <th>may_halfyear_pct_shopped</th>\n",
       "      <td>31.0</td>\n",
       "      <td>29.0</td>\n",
       "      <td>29.0</td>\n",
       "      <td>30.0</td>\n",
       "      <td>23.0</td>\n",
       "    </tr>\n",
       "    <tr>\n",
       "      <th>spring_fashion_pct_shopped</th>\n",
       "      <td>22.0</td>\n",
       "      <td>26.0</td>\n",
       "      <td>27.0</td>\n",
       "      <td>9.0</td>\n",
       "      <td>21.0</td>\n",
       "    </tr>\n",
       "    <tr>\n",
       "      <th>holiday_light_pct_shopped</th>\n",
       "      <td>16.0</td>\n",
       "      <td>13.0</td>\n",
       "      <td>13.0</td>\n",
       "      <td>18.0</td>\n",
       "      <td>9.0</td>\n",
       "    </tr>\n",
       "    <tr>\n",
       "      <th>holiday_full_pct_shopped</th>\n",
       "      <td>21.0</td>\n",
       "      <td>14.0</td>\n",
       "      <td>16.0</td>\n",
       "      <td>11.0</td>\n",
       "      <td>19.0</td>\n",
       "    </tr>\n",
       "    <tr>\n",
       "      <th>backtoschool_pct_shopped</th>\n",
       "      <td>14.0</td>\n",
       "      <td>15.0</td>\n",
       "      <td>19.0</td>\n",
       "      <td>3.0</td>\n",
       "      <td>16.0</td>\n",
       "    </tr>\n",
       "    <tr>\n",
       "      <th>valentines_day_pct_shopped</th>\n",
       "      <td>10.0</td>\n",
       "      <td>25.0</td>\n",
       "      <td>23.0</td>\n",
       "      <td>5.0</td>\n",
       "      <td>17.0</td>\n",
       "    </tr>\n",
       "    <tr>\n",
       "      <th>mothers_day_pct_shopped</th>\n",
       "      <td>29.0</td>\n",
       "      <td>20.0</td>\n",
       "      <td>26.0</td>\n",
       "      <td>23.0</td>\n",
       "      <td>28.0</td>\n",
       "    </tr>\n",
       "    <tr>\n",
       "      <th>fathers_day_pct_shopped</th>\n",
       "      <td>25.0</td>\n",
       "      <td>24.0</td>\n",
       "      <td>24.0</td>\n",
       "      <td>25.0</td>\n",
       "      <td>20.0</td>\n",
       "    </tr>\n",
       "  </tbody>\n",
       "</table>\n",
       "</div>"
      ],
      "text/plain": [
       "persona                            1     2     3     4     5\n",
       "tenure_total_months              4.0   3.0   3.0   7.0   3.0\n",
       "loyalty_tender_ind              32.0  32.0  34.0  32.0  32.0\n",
       "loyalty_nontender_ind           33.0  12.0  30.0  34.0  33.0\n",
       "fl_total_spend                   2.0   1.0   2.0   2.0   2.0\n",
       "fl_avg_spend_per_trip            5.0   4.0   4.0   6.0   4.0\n",
       "fl_total_trips_ly                1.0   2.0   1.0   1.0   1.0\n",
       "sale_pct_items                   9.0   5.0   6.0  10.0   8.0\n",
       "merch_pct_spend                 26.0  34.0  21.0  28.0  27.0\n",
       "mens_prod_pct_spend             19.0  11.0  15.0  17.0  11.0\n",
       "web_pct_spend                    3.0  28.0   9.0  20.0  26.0\n",
       "rack_pct_spend                  18.0  33.0  17.0  27.0   5.0\n",
       "multichannel_ind                34.0  31.0  33.0  33.0  34.0\n",
       "anniversary_early_pct_spend     24.0  23.0  28.0  22.0  24.0\n",
       "anniversary_public_pct_spend    17.0   8.0  12.0  19.0  18.0\n",
       "december_halfyear_pct_spend     12.0   9.0  20.0  21.0  22.0\n",
       "may_halfyear_pct_spend          23.0  22.0  22.0  26.0  25.0\n",
       "spring_fashion_pct_spend        13.0  21.0  11.0  12.0  15.0\n",
       "holiday_light_pct_spend          7.0   6.0   7.0   8.0   6.0\n",
       "holiday_full_pct_spend           6.0   7.0   5.0   4.0  10.0\n",
       "backtoschool_pct_spend           8.0  10.0   8.0  13.0   7.0\n",
       "valentines_day_pct_spend        11.0  19.0  14.0  16.0  13.0\n",
       "mothers_day_pct_spend           20.0  17.0  18.0  14.0  12.0\n",
       "fathers_day_pct_spend           15.0  18.0  10.0  15.0  14.0\n",
       "anniversary_early_pct_shopped   28.0  30.0  31.0  29.0  30.0\n",
       "anniversary_public_pct_shopped  27.0  16.0  25.0  24.0  29.0\n",
       "december_halfyear_pct_shopped   30.0  27.0  32.0  31.0  31.0\n",
       "may_halfyear_pct_shopped        31.0  29.0  29.0  30.0  23.0\n",
       "spring_fashion_pct_shopped      22.0  26.0  27.0   9.0  21.0\n",
       "holiday_light_pct_shopped       16.0  13.0  13.0  18.0   9.0\n",
       "holiday_full_pct_shopped        21.0  14.0  16.0  11.0  19.0\n",
       "backtoschool_pct_shopped        14.0  15.0  19.0   3.0  16.0\n",
       "valentines_day_pct_shopped      10.0  25.0  23.0   5.0  17.0\n",
       "mothers_day_pct_shopped         29.0  20.0  26.0  23.0  28.0\n",
       "fathers_day_pct_shopped         25.0  24.0  24.0  25.0  20.0"
      ]
     },
     "execution_count": 57,
     "metadata": {},
     "output_type": "execute_result"
    }
   ],
   "source": [
    "35 - fdf.T.apply('rank')"
   ]
  },
  {
   "cell_type": "code",
   "execution_count": 46,
   "metadata": {
    "collapsed": true
   },
   "outputs": [],
   "source": [
    "def grouped_models(grp, features, target, model, train_size=0.7, split_state=8379, **kwargs):\n",
    "    X_trn, X_tst, y_trn, y_tst = train_test_split(grp[features], grp[target], train_size=train_size, \n",
    "                                                  random_state=split_state, stratify=grp[target])\n",
    "    mdl = model(**kwargs)\n",
    "    mdl.fit(X_trn, y_trn)\n",
    "    return mdl"
   ]
  },
  {
   "cell_type": "code",
   "execution_count": 48,
   "metadata": {
    "collapsed": true
   },
   "outputs": [],
   "source": [
    "mdls = tdf.groupby(group).apply(lambda g: grouped_models(g, features, target, RandomForestClassifier, \n",
    "                                                         random_state=202741, oob_score=True, \n",
    "                                                         n_estimators=100, max_depth=12))"
   ]
  },
  {
   "cell_type": "code",
   "execution_count": 59,
   "metadata": {},
   "outputs": [
    {
     "data": {
      "text/plain": [
       "RandomForestClassifier(bootstrap=True, class_weight=None, criterion='gini',\n",
       "            max_depth=12, max_features='auto', max_leaf_nodes=None,\n",
       "            min_impurity_decrease=0.0, min_impurity_split=None,\n",
       "            min_samples_leaf=1, min_samples_split=2,\n",
       "            min_weight_fraction_leaf=0.0, n_estimators=100, n_jobs=1,\n",
       "            oob_score=True, random_state=202741, verbose=0,\n",
       "            warm_start=False)"
      ]
     },
     "execution_count": 59,
     "metadata": {},
     "output_type": "execute_result"
    }
   ],
   "source": [
    "mdls.loc[1]"
   ]
  },
  {
   "cell_type": "code",
   "execution_count": null,
   "metadata": {
    "collapsed": true
   },
   "outputs": [],
   "source": []
  },
  {
   "cell_type": "code",
   "execution_count": null,
   "metadata": {
    "collapsed": true
   },
   "outputs": [],
   "source": []
  },
  {
   "cell_type": "markdown",
   "metadata": {},
   "source": [
    "#### Persona \\#1"
   ]
  },
  {
   "cell_type": "code",
   "execution_count": 20,
   "metadata": {
    "collapsed": true
   },
   "outputs": [],
   "source": [
    "g = 1\n",
    "pdf1 = tdf.loc[tdf[group]==g]"
   ]
  },
  {
   "cell_type": "code",
   "execution_count": 21,
   "metadata": {
    "scrolled": true
   },
   "outputs": [
    {
     "data": {
      "text/plain": [
       "0    21463\n",
       "1     5055\n",
       "Name: target_shopped_ind, dtype: int64"
      ]
     },
     "execution_count": 21,
     "metadata": {},
     "output_type": "execute_result"
    }
   ],
   "source": [
    "pdf1[target].value_counts()"
   ]
  },
  {
   "cell_type": "code",
   "execution_count": 22,
   "metadata": {},
   "outputs": [
    {
     "name": "stderr",
     "output_type": "stream",
     "text": [
      "/Users/c01f/.virtualenvs/devel/lib/python2.7/site-packages/sklearn/model_selection/_split.py:2026: FutureWarning: From version 0.21, test_size will always complement train_size unless both are specified.\n",
      "  FutureWarning)\n"
     ]
    }
   ],
   "source": [
    "X_trn, X_tst, y_trn, y_tst = train_test_split(pdf1[features], pdf1[target], train_size=0.7, \n",
    "                                              random_state=8379, stratify=pdf1[target])"
   ]
  },
  {
   "cell_type": "code",
   "execution_count": 23,
   "metadata": {},
   "outputs": [
    {
     "data": {
      "text/html": [
       "<div>\n",
       "<style scoped>\n",
       "    .dataframe tbody tr th:only-of-type {\n",
       "        vertical-align: middle;\n",
       "    }\n",
       "\n",
       "    .dataframe tbody tr th {\n",
       "        vertical-align: top;\n",
       "    }\n",
       "\n",
       "    .dataframe thead th {\n",
       "        text-align: right;\n",
       "    }\n",
       "</style>\n",
       "<table border=\"1\" class=\"dataframe\">\n",
       "  <thead>\n",
       "    <tr style=\"text-align: right;\">\n",
       "      <th></th>\n",
       "      <th>tenure_total_months</th>\n",
       "      <th>loyalty_tender_ind</th>\n",
       "      <th>loyalty_nontender_ind</th>\n",
       "      <th>fl_total_spend</th>\n",
       "      <th>fl_avg_spend_per_trip</th>\n",
       "      <th>fl_total_trips_ly</th>\n",
       "      <th>sale_pct_items</th>\n",
       "      <th>merch_pct_spend</th>\n",
       "      <th>mens_prod_pct_spend</th>\n",
       "      <th>web_pct_spend</th>\n",
       "      <th>...</th>\n",
       "      <th>anniversary_public_pct_shopped</th>\n",
       "      <th>december_halfyear_pct_shopped</th>\n",
       "      <th>may_halfyear_pct_shopped</th>\n",
       "      <th>spring_fashion_pct_shopped</th>\n",
       "      <th>holiday_light_pct_shopped</th>\n",
       "      <th>holiday_full_pct_shopped</th>\n",
       "      <th>backtoschool_pct_shopped</th>\n",
       "      <th>valentines_day_pct_shopped</th>\n",
       "      <th>mothers_day_pct_shopped</th>\n",
       "      <th>fathers_day_pct_shopped</th>\n",
       "    </tr>\n",
       "  </thead>\n",
       "  <tbody>\n",
       "    <tr>\n",
       "      <th>33947</th>\n",
       "      <td>0.599577</td>\n",
       "      <td>0.0</td>\n",
       "      <td>0.0</td>\n",
       "      <td>0.624794</td>\n",
       "      <td>0.369123</td>\n",
       "      <td>0.039801</td>\n",
       "      <td>0.357143</td>\n",
       "      <td>0.943578</td>\n",
       "      <td>0.058801</td>\n",
       "      <td>0.019061</td>\n",
       "      <td>...</td>\n",
       "      <td>0.50</td>\n",
       "      <td>0.75</td>\n",
       "      <td>0.25</td>\n",
       "      <td>1.00</td>\n",
       "      <td>0.25</td>\n",
       "      <td>1.00</td>\n",
       "      <td>0.75</td>\n",
       "      <td>1.0</td>\n",
       "      <td>1.00</td>\n",
       "      <td>1.00</td>\n",
       "    </tr>\n",
       "    <tr>\n",
       "      <th>40560</th>\n",
       "      <td>0.001511</td>\n",
       "      <td>0.0</td>\n",
       "      <td>1.0</td>\n",
       "      <td>0.183149</td>\n",
       "      <td>0.267876</td>\n",
       "      <td>0.002488</td>\n",
       "      <td>0.000000</td>\n",
       "      <td>1.000000</td>\n",
       "      <td>0.000000</td>\n",
       "      <td>1.000000</td>\n",
       "      <td>...</td>\n",
       "      <td>0.00</td>\n",
       "      <td>0.00</td>\n",
       "      <td>0.00</td>\n",
       "      <td>0.00</td>\n",
       "      <td>0.00</td>\n",
       "      <td>0.00</td>\n",
       "      <td>0.00</td>\n",
       "      <td>0.0</td>\n",
       "      <td>0.00</td>\n",
       "      <td>0.00</td>\n",
       "    </tr>\n",
       "    <tr>\n",
       "      <th>28882</th>\n",
       "      <td>0.454518</td>\n",
       "      <td>0.0</td>\n",
       "      <td>0.0</td>\n",
       "      <td>0.478615</td>\n",
       "      <td>0.530057</td>\n",
       "      <td>0.002488</td>\n",
       "      <td>0.285714</td>\n",
       "      <td>1.000000</td>\n",
       "      <td>0.000000</td>\n",
       "      <td>1.000000</td>\n",
       "      <td>...</td>\n",
       "      <td>0.25</td>\n",
       "      <td>0.00</td>\n",
       "      <td>0.00</td>\n",
       "      <td>0.00</td>\n",
       "      <td>0.00</td>\n",
       "      <td>0.00</td>\n",
       "      <td>0.25</td>\n",
       "      <td>0.0</td>\n",
       "      <td>0.25</td>\n",
       "      <td>0.00</td>\n",
       "    </tr>\n",
       "    <tr>\n",
       "      <th>17842</th>\n",
       "      <td>0.766395</td>\n",
       "      <td>0.0</td>\n",
       "      <td>0.0</td>\n",
       "      <td>0.746143</td>\n",
       "      <td>0.616675</td>\n",
       "      <td>0.034826</td>\n",
       "      <td>0.100000</td>\n",
       "      <td>0.999407</td>\n",
       "      <td>0.039965</td>\n",
       "      <td>0.118978</td>\n",
       "      <td>...</td>\n",
       "      <td>0.00</td>\n",
       "      <td>0.00</td>\n",
       "      <td>0.25</td>\n",
       "      <td>0.50</td>\n",
       "      <td>0.50</td>\n",
       "      <td>0.75</td>\n",
       "      <td>0.25</td>\n",
       "      <td>0.0</td>\n",
       "      <td>0.75</td>\n",
       "      <td>0.25</td>\n",
       "    </tr>\n",
       "    <tr>\n",
       "      <th>3924</th>\n",
       "      <td>0.474766</td>\n",
       "      <td>0.0</td>\n",
       "      <td>0.0</td>\n",
       "      <td>0.547470</td>\n",
       "      <td>0.506734</td>\n",
       "      <td>0.024876</td>\n",
       "      <td>0.176471</td>\n",
       "      <td>1.000000</td>\n",
       "      <td>0.070137</td>\n",
       "      <td>0.486259</td>\n",
       "      <td>...</td>\n",
       "      <td>0.00</td>\n",
       "      <td>0.25</td>\n",
       "      <td>0.00</td>\n",
       "      <td>0.25</td>\n",
       "      <td>0.00</td>\n",
       "      <td>0.25</td>\n",
       "      <td>0.25</td>\n",
       "      <td>0.0</td>\n",
       "      <td>0.25</td>\n",
       "      <td>0.25</td>\n",
       "    </tr>\n",
       "  </tbody>\n",
       "</table>\n",
       "<p>5 rows × 34 columns</p>\n",
       "</div>"
      ],
      "text/plain": [
       "       tenure_total_months  loyalty_tender_ind  loyalty_nontender_ind  \\\n",
       "33947             0.599577                 0.0                    0.0   \n",
       "40560             0.001511                 0.0                    1.0   \n",
       "28882             0.454518                 0.0                    0.0   \n",
       "17842             0.766395                 0.0                    0.0   \n",
       "3924              0.474766                 0.0                    0.0   \n",
       "\n",
       "       fl_total_spend  fl_avg_spend_per_trip  fl_total_trips_ly  \\\n",
       "33947        0.624794               0.369123           0.039801   \n",
       "40560        0.183149               0.267876           0.002488   \n",
       "28882        0.478615               0.530057           0.002488   \n",
       "17842        0.746143               0.616675           0.034826   \n",
       "3924         0.547470               0.506734           0.024876   \n",
       "\n",
       "       sale_pct_items  merch_pct_spend  mens_prod_pct_spend  web_pct_spend  \\\n",
       "33947        0.357143         0.943578             0.058801       0.019061   \n",
       "40560        0.000000         1.000000             0.000000       1.000000   \n",
       "28882        0.285714         1.000000             0.000000       1.000000   \n",
       "17842        0.100000         0.999407             0.039965       0.118978   \n",
       "3924         0.176471         1.000000             0.070137       0.486259   \n",
       "\n",
       "                ...             anniversary_public_pct_shopped  \\\n",
       "33947           ...                                       0.50   \n",
       "40560           ...                                       0.00   \n",
       "28882           ...                                       0.25   \n",
       "17842           ...                                       0.00   \n",
       "3924            ...                                       0.00   \n",
       "\n",
       "       december_halfyear_pct_shopped  may_halfyear_pct_shopped  \\\n",
       "33947                           0.75                      0.25   \n",
       "40560                           0.00                      0.00   \n",
       "28882                           0.00                      0.00   \n",
       "17842                           0.00                      0.25   \n",
       "3924                            0.25                      0.00   \n",
       "\n",
       "       spring_fashion_pct_shopped  holiday_light_pct_shopped  \\\n",
       "33947                        1.00                       0.25   \n",
       "40560                        0.00                       0.00   \n",
       "28882                        0.00                       0.00   \n",
       "17842                        0.50                       0.50   \n",
       "3924                         0.25                       0.00   \n",
       "\n",
       "       holiday_full_pct_shopped  backtoschool_pct_shopped  \\\n",
       "33947                      1.00                      0.75   \n",
       "40560                      0.00                      0.00   \n",
       "28882                      0.00                      0.25   \n",
       "17842                      0.75                      0.25   \n",
       "3924                       0.25                      0.25   \n",
       "\n",
       "       valentines_day_pct_shopped  mothers_day_pct_shopped  \\\n",
       "33947                         1.0                     1.00   \n",
       "40560                         0.0                     0.00   \n",
       "28882                         0.0                     0.25   \n",
       "17842                         0.0                     0.75   \n",
       "3924                          0.0                     0.25   \n",
       "\n",
       "       fathers_day_pct_shopped  \n",
       "33947                     1.00  \n",
       "40560                     0.00  \n",
       "28882                     0.00  \n",
       "17842                     0.25  \n",
       "3924                      0.25  \n",
       "\n",
       "[5 rows x 34 columns]"
      ]
     },
     "execution_count": 23,
     "metadata": {},
     "output_type": "execute_result"
    }
   ],
   "source": [
    "X_trn.head()"
   ]
  },
  {
   "cell_type": "code",
   "execution_count": 24,
   "metadata": {},
   "outputs": [
    {
     "name": "stdout",
     "output_type": "stream",
     "text": [
      "df size:\t26518\n",
      "train size:\t18562 18562\n",
      "test size:\t7956 7956\n"
     ]
    }
   ],
   "source": [
    "print 'df size:\\t', len(pdf1)\n",
    "print 'train size:\\t', len(X_trn), len(y_trn)\n",
    "print 'test size:\\t', len(X_tst), len(y_tst)"
   ]
  },
  {
   "cell_type": "code",
   "execution_count": 25,
   "metadata": {},
   "outputs": [
    {
     "data": {
      "text/plain": [
       "RandomForestClassifier(bootstrap=True, class_weight=None, criterion='gini',\n",
       "            max_depth=12, max_features='auto', max_leaf_nodes=None,\n",
       "            min_impurity_decrease=0.0, min_impurity_split=None,\n",
       "            min_samples_leaf=1, min_samples_split=2,\n",
       "            min_weight_fraction_leaf=0.0, n_estimators=100, n_jobs=1,\n",
       "            oob_score=True, random_state=202741, verbose=0,\n",
       "            warm_start=False)"
      ]
     },
     "execution_count": 25,
     "metadata": {},
     "output_type": "execute_result"
    }
   ],
   "source": [
    "model = RandomForestClassifier(random_state=202741, oob_score=True, n_estimators=100, max_depth=12)\n",
    "model.fit(X_trn, y_trn)"
   ]
  },
  {
   "cell_type": "code",
   "execution_count": 26,
   "metadata": {},
   "outputs": [
    {
     "data": {
      "text/plain": [
       "array([[0.71297694, 0.28702306],\n",
       "       [0.90479952, 0.09520048],\n",
       "       [0.78538687, 0.21461313],\n",
       "       ...,\n",
       "       [0.76918737, 0.23081263],\n",
       "       [0.54118935, 0.45881065],\n",
       "       [0.94219071, 0.05780929]])"
      ]
     },
     "execution_count": 26,
     "metadata": {},
     "output_type": "execute_result"
    }
   ],
   "source": [
    "model.predict_proba(X_tst)"
   ]
  },
  {
   "cell_type": "code",
   "execution_count": 27,
   "metadata": {
    "collapsed": true
   },
   "outputs": [],
   "source": [
    "predictions = model.predict(X_tst)\n",
    "pred_probs = model.predict_proba(X_tst)[:,1]"
   ]
  },
  {
   "cell_type": "code",
   "execution_count": 28,
   "metadata": {},
   "outputs": [
    {
     "name": "stdout",
     "output_type": "stream",
     "text": [
      "Estimated accuracy when generalized to test data:  0.8264195668570197\n",
      "Accuracy:\t0.8283056812468578\n",
      "Precision:\t0.6385321100917432\n",
      "Recall:\t0.22940013183915622\n",
      "ROC AUC score:\t0.7749298395172053\n",
      "\n",
      "[[6242  197]\n",
      " [1169  348]]\n"
     ]
    }
   ],
   "source": [
    "c = metrics.confusion_matrix(y_tst, predictions)\n",
    "\n",
    "print 'Estimated accuracy when generalized to test data: ', model.oob_score_\n",
    "print 'Accuracy:\\t', metrics.accuracy_score(y_tst, predictions)\n",
    "print 'Precision:\\t', metrics.precision_score(y_tst, predictions)\n",
    "print 'Recall:\\t', metrics.recall_score(y_tst, predictions)\n",
    "print 'ROC AUC score:\\t', metrics.roc_auc_score(y_tst, pred_probs)\n",
    "print \n",
    "print c"
   ]
  },
  {
   "cell_type": "code",
   "execution_count": 29,
   "metadata": {},
   "outputs": [
    {
     "name": "stdout",
     "output_type": "stream",
     "text": [
      "0.8093262946204123\n"
     ]
    }
   ],
   "source": [
    "print 1-y_tst.sum()/float(len(y_tst))"
   ]
  },
  {
   "cell_type": "code",
   "execution_count": null,
   "metadata": {
    "collapsed": true
   },
   "outputs": [],
   "source": []
  },
  {
   "cell_type": "code",
   "execution_count": null,
   "metadata": {
    "collapsed": true
   },
   "outputs": [],
   "source": []
  },
  {
   "cell_type": "code",
   "execution_count": 115,
   "metadata": {
    "collapsed": true
   },
   "outputs": [],
   "source": [
    "percentile_cutoff = np.percentile(pred_probs, 95)\n",
    "predictions2 = (pred_probs >= percentile_cutoff).astype('int64')"
   ]
  },
  {
   "cell_type": "code",
   "execution_count": 120,
   "metadata": {},
   "outputs": [
    {
     "name": "stdout",
     "output_type": "stream",
     "text": [
      "Accuracy:\t0.821751128951\n",
      "Precision:\t0.565011820331\n",
      "Recall:\t0.161924119241\n",
      "ROC_AUC score:\t0.737878145984\n",
      "\n",
      "[[6312  184]\n",
      " [1237  239]]\n"
     ]
    }
   ],
   "source": [
    "c = metrics.confusion_matrix(y_tst, predictions2)\n",
    "\n",
    "print 'Accuracy:\\t', metrics.accuracy_score(y_tst, predictions2)\n",
    "print 'Precision:\\t', metrics.precision_score(y_tst, predictions2)\n",
    "print 'Recall:\\t', metrics.recall_score(y_tst, predictions2)\n",
    "print 'ROC_AUC score:\\t', metrics.roc_auc_score(y_tst, pred_probs)\n",
    "print \n",
    "print c"
   ]
  },
  {
   "cell_type": "code",
   "execution_count": 30,
   "metadata": {},
   "outputs": [
    {
     "name": "stdout",
     "output_type": "stream",
     "text": [
      "fl_total_trips_ly 0.12131307841503494\n",
      "fl_total_spend 0.1014785543593722\n",
      "web_pct_spend 0.055607141710274144\n",
      "tenure_total_months 0.045136908304370324\n",
      "fl_avg_spend_per_trip 0.04275846041546455\n",
      "holiday_full_pct_spend 0.03988372518494869\n",
      "holiday_light_pct_spend 0.038624004512129835\n",
      "backtoschool_pct_spend 0.03488707864375988\n",
      "sale_pct_items 0.03317545214637543\n",
      "valentines_day_pct_shopped 0.03239676205887942\n",
      "valentines_day_pct_spend 0.03182675825035139\n",
      "december_halfyear_pct_spend 0.0318153826548591\n",
      "spring_fashion_pct_spend 0.028695268037642784\n",
      "backtoschool_pct_shopped 0.026862239163729252\n",
      "fathers_day_pct_spend 0.026551319301444835\n",
      "holiday_light_pct_shopped 0.026516440794869006\n",
      "anniversary_public_pct_spend 0.025747378669035918\n",
      "rack_pct_spend 0.02560276217431677\n",
      "mens_prod_pct_spend 0.02548072048603688\n",
      "mothers_day_pct_spend 0.023823527466924496\n",
      "holiday_full_pct_shopped 0.022982975479309428\n",
      "spring_fashion_pct_shopped 0.018144367687719647\n",
      "may_halfyear_pct_spend 0.017154730306621277\n",
      "anniversary_early_pct_spend 0.017153173881174988\n",
      "fathers_day_pct_shopped 0.01610418201712285\n",
      "merch_pct_spend 0.015452683415194115\n",
      "anniversary_public_pct_shopped 0.014986124131708165\n",
      "anniversary_early_pct_shopped 0.012032122689666398\n",
      "mothers_day_pct_shopped 0.011757862245419727\n",
      "december_halfyear_pct_shopped 0.009408913376219371\n",
      "may_halfyear_pct_shopped 0.008165879298689813\n",
      "loyalty_tender_ind 0.007864830104535741\n",
      "loyalty_nontender_ind 0.005934332464175866\n",
      "multichannel_ind 0.004674860152622722\n"
     ]
    }
   ],
   "source": [
    "for imp, feat in sorted(zip(model.feature_importances_, features))[::-1]:\n",
    "    print feat, imp"
   ]
  },
  {
   "cell_type": "code",
   "execution_count": null,
   "metadata": {
    "collapsed": true
   },
   "outputs": [],
   "source": []
  },
  {
   "cell_type": "markdown",
   "metadata": {
    "collapsed": true
   },
   "source": [
    "#### Persona \\#3"
   ]
  },
  {
   "cell_type": "code",
   "execution_count": 24,
   "metadata": {
    "collapsed": true
   },
   "outputs": [],
   "source": [
    "g = 3\n",
    "pdf3 = tdf.loc[tdf[group]==g]"
   ]
  },
  {
   "cell_type": "code",
   "execution_count": 25,
   "metadata": {
    "scrolled": true
   },
   "outputs": [
    {
     "data": {
      "text/plain": [
       "0    9943\n",
       "1    2057\n",
       "Name: target_shopped_ind, dtype: int64"
      ]
     },
     "execution_count": 25,
     "metadata": {},
     "output_type": "execute_result"
    }
   ],
   "source": [
    "pdf3[target].value_counts()"
   ]
  },
  {
   "cell_type": "code",
   "execution_count": 26,
   "metadata": {},
   "outputs": [
    {
     "name": "stderr",
     "output_type": "stream",
     "text": [
      "/Users/c01f/.virtualenvs/devel/lib/python2.7/site-packages/sklearn/model_selection/_split.py:2026: FutureWarning: From version 0.21, test_size will always complement train_size unless both are specified.\n",
      "  FutureWarning)\n"
     ]
    }
   ],
   "source": [
    "X_trn, X_tst, y_trn, y_tst = train_test_split(pdf3[features], pdf3[target], train_size=0.7, \n",
    "                                              random_state=8379, stratify=pdf3[target])"
   ]
  },
  {
   "cell_type": "code",
   "execution_count": 29,
   "metadata": {},
   "outputs": [
    {
     "name": "stdout",
     "output_type": "stream",
     "text": [
      "df size:\t12000\n",
      "train size:\t8400 8400\n",
      "test size:\t3600 3600\n"
     ]
    }
   ],
   "source": [
    "print 'df size:\\t', len(pdf3)\n",
    "print 'train size:\\t', len(X_trn), len(y_trn)\n",
    "print 'test size:\\t', len(X_tst), len(y_tst)"
   ]
  },
  {
   "cell_type": "code",
   "execution_count": 31,
   "metadata": {},
   "outputs": [
    {
     "name": "stdout",
     "output_type": "stream",
     "text": [
      "CPU times: user 6.11 s, sys: 368 ms, total: 6.48 s\n",
      "Wall time: 4min 56s\n"
     ]
    }
   ],
   "source": [
    "%%time\n",
    "SGDC = SGDClassifier(loss='log',\n",
    "                     penalty='elasticnet',\n",
    "                     max_iter=1000)\n",
    "\n",
    "param_grid = {'alpha': np.logspace(-5, 0, 6),\n",
    "              'l1_ratio': np.linspace(0, 1, 11)}\n",
    "\n",
    "GSCV_SGDC = GridSearchCV(estimator=SGDC,\n",
    "                         param_grid=param_grid,\n",
    "                         cv=5,\n",
    "                         scoring='neg_log_loss',\n",
    "                         n_jobs=-1)\n",
    "\n",
    "GSCV_SGDC.fit(X_trn, y_trn)"
   ]
  },
  {
   "cell_type": "code",
   "execution_count": 33,
   "metadata": {},
   "outputs": [
    {
     "data": {
      "text/plain": [
       "SGDClassifier(alpha=0.0001, average=False, class_weight=None, epsilon=0.1,\n",
       "       eta0=0.0, fit_intercept=True, l1_ratio=0.30000000000000004,\n",
       "       learning_rate='optimal', loss='log', max_iter=1000, n_iter=None,\n",
       "       n_jobs=1, penalty='elasticnet', power_t=0.5, random_state=None,\n",
       "       shuffle=True, tol=None, verbose=0, warm_start=False)"
      ]
     },
     "execution_count": 33,
     "metadata": {},
     "output_type": "execute_result"
    }
   ],
   "source": [
    "GSCV_SGDC.best_estimator_"
   ]
  },
  {
   "cell_type": "code",
   "execution_count": 132,
   "metadata": {},
   "outputs": [
    {
     "data": {
      "text/plain": [
       "RandomForestClassifier(bootstrap=True, class_weight=None, criterion='gini',\n",
       "            max_depth=12, max_features='auto', max_leaf_nodes=None,\n",
       "            min_impurity_decrease=0.0, min_impurity_split=None,\n",
       "            min_samples_leaf=1, min_samples_split=2,\n",
       "            min_weight_fraction_leaf=0.0, n_estimators=100, n_jobs=1,\n",
       "            oob_score=True, random_state=202741, verbose=0,\n",
       "            warm_start=False)"
      ]
     },
     "execution_count": 132,
     "metadata": {},
     "output_type": "execute_result"
    }
   ],
   "source": [
    "RFC = RandomForestClassifier(random_state=202741, oob_score=True, n_estimators=100, max_depth=12)\n",
    "RFC.fit(X_trn, y_trn)"
   ]
  },
  {
   "cell_type": "code",
   "execution_count": 133,
   "metadata": {
    "collapsed": true
   },
   "outputs": [],
   "source": [
    "predictions = model.predict(X_tst)\n",
    "pred_probs = model.predict_proba(X_tst)[:,1]"
   ]
  },
  {
   "cell_type": "code",
   "execution_count": 134,
   "metadata": {},
   "outputs": [
    {
     "name": "stdout",
     "output_type": "stream",
     "text": [
      "Estimated accuracy when generalized to test data:  0.8683649289099526\n",
      "Accuracy:\t0.8736871199557766\n",
      "Precision:\t0.672566371681416\n",
      "Recall:\t0.1532258064516129\n",
      "ROC AUC score:\t0.7677044155938089\n",
      "\n",
      "[[3085   37]\n",
      " [ 420   76]]\n"
     ]
    }
   ],
   "source": [
    "c = metrics.confusion_matrix(y_tst, predictions)\n",
    "\n",
    "print 'Estimated accuracy when generalized to test data: ', model.oob_score_\n",
    "print 'Accuracy:\\t', metrics.accuracy_score(y_tst, predictions)\n",
    "print 'Precision:\\t', metrics.precision_score(y_tst, predictions)\n",
    "print 'Recall:\\t', metrics.recall_score(y_tst, predictions)\n",
    "print 'ROC AUC score:\\t', metrics.roc_auc_score(y_tst, pred_probs)\n",
    "print \n",
    "print c"
   ]
  },
  {
   "cell_type": "code",
   "execution_count": 135,
   "metadata": {},
   "outputs": [
    {
     "name": "stdout",
     "output_type": "stream",
     "text": [
      "0.8629076838032061\n"
     ]
    }
   ],
   "source": [
    "print 1-y_tst.sum()/float(len(y_tst))"
   ]
  },
  {
   "cell_type": "code",
   "execution_count": 136,
   "metadata": {},
   "outputs": [
    {
     "name": "stdout",
     "output_type": "stream",
     "text": [
      "fl_total_trips_ly 0.11293493168558719\n",
      "fl_total_spend 0.08728915812915773\n",
      "tenure_total_months 0.058460437276307314\n",
      "fl_avg_spend_per_trip 0.05127529230901744\n",
      "holiday_full_pct_spend 0.05122091080623023\n",
      "sale_pct_items 0.03861003435133902\n",
      "holiday_light_pct_spend 0.03711021184680915\n",
      "backtoschool_pct_spend 0.036427193529207154\n",
      "web_pct_spend 0.03599140815308197\n",
      "fathers_day_pct_spend 0.0317581692085297\n",
      "spring_fashion_pct_spend 0.02967770118552033\n",
      "anniversary_public_pct_spend 0.02940408319332934\n",
      "holiday_light_pct_shopped 0.028805682038848524\n",
      "valentines_day_pct_spend 0.0285305405647871\n",
      "mens_prod_pct_spend 0.02810814920681914\n",
      "holiday_full_pct_shopped 0.02809904559959562\n",
      "rack_pct_spend 0.026695401917802085\n",
      "mothers_day_pct_spend 0.02595092304479994\n",
      "backtoschool_pct_shopped 0.025580643668079234\n",
      "december_halfyear_pct_spend 0.025382221794104133\n",
      "merch_pct_spend 0.02075423946811602\n",
      "may_halfyear_pct_spend 0.019365736769515238\n",
      "valentines_day_pct_shopped 0.017852005781339463\n",
      "fathers_day_pct_shopped 0.01630888750717338\n",
      "anniversary_public_pct_shopped 0.015227538898893162\n",
      "mothers_day_pct_shopped 0.015141536591416644\n",
      "spring_fashion_pct_shopped 0.014362127468006317\n",
      "anniversary_early_pct_spend 0.0142828147576651\n",
      "may_halfyear_pct_shopped 0.011611767835667273\n",
      "loyalty_nontender_ind 0.008961892380614673\n",
      "anniversary_early_pct_shopped 0.008819651470852367\n",
      "december_halfyear_pct_shopped 0.008559116477930338\n",
      "multichannel_ind 0.0077419104815648196\n",
      "loyalty_tender_ind 0.003698634602292897\n"
     ]
    }
   ],
   "source": [
    "for imp, feat in sorted(zip(model.feature_importances_, features))[::-1]:\n",
    "    print feat, imp"
   ]
  },
  {
   "cell_type": "code",
   "execution_count": null,
   "metadata": {
    "collapsed": true
   },
   "outputs": [],
   "source": []
  },
  {
   "cell_type": "code",
   "execution_count": null,
   "metadata": {
    "collapsed": true
   },
   "outputs": [],
   "source": []
  },
  {
   "cell_type": "code",
   "execution_count": 37,
   "metadata": {},
   "outputs": [
    {
     "name": "stdout",
     "output_type": "stream",
     "text": [
      "255.202152014\n"
     ]
    }
   ],
   "source": [
    "np.random.seed(301320)\n",
    "n_sample = 100000\n",
    "grp_col = 'persona'\n",
    "tgt_col = 'target_shopped_ind'\n",
    "grp_ord = []\n",
    "grp_cts = []\n",
    "tgt_org = []\n",
    "tgt_cts = []\n",
    "t0 = time.time()\n",
    "with gzip.open(os.path.join(dl_path,filename),'rb') as f: \n",
    "    header = f.readline().strip().split('|')\n",
    "    ix = header.index(grp_col)\n",
    "    jx = header.index(tgt_col)\n",
    "    kx = max(ix,jx)\n",
    "    for row in f:\n",
    "        row = row.split('|',kx+1)\n",
    "        g = row[ix]\n",
    "        t = row[jx]\n",
    "        if len(grp_ord) == 0 or g != grp_ord[-1]:\n",
    "            grp_ord.append(g)\n",
    "            grp_cts.append(0)\n",
    "            tgt_ord.append([t])\n",
    "            tgt_cts.append([0])\n",
    "        elif t != tgt_ord[-1]:\n",
    "            tgt_ord[-1].append(t)\n",
    "            tgt_cts[-1].append(0)\n",
    "        grp_cts[-1] += 1\n",
    "        tgt_cts[-1][-1] += 1\n",
    "    n_each = n_sample/len(grp_ord)\n",
    "    \n",
    "    skip = np.concatenate(map(lambda n,o: o - np.random.choice(n, n-n_each, replace=False), \n",
    "                              grp_cts, np.cumsum(grp_cts)))\n",
    "    skip.sort()\n",
    "    f.seek(0)\n",
    "    df = pd.read_csv(f, header=0, delimiter='|', skiprows=skip)\n",
    "print time.time() - t0"
   ]
  },
  {
   "cell_type": "code",
   "execution_count": 90,
   "metadata": {},
   "outputs": [
    {
     "data": {
      "text/plain": [
       "1"
      ]
     },
     "execution_count": 90,
     "metadata": {},
     "output_type": "execute_result"
    }
   ],
   "source": [
    "x = [5,10]\n",
    "y = np.cumsum(x)\n",
    "r = np.random.randint(sum(x))\n",
    "r = 15\n",
    "np.cumsum(x).searchsorted(r)"
   ]
  },
  {
   "cell_type": "code",
   "execution_count": 95,
   "metadata": {
    "collapsed": true
   },
   "outputs": [],
   "source": [
    "def stratify(n,t):\n",
    "    g = sum(t)\n",
    "    q = map(lambda s: int(n*s/float(g)), t)\n",
    "    while sum(q) < n:\n",
    "        r = np.random.randint(g) + 1\n",
    "        i = np.cumsum(t).searchsorted(r)\n",
    "        q[i] += 1\n",
    "    return q"
   ]
  },
  {
   "cell_type": "code",
   "execution_count": 96,
   "metadata": {
    "collapsed": true
   },
   "outputs": [],
   "source": [
    "def concat(x):\n",
    "    return reduce(lambda a,b: a+b, x, [])"
   ]
  },
  {
   "cell_type": "code",
   "execution_count": 100,
   "metadata": {},
   "outputs": [
    {
     "data": {
      "text/plain": [
       "array([  1,   2,   3,   4,   5,   6,   8,  11,  12,  13,  15,  16,  18,\n",
       "        20,  22,  23,  27,  30,  31,  34,  36,  38,  39,  40,  42,  43,\n",
       "        45,  46,  47,  48,  49,  50,  52,  53,  54,  56,  57,  59,  60,\n",
       "        62,  63,  64,  65,  66,  68,  70,  71,  72,  73,  74,  76,  77,\n",
       "        78,  80,  81,  82,  83,  84,  85,  86,  87,  88,  90,  92,  93,\n",
       "        96,  97,  98,  99, 100])"
      ]
     },
     "execution_count": 100,
     "metadata": {},
     "output_type": "execute_result"
    }
   ],
   "source": [
    "ne = 6\n",
    "grp_cts = [20,10,15,25,30]\n",
    "tgt_cts = [[10,10],[3,7],[10,5],[11,14],[11,19]]\n",
    "zz = np.concatenate(map(lambda x,y,z: z-np.random.choice(y, y-x, replace=False), concat(map(lambda t: stratify(ne,t), tgt_cts)), concat(tgt_cts), np.cumsum(concat(tgt_cts))))\n",
    "zz.sort()\n",
    "zz"
   ]
  }
 ],
 "metadata": {
  "kernelspec": {
   "display_name": "Python 2",
   "language": "python",
   "name": "python2"
  },
  "language_info": {
   "codemirror_mode": {
    "name": "ipython",
    "version": 2
   },
   "file_extension": ".py",
   "mimetype": "text/x-python",
   "name": "python",
   "nbconvert_exporter": "python",
   "pygments_lexer": "ipython2",
   "version": "2.7.13"
  }
 },
 "nbformat": 4,
 "nbformat_minor": 2
}
